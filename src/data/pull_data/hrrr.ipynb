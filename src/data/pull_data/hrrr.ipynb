{
 "cells": [
  {
   "cell_type": "code",
   "execution_count": 3,
   "metadata": {},
   "outputs": [
    {
     "ename": "ModuleNotFoundError",
     "evalue": "No module named 'herbie'",
     "output_type": "error",
     "traceback": [
      "\u001b[1;31m---------------------------------------------------------------------------\u001b[0m",
      "\u001b[1;31mModuleNotFoundError\u001b[0m                       Traceback (most recent call last)",
      "Cell \u001b[1;32mIn[3], line 2\u001b[0m\n\u001b[0;32m      1\u001b[0m \u001b[38;5;28;01mimport\u001b[39;00m \u001b[38;5;21;01mpandas\u001b[39;00m \u001b[38;5;28;01mas\u001b[39;00m \u001b[38;5;21;01mpd\u001b[39;00m\n\u001b[1;32m----> 2\u001b[0m \u001b[38;5;28;01mfrom\u001b[39;00m \u001b[38;5;21;01mherbie\u001b[39;00m \u001b[38;5;28;01mimport\u001b[39;00m Herbie\n\u001b[0;32m      3\u001b[0m \u001b[38;5;28;01mfrom\u001b[39;00m \u001b[38;5;21;01mtoolbox\u001b[39;00m \u001b[38;5;28;01mimport\u001b[39;00m EasyMap, pc\n\u001b[0;32m      4\u001b[0m \u001b[38;5;28;01mfrom\u001b[39;00m \u001b[38;5;21;01mpaint\u001b[39;00m\u001b[38;5;21;01m.\u001b[39;00m\u001b[38;5;21;01mstandard2\u001b[39;00m \u001b[38;5;28;01mimport\u001b[39;00m cm_tmp\n",
      "\u001b[1;31mModuleNotFoundError\u001b[0m: No module named 'herbie'"
     ]
    }
   ],
   "source": [
    "import pandas as pd\n",
    "from herbie import Herbie\n",
    "from toolbox import EasyMap, pc\n",
    "from paint.standard2 import cm_tmp\n",
    "\n",
    "import matplotlib.pyplot as plt\n",
    "import cartopy.crs as ccrs"
   ]
  },
  {
   "cell_type": "code",
   "execution_count": null,
   "metadata": {},
   "outputs": [],
   "source": [
    "ax = EasyMap(\"50m\", crs=ds.herbie.crs, figsize=[10, 8]).STATES().ax\n",
    "\n",
    "p = ax.pcolormesh(\n",
    "    ds.longitude,\n",
    "    ds.latitude,\n",
    "    ds.t2m,\n",
    "    transform=pc,\n",
    "    **cm_tmp(units=\"K\").cmap_kwargs,\n",
    ")\n",
    "plt.colorbar(\n",
    "    p,\n",
    "    ax=ax,\n",
    "    orientation=\"horizontal\",\n",
    "    pad=0.01,\n",
    "    shrink=0.8,\n",
    "    **cm_tmp(units=\"K\").cbar_kwargs,\n",
    ")\n",
    "\n",
    "ax.set_title(\n",
    "    f\"{ds.model.upper()}: {H.product_description}\\nValid: {ds.valid_time.dt.strftime('%H:%M UTC %d %b %Y').item()}\",\n",
    "    loc=\"left\",\n",
    ")\n",
    "ax.set_title(ds.t2m.GRIB_name, loc=\"right\")"
   ]
  }
 ],
 "metadata": {
  "kernelspec": {
   "display_name": "wildfirepy38",
   "language": "python",
   "name": "python3"
  },
  "language_info": {
   "codemirror_mode": {
    "name": "ipython",
    "version": 3
   },
   "file_extension": ".py",
   "mimetype": "text/x-python",
   "name": "python",
   "nbconvert_exporter": "python",
   "pygments_lexer": "ipython3",
   "version": "3.8.18"
  }
 },
 "nbformat": 4,
 "nbformat_minor": 2
}
