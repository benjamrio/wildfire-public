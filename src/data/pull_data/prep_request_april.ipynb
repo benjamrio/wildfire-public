{
 "cells": [
  {
   "cell_type": "code",
   "execution_count": 3,
   "metadata": {},
   "outputs": [],
   "source": [
    "import pandas as pd\n",
    "import os"
   ]
  },
  {
   "cell_type": "code",
   "execution_count": 59,
   "metadata": {},
   "outputs": [
    {
     "name": "stderr",
     "output_type": "stream",
     "text": [
      "C:\\Users\\benja\\AppData\\Local\\Temp\\ipykernel_27352\\3455486550.py:3: DtypeWarning: Columns (7,13,16,17,18,19,20,37) have mixed types. Specify dtype option on import or set low_memory=False.\n",
      "  df = pd.read_csv(os.path.join(path_to_ics209, reports_path), index_col=0)\n"
     ]
    }
   ],
   "source": [
    "path_to_ics209 = \"C:\\MIT\\RA\\data\\ics209plus-wildfire\"\n",
    "reports_path = \"ics209-plus-wf_incidents_1999to2020.csv\"\n",
    "df = pd.read_csv(os.path.join(path_to_ics209, reports_path), index_col=0)\n",
    "df = df[df[\"START_YEAR\"]>=2014]"
   ]
  },
  {
   "cell_type": "code",
   "execution_count": 60,
   "metadata": {},
   "outputs": [
    {
     "name": "stderr",
     "output_type": "stream",
     "text": [
      "C:\\Users\\benja\\AppData\\Local\\Temp\\ipykernel_27352\\2111765753.py:1: DtypeWarning: Columns (20,52,54,60,61,91,143) have mixed types. Specify dtype option on import or set low_memory=False.\n",
      "  final = pd.read_csv(\"../data/preprocessed/final_dataset.csv\", index_col=0)\n"
     ]
    }
   ],
   "source": [
    "final = pd.read_csv(\"../data/preprocessed/final_dataset.csv\", index_col=0)\n"
   ]
  },
  {
   "cell_type": "code",
   "execution_count": 61,
   "metadata": {},
   "outputs": [],
   "source": [
    "final['REPORT_FROM_DATE'] = pd.to_datetime(final['REPORT_FROM_DATE'])\n",
    "final['REPORT_TO_DATE'] = pd.to_datetime(final['REPORT_TO_DATE'])"
   ]
  },
  {
   "cell_type": "code",
   "execution_count": 62,
   "metadata": {},
   "outputs": [],
   "source": [
    "final['report_date'] = final['REPORT_FROM_DATE'] + (final['REPORT_TO_DATE'] - final['REPORT_FROM_DATE']) / 2"
   ]
  },
  {
   "cell_type": "code",
   "execution_count": 63,
   "metadata": {},
   "outputs": [
    {
     "data": {
      "text/plain": [
       "Colonne1\n",
       "120861   2015-05-06 10:15:00\n",
       "120862   2015-05-08 00:30:00\n",
       "120863   2015-05-09 00:30:00\n",
       "120864   2015-05-10 13:00:00\n",
       "120865   2015-05-07 07:15:00\n",
       "                 ...        \n",
       "165041   2018-06-10 06:45:00\n",
       "165042   2018-06-11 11:37:30\n",
       "165043   2018-06-12 05:30:00\n",
       "165044   2018-06-13 03:30:00\n",
       "165045   2018-06-14 03:30:00\n",
       "Name: report_date, Length: 37588, dtype: datetime64[ns]"
      ]
     },
     "execution_count": 63,
     "metadata": {},
     "output_type": "execute_result"
    }
   ],
   "source": [
    "final['report_date']"
   ]
  },
  {
   "cell_type": "code",
   "execution_count": 64,
   "metadata": {},
   "outputs": [],
   "source": [
    "request_df = final[['report_id', 'report_date', 'INCIDENT_ID']].merge(df[['INCIDENT_ID', 'POO_LONGITUDE', 'POO_LATITUDE']], on='INCIDENT_ID', how='inner')"
   ]
  },
  {
   "cell_type": "code",
   "execution_count": 67,
   "metadata": {},
   "outputs": [],
   "source": [
    "request_df.to_csv(\"../data/preprocessed/new_request.csv\")"
   ]
  },
  {
   "cell_type": "code",
   "execution_count": 66,
   "metadata": {},
   "outputs": [
    {
     "data": {
      "text/html": [
       "<div>\n",
       "<style scoped>\n",
       "    .dataframe tbody tr th:only-of-type {\n",
       "        vertical-align: middle;\n",
       "    }\n",
       "\n",
       "    .dataframe tbody tr th {\n",
       "        vertical-align: top;\n",
       "    }\n",
       "\n",
       "    .dataframe thead th {\n",
       "        text-align: right;\n",
       "    }\n",
       "</style>\n",
       "<table border=\"1\" class=\"dataframe\">\n",
       "  <thead>\n",
       "    <tr style=\"text-align: right;\">\n",
       "      <th></th>\n",
       "      <th>report_id</th>\n",
       "      <th>report_date</th>\n",
       "      <th>INCIDENT_ID</th>\n",
       "      <th>POO_LONGITUDE</th>\n",
       "      <th>POO_LATITUDE</th>\n",
       "    </tr>\n",
       "  </thead>\n",
       "  <tbody>\n",
       "    <tr>\n",
       "      <th>0</th>\n",
       "      <td>2714023</td>\n",
       "      <td>2015-05-06 10:15:00</td>\n",
       "      <td>2015_2714022_BAYLE MOUNTAIN</td>\n",
       "      <td>-71.25</td>\n",
       "      <td>43.78</td>\n",
       "    </tr>\n",
       "    <tr>\n",
       "      <th>1</th>\n",
       "      <td>2714037</td>\n",
       "      <td>2015-05-08 00:30:00</td>\n",
       "      <td>2015_2714022_BAYLE MOUNTAIN</td>\n",
       "      <td>-71.25</td>\n",
       "      <td>43.78</td>\n",
       "    </tr>\n",
       "    <tr>\n",
       "      <th>2</th>\n",
       "      <td>2714050</td>\n",
       "      <td>2015-05-09 00:30:00</td>\n",
       "      <td>2015_2714022_BAYLE MOUNTAIN</td>\n",
       "      <td>-71.25</td>\n",
       "      <td>43.78</td>\n",
       "    </tr>\n",
       "    <tr>\n",
       "      <th>3</th>\n",
       "      <td>2714066</td>\n",
       "      <td>2015-05-10 13:00:00</td>\n",
       "      <td>2015_2714022_BAYLE MOUNTAIN</td>\n",
       "      <td>-71.25</td>\n",
       "      <td>43.78</td>\n",
       "    </tr>\n",
       "    <tr>\n",
       "      <th>4</th>\n",
       "      <td>2714082</td>\n",
       "      <td>2015-05-07 07:15:00</td>\n",
       "      <td>2015_2714081_BOOT COVE FIRE</td>\n",
       "      <td>-67.01</td>\n",
       "      <td>44.79</td>\n",
       "    </tr>\n",
       "    <tr>\n",
       "      <th>...</th>\n",
       "      <td>...</td>\n",
       "      <td>...</td>\n",
       "      <td>...</td>\n",
       "      <td>...</td>\n",
       "      <td>...</td>\n",
       "    </tr>\n",
       "    <tr>\n",
       "      <th>37502</th>\n",
       "      <td>9276418</td>\n",
       "      <td>2018-06-10 06:45:00</td>\n",
       "      <td>2018_9276339_STRAWBERRY RIVER</td>\n",
       "      <td>-110.79</td>\n",
       "      <td>40.12</td>\n",
       "    </tr>\n",
       "    <tr>\n",
       "      <th>37503</th>\n",
       "      <td>9276340</td>\n",
       "      <td>2018-06-11 11:37:30</td>\n",
       "      <td>2018_9276339_STRAWBERRY RIVER</td>\n",
       "      <td>-110.79</td>\n",
       "      <td>40.12</td>\n",
       "    </tr>\n",
       "    <tr>\n",
       "      <th>37504</th>\n",
       "      <td>9276364</td>\n",
       "      <td>2018-06-12 05:30:00</td>\n",
       "      <td>2018_9276339_STRAWBERRY RIVER</td>\n",
       "      <td>-110.79</td>\n",
       "      <td>40.12</td>\n",
       "    </tr>\n",
       "    <tr>\n",
       "      <th>37505</th>\n",
       "      <td>9276401</td>\n",
       "      <td>2018-06-13 03:30:00</td>\n",
       "      <td>2018_9276339_STRAWBERRY RIVER</td>\n",
       "      <td>-110.79</td>\n",
       "      <td>40.12</td>\n",
       "    </tr>\n",
       "    <tr>\n",
       "      <th>37506</th>\n",
       "      <td>9276382</td>\n",
       "      <td>2018-06-14 03:30:00</td>\n",
       "      <td>2018_9276339_STRAWBERRY RIVER</td>\n",
       "      <td>-110.79</td>\n",
       "      <td>40.12</td>\n",
       "    </tr>\n",
       "  </tbody>\n",
       "</table>\n",
       "<p>37507 rows × 5 columns</p>\n",
       "</div>"
      ],
      "text/plain": [
       "       report_id         report_date                    INCIDENT_ID  \\\n",
       "0        2714023 2015-05-06 10:15:00    2015_2714022_BAYLE MOUNTAIN   \n",
       "1        2714037 2015-05-08 00:30:00    2015_2714022_BAYLE MOUNTAIN   \n",
       "2        2714050 2015-05-09 00:30:00    2015_2714022_BAYLE MOUNTAIN   \n",
       "3        2714066 2015-05-10 13:00:00    2015_2714022_BAYLE MOUNTAIN   \n",
       "4        2714082 2015-05-07 07:15:00    2015_2714081_BOOT COVE FIRE   \n",
       "...          ...                 ...                            ...   \n",
       "37502    9276418 2018-06-10 06:45:00  2018_9276339_STRAWBERRY RIVER   \n",
       "37503    9276340 2018-06-11 11:37:30  2018_9276339_STRAWBERRY RIVER   \n",
       "37504    9276364 2018-06-12 05:30:00  2018_9276339_STRAWBERRY RIVER   \n",
       "37505    9276401 2018-06-13 03:30:00  2018_9276339_STRAWBERRY RIVER   \n",
       "37506    9276382 2018-06-14 03:30:00  2018_9276339_STRAWBERRY RIVER   \n",
       "\n",
       "       POO_LONGITUDE  POO_LATITUDE  \n",
       "0             -71.25         43.78  \n",
       "1             -71.25         43.78  \n",
       "2             -71.25         43.78  \n",
       "3             -71.25         43.78  \n",
       "4             -67.01         44.79  \n",
       "...              ...           ...  \n",
       "37502        -110.79         40.12  \n",
       "37503        -110.79         40.12  \n",
       "37504        -110.79         40.12  \n",
       "37505        -110.79         40.12  \n",
       "37506        -110.79         40.12  \n",
       "\n",
       "[37507 rows x 5 columns]"
      ]
     },
     "execution_count": 66,
     "metadata": {},
     "output_type": "execute_result"
    }
   ],
   "source": [
    "request_df"
   ]
  }
 ],
 "metadata": {
  "kernelspec": {
   "display_name": "wildfirepy38",
   "language": "python",
   "name": "python3"
  },
  "language_info": {
   "codemirror_mode": {
    "name": "ipython",
    "version": 3
   },
   "file_extension": ".py",
   "mimetype": "text/x-python",
   "name": "python",
   "nbconvert_exporter": "python",
   "pygments_lexer": "ipython3",
   "version": "3.8.18"
  }
 },
 "nbformat": 4,
 "nbformat_minor": 2
}
