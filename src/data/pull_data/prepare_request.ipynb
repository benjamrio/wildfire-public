{
 "cells": [
  {
   "cell_type": "code",
   "execution_count": 1,
   "metadata": {},
   "outputs": [],
   "source": [
    "import pandas as pd"
   ]
  },
  {
   "cell_type": "code",
   "execution_count": 2,
   "metadata": {},
   "outputs": [
    {
     "name": "stderr",
     "output_type": "stream",
     "text": [
      "C:\\Users\\benja\\AppData\\Local\\Temp\\ipykernel_25228\\3241020396.py:2: DtypeWarning: Columns (7,13,16,17,18,19,20,37) have mixed types. Specify dtype option on import or set low_memory=False.\n",
      "  df = pd.read_csv(df_path, index_col=0)\n"
     ]
    }
   ],
   "source": [
    "df_path = \"C:\\MIT\\RA\\data\\ics209plus-wildfire\\ics209-plus-wf_incidents_1999to2020.csv\"\n",
    "df = pd.read_csv(df_path, index_col=0)"
   ]
  },
  {
   "cell_type": "code",
   "execution_count": 4,
   "metadata": {},
   "outputs": [
    {
     "name": "stdout",
     "output_type": "stream",
     "text": [
      "                            OLS Regression Results                            \n",
      "==============================================================================\n",
      "Dep. Variable:     LRGST_FOD_LATITUDE   R-squared:                       0.999\n",
      "Model:                            OLS   Adj. R-squared:                  0.999\n",
      "Method:                 Least Squares   F-statistic:                 2.432e+07\n",
      "Date:                Thu, 08 Feb 2024   Prob (F-statistic):               0.00\n",
      "Time:                        19:02:48   Log-Likelihood:                -2999.5\n",
      "No. Observations:               29914   AIC:                             6003.\n",
      "Df Residuals:                   29912   BIC:                             6020.\n",
      "Df Model:                           1                                         \n",
      "Covariance Type:            nonrobust                                         \n",
      "================================================================================\n",
      "                   coef    std err          t      P>|t|      [0.025      0.975]\n",
      "--------------------------------------------------------------------------------\n",
      "const            0.0307      0.008      3.852      0.000       0.015       0.046\n",
      "POO_LATITUDE     0.9993      0.000   4931.688      0.000       0.999       1.000\n",
      "==============================================================================\n",
      "Omnibus:                    50902.083   Durbin-Watson:                   1.993\n",
      "Prob(Omnibus):                  0.000   Jarque-Bera (JB):        703714250.482\n",
      "Skew:                          10.665   Prob(JB):                         0.00\n",
      "Kurtosis:                     754.089   Cond. No.                         203.\n",
      "==============================================================================\n",
      "\n",
      "Notes:\n",
      "[1] Standard Errors assume that the covariance matrix of the errors is correctly specified.\n"
     ]
    },
    {
     "data": {
      "text/plain": [
       "<matplotlib.collections.PathCollection at 0x259c1e37070>"
      ]
     },
     "execution_count": 4,
     "metadata": {},
     "output_type": "execute_result"
    },
    {
     "data": {
      "image/png": "[encoded data removed]",
      "text/plain": [
       "<Figure size 640x480 with 1 Axes>"
      ]
     },
     "metadata": {},
     "output_type": "display_data"
    }
   ],
   "source": [
    "import matplotlib.pyplot as plt\n",
    "import statsmodels.api as sm\n",
    "subdf=df.dropna(subset=['POO_LATITUDE', 'LRGST_FOD_LATITUDE'])\n",
    "X = subdf['POO_LATITUDE']\n",
    "y = subdf['LRGST_FOD_LATITUDE']\n",
    "X = sm.add_constant(X)\n",
    "model = sm.OLS(y, X).fit()\n",
    "print(model.summary())\n",
    "plt.scatter(df['POO_LATITUDE'], df['LRGST_FOD_LATITUDE'])"
   ]
  },
  {
   "cell_type": "code",
   "execution_count": 18,
   "metadata": {},
   "outputs": [
    {
     "data": {
      "text/plain": [
       "INCIDENT_ID             34622\n",
       "INCIDENT_NUMBER         29937\n",
       "INCIDENT_NAME           27501\n",
       "INCIDENT_DESCRIPTION      741\n",
       "INC_IDENTIFIER          11449\n",
       "LL_CONFIDENCE               4\n",
       "INCIDENT_ID_OLD         11444\n",
       "FODJ_INCIDENT_ID        29960\n",
       "FOD_ID_LIST             29922\n",
       "LRGST_FOD_ID            29922\n",
       "FIRED_ID                14787\n",
       "dtype: int64"
      ]
     },
     "execution_count": 18,
     "metadata": {},
     "output_type": "execute_result"
    }
   ],
   "source": [
    "df[[col for col in df.columns if \"id\" in col.lower()]].nunique()"
   ]
  }
 ],
 "metadata": {
  "kernelspec": {
   "display_name": "wildfirepy38",
   "language": "python",
   "name": "python3"
  },
  "language_info": {
   "codemirror_mode": {
    "name": "ipython",
    "version": 3
   },
   "file_extension": ".py",
   "mimetype": "text/x-python",
   "name": "python",
   "nbconvert_exporter": "python",
   "pygments_lexer": "ipython3",
   "version": "3.8.18"
  }
 },
 "nbformat": 4,
 "nbformat_minor": 2
}
