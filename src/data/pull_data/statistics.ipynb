{
 "cells": [
  {
   "cell_type": "code",
   "execution_count": 1,
   "metadata": {},
   "outputs": [],
   "source": [
    "import pandas as pd\n",
    "import numpy as np\n",
    "import matplotlib.pyplot as plt\n",
    "import os"
   ]
  },
  {
   "cell_type": "code",
   "execution_count": 2,
   "metadata": {},
   "outputs": [
    {
     "name": "stderr",
     "output_type": "stream",
     "text": [
      "C:\\Users\\benja\\AppData\\Local\\Temp\\ipykernel_14504\\3455486550.py:3: DtypeWarning: Columns (7,13,16,17,18,19,20,37) have mixed types. Specify dtype option on import or set low_memory=False.\n",
      "  df = pd.read_csv(os.path.join(path_to_ics209, reports_path), index_col=0)\n"
     ]
    }
   ],
   "source": [
    "path_to_ics209 = \"C:\\MIT\\RA\\data\\ics209plus-wildfire\"\n",
    "reports_path = \"ics209-plus-wf_incidents_1999to2020.csv\"\n",
    "df = pd.read_csv(os.path.join(path_to_ics209, reports_path), index_col=0)\n",
    "df = df[df[\"START_YEAR\"]>=2014]"
   ]
  },
  {
   "cell_type": "code",
   "execution_count": 3,
   "metadata": {},
   "outputs": [],
   "source": [
    "# will have: id, first date, poo\n",
    "output_df = pd.DataFrame()"
   ]
  },
  {
   "cell_type": "markdown",
   "metadata": {},
   "source": [
    "# Create features"
   ]
  },
  {
   "cell_type": "markdown",
   "metadata": {},
   "source": [
    "## Identifier"
   ]
  },
  {
   "cell_type": "code",
   "execution_count": 3,
   "metadata": {},
   "outputs": [
    {
     "ename": "NameError",
     "evalue": "name 'output_df' is not defined",
     "output_type": "error",
     "traceback": [
      "\u001b[1;31m---------------------------------------------------------------------------\u001b[0m",
      "\u001b[1;31mNameError\u001b[0m                                 Traceback (most recent call last)",
      "Cell \u001b[1;32mIn[3], line 2\u001b[0m\n\u001b[0;32m      1\u001b[0m \u001b[38;5;28;01massert\u001b[39;00m df[\u001b[38;5;124m\"\u001b[39m\u001b[38;5;124mINCIDENT_ID\u001b[39m\u001b[38;5;124m\"\u001b[39m]\u001b[38;5;241m.\u001b[39mduplicated()\u001b[38;5;241m.\u001b[39msum() \u001b[38;5;241m==\u001b[39m \u001b[38;5;241m0\u001b[39m\n\u001b[1;32m----> 2\u001b[0m \u001b[43moutput_df\u001b[49m[\u001b[38;5;124m\"\u001b[39m\u001b[38;5;124mfire_id\u001b[39m\u001b[38;5;124m\"\u001b[39m] \u001b[38;5;241m=\u001b[39m df[\u001b[38;5;124m\"\u001b[39m\u001b[38;5;124mINCIDENT_ID\u001b[39m\u001b[38;5;124m\"\u001b[39m]\n\u001b[0;32m      3\u001b[0m output_df[\u001b[38;5;124m\"\u001b[39m\u001b[38;5;124mid\u001b[39m\u001b[38;5;124m\"\u001b[39m] \u001b[38;5;241m=\u001b[39m df[\u001b[38;5;124m'\u001b[39m\u001b[38;5;124mINC_IDENTIFIER\u001b[39m\u001b[38;5;124m'\u001b[39m]\u001b[38;5;241m.\u001b[39mastype(\u001b[38;5;28mint\u001b[39m)\u001b[38;5;241m.\u001b[39mastype(\u001b[38;5;28mstr\u001b[39m)\n",
      "\u001b[1;31mNameError\u001b[0m: name 'output_df' is not defined"
     ]
    }
   ],
   "source": [
    "assert df[\"INCIDENT_ID\"].duplicated().sum() == 0\n",
    "output_df[\"fire_id\"] = df[\"INCIDENT_ID\"]\n",
    "output_df[\"id\"] = df['INC_IDENTIFIER'].astype(int).astype(str)"
   ]
  },
  {
   "cell_type": "code",
   "execution_count": null,
   "metadata": {},
   "outputs": [
    {
     "data": {
      "text/plain": [
       "'2714022'"
      ]
     },
     "execution_count": 40,
     "metadata": {},
     "output_type": "execute_result"
    }
   ],
   "source": [
    "output_df[\"fire_id\"].iloc[0].split(\"_\")[1]"
   ]
  },
  {
   "cell_type": "code",
   "execution_count": null,
   "metadata": {},
   "outputs": [],
   "source": [
    "output_df[\"test\"] = output_df[\"fire_id\"].apply(lambda x: x.split(\"_\")[1] )"
   ]
  },
  {
   "cell_type": "code",
   "execution_count": null,
   "metadata": {},
   "outputs": [
    {
     "data": {
      "text/plain": [
       "0"
      ]
     },
     "execution_count": 43,
     "metadata": {},
     "output_type": "execute_result"
    },
    {
     "ename": "",
     "evalue": "",
     "output_type": "error",
     "traceback": [
      "\u001b[1;31mThe Kernel crashed while executing code in the current cell or a previous cell. \n",
      "\u001b[1;31mPlease review the code in the cell(s) to identify a possible cause of the failure. \n",
      "\u001b[1;31mClick <a href='https://aka.ms/vscodeJupyterKernelCrash'>here</a> for more info. \n",
      "\u001b[1;31mView Jupyter <a href='command:jupyter.viewOutput'>log</a> for further details."
     ]
    }
   ],
   "source": [
    "(output_df[\"test\"] != output_df['id']).sum()"
   ]
  },
  {
   "cell_type": "markdown",
   "metadata": {},
   "source": [
    "## First Date"
   ]
  },
  {
   "cell_type": "code",
   "execution_count": 4,
   "metadata": {},
   "outputs": [
    {
     "name": "stderr",
     "output_type": "stream",
     "text": [
      "C:\\Users\\benja\\AppData\\Local\\Temp\\ipykernel_14504\\1058149737.py:1: DtypeWarning: Columns (20,52,54,60,61,91,143) have mixed types. Specify dtype option on import or set low_memory=False.\n",
      "  final = pd.read_csv(\"../data/preprocessed/final_dataset.csv\", index_col=0)\n",
      "C:\\Users\\benja\\AppData\\Local\\Temp\\ipykernel_14504\\1058149737.py:7: UserWarning: Could not infer format, so each element will be parsed individually, falling back to `dateutil`. To ensure parsing is consistent and as-expected, please specify a format.\n",
      "  _ = pd.to_datetime(final[col], errors='raise')\n",
      "C:\\Users\\benja\\AppData\\Local\\Temp\\ipykernel_14504\\1058149737.py:7: UserWarning: Could not infer format, so each element will be parsed individually, falling back to `dateutil`. To ensure parsing is consistent and as-expected, please specify a format.\n",
      "  _ = pd.to_datetime(final[col], errors='raise')\n",
      "C:\\Users\\benja\\AppData\\Local\\Temp\\ipykernel_14504\\1058149737.py:7: UserWarning: Could not infer format, so each element will be parsed individually, falling back to `dateutil`. To ensure parsing is consistent and as-expected, please specify a format.\n",
      "  _ = pd.to_datetime(final[col], errors='raise')\n",
      "C:\\Users\\benja\\AppData\\Local\\Temp\\ipykernel_14504\\1058149737.py:7: UserWarning: Could not infer format, so each element will be parsed individually, falling back to `dateutil`. To ensure parsing is consistent and as-expected, please specify a format.\n",
      "  _ = pd.to_datetime(final[col], errors='raise')\n",
      "C:\\Users\\benja\\AppData\\Local\\Temp\\ipykernel_14504\\1058149737.py:7: UserWarning: Could not infer format, so each element will be parsed individually, falling back to `dateutil`. To ensure parsing is consistent and as-expected, please specify a format.\n",
      "  _ = pd.to_datetime(final[col], errors='raise')\n",
      "C:\\Users\\benja\\AppData\\Local\\Temp\\ipykernel_14504\\1058149737.py:7: UserWarning: Could not infer format, so each element will be parsed individually, falling back to `dateutil`. To ensure parsing is consistent and as-expected, please specify a format.\n",
      "  _ = pd.to_datetime(final[col], errors='raise')\n",
      "C:\\Users\\benja\\AppData\\Local\\Temp\\ipykernel_14504\\1058149737.py:7: UserWarning: Could not infer format, so each element will be parsed individually, falling back to `dateutil`. To ensure parsing is consistent and as-expected, please specify a format.\n",
      "  _ = pd.to_datetime(final[col], errors='raise')\n",
      "C:\\Users\\benja\\AppData\\Local\\Temp\\ipykernel_14504\\1058149737.py:7: UserWarning: Could not infer format, so each element will be parsed individually, falling back to `dateutil`. To ensure parsing is consistent and as-expected, please specify a format.\n",
      "  _ = pd.to_datetime(final[col], errors='raise')\n",
      "C:\\Users\\benja\\AppData\\Local\\Temp\\ipykernel_14504\\1058149737.py:7: UserWarning: Could not infer format, so each element will be parsed individually, falling back to `dateutil`. To ensure parsing is consistent and as-expected, please specify a format.\n",
      "  _ = pd.to_datetime(final[col], errors='raise')\n"
     ]
    },
    {
     "name": "stdout",
     "output_type": "stream",
     "text": [
      "          DISCOVERY_DATE REPORT_FROM_DATE   REPORT_TO_DATE  \\\n",
      "Colonne1                                                     \n",
      "120861     5/5/2015 9:30    5/5/2015 9:30   5/7/2015 11:00   \n",
      "120862     5/5/2015 9:30   5/7/2015 11:00   5/8/2015 14:00   \n",
      "120863     5/5/2015 9:30   5/8/2015 11:00   5/9/2015 14:00   \n",
      "120864     5/5/2015 9:30   5/9/2015 15:00  5/11/2015 11:00   \n",
      "120865    5/6/2015 20:30   5/6/2015 20:30   5/7/2015 18:00   \n",
      "...                  ...              ...              ...   \n",
      "165041    6/9/2018 19:25   6/9/2018 19:30  6/10/2018 18:00   \n",
      "165042    6/9/2018 19:25   6/11/2018 7:00  6/11/2018 16:15   \n",
      "165043    6/9/2018 19:25  6/11/2018 19:00  6/12/2018 16:00   \n",
      "165044    6/9/2018 19:25  6/12/2018 16:00  6/13/2018 15:00   \n",
      "165045    6/9/2018 19:25  6/13/2018 15:00  6/14/2018 16:00   \n",
      "\n",
      "                 CREATED_DATE   LAST_MODIFIED_DATE  \n",
      "Colonne1                                            \n",
      "120861    2015-05-11 13:45:28  2015-06-03 16:47:25  \n",
      "120862    2015-05-11 13:45:28  2015-06-03 16:47:25  \n",
      "120863    2015-05-11 13:45:28  2015-06-03 16:47:25  \n",
      "120864    2015-05-11 13:45:28  2015-06-03 16:47:25  \n",
      "120865    2015-05-10 10:48:28  2015-05-10 10:48:28  \n",
      "...                       ...                  ...  \n",
      "165041    2018-06-21 17:24:20  2018-06-21 17:24:20  \n",
      "165042    2018-06-21 17:24:20  2018-06-21 17:24:20  \n",
      "165043    2018-06-21 17:24:20  2018-06-21 17:24:20  \n",
      "165044    2018-06-21 17:24:20  2018-06-21 17:24:20  \n",
      "165045    2018-06-21 17:24:20  2018-06-21 17:24:20  \n",
      "\n",
      "[37588 rows x 5 columns]\n"
     ]
    },
    {
     "name": "stderr",
     "output_type": "stream",
     "text": [
      "C:\\Users\\benja\\AppData\\Local\\Temp\\ipykernel_14504\\1058149737.py:7: UserWarning: Could not infer format, so each element will be parsed individually, falling back to `dateutil`. To ensure parsing is consistent and as-expected, please specify a format.\n",
      "  _ = pd.to_datetime(final[col], errors='raise')\n",
      "C:\\Users\\benja\\AppData\\Local\\Temp\\ipykernel_14504\\1058149737.py:7: UserWarning: Could not infer format, so each element will be parsed individually, falling back to `dateutil`. To ensure parsing is consistent and as-expected, please specify a format.\n",
      "  _ = pd.to_datetime(final[col], errors='raise')\n"
     ]
    }
   ],
   "source": [
    "final = pd.read_csv(\"../data/preprocessed/final_dataset.csv\", index_col=0)\n",
    "date_columns = [col for col in final.columns if pd.api.types.is_string_dtype(final[col])]\n",
    "date_like_columns = []\n",
    "\n",
    "for col in date_columns:\n",
    "    try:\n",
    "        _ = pd.to_datetime(final[col], errors='raise')\n",
    "        date_like_columns.append(col)\n",
    "    except ValueError:\n",
    "        continue\n",
    "df_dates = final[date_like_columns]\n",
    "print(df_dates)"
   ]
  },
  {
   "cell_type": "code",
   "execution_count": 5,
   "metadata": {},
   "outputs": [],
   "source": [
    "final['DISCOVERY_DATE'] = pd.to_datetime(final['DISCOVERY_DATE'])\n",
    "final['REPORT_FROM_DATE'] = pd.to_datetime(final['REPORT_FROM_DATE'])"
   ]
  },
  {
   "cell_type": "code",
   "execution_count": 6,
   "metadata": {},
   "outputs": [],
   "source": [
    "grouped_serie = final.groupby(\"INCIDENT_ID\")\n",
    "disco_diffs = grouped_serie.apply(lambda x: np.abs(x['DISCOVERY_DATE'].min()-x['DISCOVERY_DATE'].max()))\n",
    "disco_diffs = disco_diffs[disco_diffs.dt.total_seconds()>0]\n",
    "disco_diffs_days = disco_diffs.dt.total_seconds() / (3600 * 24)"
   ]
  },
  {
   "cell_type": "code",
   "execution_count": 7,
   "metadata": {},
   "outputs": [
    {
     "data": {
      "image/png": "[encoded data removed]",
      "text/plain": [
       "<Figure size 1000x400 with 1 Axes>"
      ]
     },
     "metadata": {},
     "output_type": "display_data"
    }
   ],
   "source": [
    "fig, ax = plt.subplots(figsize=(10, 4))\n",
    "counts, bins, patches = ax.hist(disco_diffs_days, bins=30, edgecolor='k')\n",
    "\n",
    "for count, bin, patch in zip(counts, bins, patches):\n",
    "    if count>0:\n",
    "      height = patch.get_height()\n",
    "      ax.annotate(f'{int(count)}',\n",
    "                  xy=(bin, height),\n",
    "                  xytext=(8, 0),\n",
    "                  textcoords=\"offset points\",\n",
    "                  ha='center',\n",
    "                  va='bottom')\n",
    "\n",
    "plt.xlabel('Difference in Days')\n",
    "plt.ylabel('Frequency')\n",
    "plt.title('Distribution of Discovery Date Differences')\n",
    "plt.xticks(np.arange(min(disco_diffs_days), max(disco_diffs_days) + 1, step=5))\n",
    "plt.show()"
   ]
  },
  {
   "cell_type": "code",
   "execution_count": 8,
   "metadata": {},
   "outputs": [
    {
     "data": {
      "text/plain": [
       "Timedelta('68 days 07:36:00')"
      ]
     },
     "execution_count": 8,
     "metadata": {},
     "output_type": "execute_result"
    }
   ],
   "source": [
    "disco_diffs.sort_values().iloc[-1]"
   ]
  },
  {
   "cell_type": "code",
   "execution_count": 9,
   "metadata": {},
   "outputs": [
    {
     "data": {
      "text/plain": [
       "INCIDENT_ID\n",
       "2015_2858198_BEAR LAKE             68 days 07:36:00\n",
       "2018_9080368_HWY 97 & MP 37        51 days 21:56:00\n",
       "2016_4295998_GLEASON               35 days 00:00:00\n",
       "2016_4300226_BOX SPRINGS ROAD      31 days 00:00:00\n",
       "2015_2766495_PARADISE              30 days 23:00:00\n",
       "                                         ...       \n",
       "2017_7134172_ALAMO                  0 days 00:01:00\n",
       "2018_9058300_ARCHER CITY COMPLEX    0 days 00:01:00\n",
       "2016_4385912_WEIGH STATION          0 days 00:01:00\n",
       "2017_7233781_MM19                   0 days 00:01:00\n",
       "2015_2714466_BOLGEN CREEK           0 days 00:01:00\n",
       "Length: 346, dtype: timedelta64[ns]"
      ]
     },
     "execution_count": 9,
     "metadata": {},
     "output_type": "execute_result"
    }
   ],
   "source": [
    "disco_diffs.sort_values(ascending=False)"
   ]
  },
  {
   "cell_type": "code",
   "execution_count": 10,
   "metadata": {},
   "outputs": [
    {
     "data": {
      "text/html": [
       "<div>\n",
       "<style scoped>\n",
       "    .dataframe tbody tr th:only-of-type {\n",
       "        vertical-align: middle;\n",
       "    }\n",
       "\n",
       "    .dataframe tbody tr th {\n",
       "        vertical-align: top;\n",
       "    }\n",
       "\n",
       "    .dataframe thead th {\n",
       "        text-align: right;\n",
       "    }\n",
       "</style>\n",
       "<table border=\"1\" class=\"dataframe\">\n",
       "  <thead>\n",
       "    <tr style=\"text-align: right;\">\n",
       "      <th></th>\n",
       "      <th>INCIDENT_ID</th>\n",
       "      <th>DISCOVERY_DATE_x</th>\n",
       "      <th>REPORT_FROM_DATE</th>\n",
       "      <th>REPORT_TO_DATE</th>\n",
       "      <th>ACRES</th>\n",
       "      <th>EST_IM_COST_TO_DATE</th>\n",
       "      <th>DISCOVERY_DATE_y</th>\n",
       "    </tr>\n",
       "  </thead>\n",
       "  <tbody>\n",
       "    <tr>\n",
       "      <th>0</th>\n",
       "      <td>2018_9080368_HWY 97 &amp; MP 37</td>\n",
       "      <td>2018-07-14 11:41:00</td>\n",
       "      <td>2018-07-14 11:45:00</td>\n",
       "      <td>7/15/2018 20:00</td>\n",
       "      <td>630.0</td>\n",
       "      <td>150000.0</td>\n",
       "      <td>2018-05-23 13:45:00</td>\n",
       "    </tr>\n",
       "    <tr>\n",
       "      <th>1</th>\n",
       "      <td>2018_9080368_HWY 97 &amp; MP 37</td>\n",
       "      <td>2018-07-14 11:41:00</td>\n",
       "      <td>2018-07-16 10:30:00</td>\n",
       "      <td>7/16/2018 19:00</td>\n",
       "      <td>630.0</td>\n",
       "      <td>300000.0</td>\n",
       "      <td>2018-05-23 13:45:00</td>\n",
       "    </tr>\n",
       "    <tr>\n",
       "      <th>2</th>\n",
       "      <td>2018_9080368_HWY 97 &amp; MP 37</td>\n",
       "      <td>2018-07-14 11:41:00</td>\n",
       "      <td>2018-07-16 20:15:00</td>\n",
       "      <td>7/17/2018 16:00</td>\n",
       "      <td>630.0</td>\n",
       "      <td>355000.0</td>\n",
       "      <td>2018-05-23 13:45:00</td>\n",
       "    </tr>\n",
       "    <tr>\n",
       "      <th>3</th>\n",
       "      <td>2018_9080368_HWY 97 &amp; MP 37</td>\n",
       "      <td>2018-05-23 13:45:00</td>\n",
       "      <td>2018-07-23 10:00:00</td>\n",
       "      <td>7/23/2018 13:45</td>\n",
       "      <td>763.0</td>\n",
       "      <td>500000.0</td>\n",
       "      <td>2018-05-23 13:45:00</td>\n",
       "    </tr>\n",
       "  </tbody>\n",
       "</table>\n",
       "</div>"
      ],
      "text/plain": [
       "                   INCIDENT_ID    DISCOVERY_DATE_x    REPORT_FROM_DATE  \\\n",
       "0  2018_9080368_HWY 97 & MP 37 2018-07-14 11:41:00 2018-07-14 11:45:00   \n",
       "1  2018_9080368_HWY 97 & MP 37 2018-07-14 11:41:00 2018-07-16 10:30:00   \n",
       "2  2018_9080368_HWY 97 & MP 37 2018-07-14 11:41:00 2018-07-16 20:15:00   \n",
       "3  2018_9080368_HWY 97 & MP 37 2018-05-23 13:45:00 2018-07-23 10:00:00   \n",
       "\n",
       "    REPORT_TO_DATE  ACRES  EST_IM_COST_TO_DATE     DISCOVERY_DATE_y  \n",
       "0  7/15/2018 20:00  630.0             150000.0  2018-05-23 13:45:00  \n",
       "1  7/16/2018 19:00  630.0             300000.0  2018-05-23 13:45:00  \n",
       "2  7/17/2018 16:00  630.0             355000.0  2018-05-23 13:45:00  \n",
       "3  7/23/2018 13:45  763.0             500000.0  2018-05-23 13:45:00  "
      ]
     },
     "execution_count": 10,
     "metadata": {},
     "output_type": "execute_result"
    }
   ],
   "source": [
    "biggest_difference = disco_diffs.sort_values(ascending=False).index[1]\n",
    "study = final[final['INCIDENT_ID']==biggest_difference][['INCIDENT_ID', 'DISCOVERY_DATE', 'REPORT_FROM_DATE', 'REPORT_TO_DATE', 'ACRES', 'EST_IM_COST_TO_DATE']]\n",
    "study.merge(df[['INCIDENT_ID', 'DISCOVERY_DATE']], on=\"INCIDENT_ID\")"
   ]
  },
  {
   "cell_type": "markdown",
   "metadata": {},
   "source": [
    "weird things happen: we would want to take the smallest discovery date (as done by ics-data-plus) but this leads to weird results=> for example, index = 1 leads to a discovery date two months before the report\n",
    "we want data that goes along the reports\n",
    "\n",
    "we will take the first report date"
   ]
  },
  {
   "cell_type": "code",
   "execution_count": 11,
   "metadata": {},
   "outputs": [
    {
     "ename": "NameError",
     "evalue": "name 'output_df' is not defined",
     "output_type": "error",
     "traceback": [
      "\u001b[1;31m---------------------------------------------------------------------------\u001b[0m",
      "\u001b[1;31mNameError\u001b[0m                                 Traceback (most recent call last)",
      "Cell \u001b[1;32mIn[11], line 2\u001b[0m\n\u001b[0;32m      1\u001b[0m start_dates \u001b[38;5;241m=\u001b[39m final\u001b[38;5;241m.\u001b[39mgroupby(\u001b[38;5;124m'\u001b[39m\u001b[38;5;124mINCIDENT_ID\u001b[39m\u001b[38;5;124m'\u001b[39m)[\u001b[38;5;124m'\u001b[39m\u001b[38;5;124mREPORT_FROM_DATE\u001b[39m\u001b[38;5;124m'\u001b[39m]\u001b[38;5;241m.\u001b[39mmin()\u001b[38;5;241m.\u001b[39mrename(\u001b[38;5;124m\"\u001b[39m\u001b[38;5;124mstart_date\u001b[39m\u001b[38;5;124m\"\u001b[39m)\n\u001b[1;32m----> 2\u001b[0m old_df \u001b[38;5;241m=\u001b[39m \u001b[43moutput_df\u001b[49m\u001b[38;5;241m.\u001b[39mcopy()\n",
      "\u001b[1;31mNameError\u001b[0m: name 'output_df' is not defined"
     ]
    }
   ],
   "source": [
    "start_dates = final.groupby('INCIDENT_ID')['REPORT_FROM_DATE'].min().rename(\"start_date\")\n",
    "old_df = output_df.copy()"
   ]
  },
  {
   "cell_type": "code",
   "execution_count": null,
   "metadata": {},
   "outputs": [
    {
     "data": {
      "text/html": [
       "<div>\n",
       "<style scoped>\n",
       "    .dataframe tbody tr th:only-of-type {\n",
       "        vertical-align: middle;\n",
       "    }\n",
       "\n",
       "    .dataframe tbody tr th {\n",
       "        vertical-align: top;\n",
       "    }\n",
       "\n",
       "    .dataframe thead th {\n",
       "        text-align: right;\n",
       "    }\n",
       "</style>\n",
       "<table border=\"1\" class=\"dataframe\">\n",
       "  <thead>\n",
       "    <tr style=\"text-align: right;\">\n",
       "      <th></th>\n",
       "      <th>fire_id</th>\n",
       "      <th>start_date</th>\n",
       "    </tr>\n",
       "  </thead>\n",
       "  <tbody>\n",
       "    <tr>\n",
       "      <th>24422</th>\n",
       "      <td>2015_2714022_BAYLE MOUNTAIN</td>\n",
       "      <td>2015-05-05 09:30:00</td>\n",
       "    </tr>\n",
       "    <tr>\n",
       "      <th>24423</th>\n",
       "      <td>2015_2714081_BOOT COVE FIRE</td>\n",
       "      <td>2015-05-06 20:30:00</td>\n",
       "    </tr>\n",
       "    <tr>\n",
       "      <th>24424</th>\n",
       "      <td>2015_2714132_GUM TREE ROAD</td>\n",
       "      <td>2015-05-06 12:15:00</td>\n",
       "    </tr>\n",
       "    <tr>\n",
       "      <th>24426</th>\n",
       "      <td>2015_2714194_TRAILS END FIRE</td>\n",
       "      <td>2015-05-04 13:00:00</td>\n",
       "    </tr>\n",
       "    <tr>\n",
       "      <th>24427</th>\n",
       "      <td>2015_2714215_ATHENS</td>\n",
       "      <td>2015-04-30 15:00:00</td>\n",
       "    </tr>\n",
       "    <tr>\n",
       "      <th>...</th>\n",
       "      <td>...</td>\n",
       "      <td>...</td>\n",
       "    </tr>\n",
       "    <tr>\n",
       "      <th>32035</th>\n",
       "      <td>2018_9275593_HORSESHOE</td>\n",
       "      <td>2018-06-09 16:30:00</td>\n",
       "    </tr>\n",
       "    <tr>\n",
       "      <th>32036</th>\n",
       "      <td>2018_9275620_BOCCO</td>\n",
       "      <td>2018-06-09 16:00:00</td>\n",
       "    </tr>\n",
       "    <tr>\n",
       "      <th>32037</th>\n",
       "      <td>2018_9275808_RIM</td>\n",
       "      <td>2018-06-09 20:00:00</td>\n",
       "    </tr>\n",
       "    <tr>\n",
       "      <th>32038</th>\n",
       "      <td>2018_9275891_CHROME</td>\n",
       "      <td>2018-06-09 16:45:00</td>\n",
       "    </tr>\n",
       "    <tr>\n",
       "      <th>32041</th>\n",
       "      <td>2018_9276339_STRAWBERRY RIVER</td>\n",
       "      <td>2018-06-09 19:30:00</td>\n",
       "    </tr>\n",
       "  </tbody>\n",
       "</table>\n",
       "<p>5785 rows × 2 columns</p>\n",
       "</div>"
      ],
      "text/plain": [
       "                             fire_id          start_date\n",
       "24422    2015_2714022_BAYLE MOUNTAIN 2015-05-05 09:30:00\n",
       "24423    2015_2714081_BOOT COVE FIRE 2015-05-06 20:30:00\n",
       "24424     2015_2714132_GUM TREE ROAD 2015-05-06 12:15:00\n",
       "24426   2015_2714194_TRAILS END FIRE 2015-05-04 13:00:00\n",
       "24427            2015_2714215_ATHENS 2015-04-30 15:00:00\n",
       "...                              ...                 ...\n",
       "32035         2018_9275593_HORSESHOE 2018-06-09 16:30:00\n",
       "32036             2018_9275620_BOCCO 2018-06-09 16:00:00\n",
       "32037               2018_9275808_RIM 2018-06-09 20:00:00\n",
       "32038            2018_9275891_CHROME 2018-06-09 16:45:00\n",
       "32041  2018_9276339_STRAWBERRY RIVER 2018-06-09 19:30:00\n",
       "\n",
       "[5785 rows x 2 columns]"
      ]
     },
     "execution_count": 13,
     "metadata": {},
     "output_type": "execute_result"
    }
   ],
   "source": [
    "output_df = old_df.merge(start_dates, left_on=\"fire_id\", right_index=True)\n",
    "output_df"
   ]
  },
  {
   "cell_type": "markdown",
   "metadata": {},
   "source": [
    "## POO"
   ]
  },
  {
   "cell_type": "code",
   "execution_count": 12,
   "metadata": {},
   "outputs": [
    {
     "name": "stdout",
     "output_type": "stream",
     "text": [
      "                            OLS Regression Results                            \n",
      "==============================================================================\n",
      "Dep. Variable:     LRGST_FOD_LATITUDE   R-squared:                       1.000\n",
      "Model:                            OLS   Adj. R-squared:                  1.000\n",
      "Method:                 Least Squares   F-statistic:                 3.531e+07\n",
      "Date:                Mon, 15 Apr 2024   Prob (F-statistic):               0.00\n",
      "Time:                        20:34:35   Log-Likelihood:                 4907.9\n",
      "No. Observations:                9451   AIC:                            -9812.\n",
      "Df Residuals:                    9449   BIC:                            -9798.\n",
      "Df Model:                           1                                         \n",
      "Covariance Type:            nonrobust                                         \n",
      "================================================================================\n",
      "                   coef    std err          t      P>|t|      [0.025      0.975]\n",
      "--------------------------------------------------------------------------------\n",
      "const            0.0024      0.007      0.344      0.731      -0.011       0.016\n",
      "POO_LATITUDE     1.0000      0.000   5942.566      0.000       1.000       1.000\n",
      "==============================================================================\n",
      "Omnibus:                    13024.055   Durbin-Watson:                   2.000\n",
      "Prob(Omnibus):                  0.000   Jarque-Bera (JB):        126791315.744\n",
      "Skew:                           6.675   Prob(JB):                         0.00\n",
      "Kurtosis:                     570.272   Cond. No.                         188.\n",
      "==============================================================================\n",
      "\n",
      "Notes:\n",
      "[1] Standard Errors assume that the covariance matrix of the errors is correctly specified.\n"
     ]
    },
    {
     "data": {
      "text/plain": [
       "Text(3.03, 69.679, '$R^2$: 1.00')"
      ]
     },
     "execution_count": 12,
     "metadata": {},
     "output_type": "execute_result"
    },
    {
     "data": {
      "image/png": "[encoded data removed]",
      "text/plain": [
       "<Figure size 640x480 with 1 Axes>"
      ]
     },
     "metadata": {},
     "output_type": "display_data"
    }
   ],
   "source": [
    "import matplotlib.pyplot as plt\n",
    "import statsmodels.api as sm\n",
    "\n",
    "subdf=df.dropna(subset=['POO_LATITUDE', 'LRGST_FOD_LATITUDE'])\n",
    "plt.scatter(subdf['POO_LATITUDE'], subdf['LRGST_FOD_LATITUDE'])\n",
    "X = subdf['POO_LATITUDE']\n",
    "y = subdf['LRGST_FOD_LATITUDE']\n",
    "X = sm.add_constant(X)\n",
    "\n",
    "# Step 4: Fit the OLS regression model\n",
    "model = sm.OLS(y, X).fit()\n",
    "X_pred = pd.DataFrame({'POO_LATITUDE': np.linspace(df['POO_LATITUDE'].min(), df['POO_LATITUDE'].max(), 100)})\n",
    "X_pred = sm.add_constant(X_pred)\n",
    "y_pred = model.predict(X_pred)\n",
    "plt.plot(X_pred['POO_LATITUDE'], y_pred, color='red', label='Regression Line')\n",
    "print(model.summary())\n",
    "plt.text(df['POO_LATITUDE'].min(), max(df['LRGST_FOD_LATITUDE']), f'$R^2$: {model.rsquared:.2f}', fontsize=12)"
   ]
  },
  {
   "cell_type": "code",
   "execution_count": 16,
   "metadata": {},
   "outputs": [
    {
     "ename": "NameError",
     "evalue": "name 'output_df' is not defined",
     "output_type": "error",
     "traceback": [
      "\u001b[1;31m---------------------------------------------------------------------------\u001b[0m",
      "\u001b[1;31mNameError\u001b[0m                                 Traceback (most recent call last)",
      "Cell \u001b[1;32mIn[16], line 1\u001b[0m\n\u001b[1;32m----> 1\u001b[0m \u001b[43moutput_df\u001b[49m\n",
      "\u001b[1;31mNameError\u001b[0m: name 'output_df' is not defined"
     ]
    }
   ],
   "source": [
    "output_df"
   ]
  },
  {
   "cell_type": "code",
   "execution_count": null,
   "metadata": {},
   "outputs": [
    {
     "name": "stdout",
     "output_type": "stream",
     "text": [
      "Dropping:\n",
      "                               fire_id          start_date  poo_lat  poo_lon  \\\n",
      "731   2015_2847392_SMITH RIVER COMPLEX 2015-06-09 06:30:00      NaN      NaN   \n",
      "2447                2016_4420744_SERPA 2016-07-22 01:00:00      NaN      NaN   \n",
      "\n",
      "                           INCIDENT_ID  \n",
      "731   2015_2847392_SMITH RIVER COMPLEX  \n",
      "2447                2016_4420744_SERPA  \n"
     ]
    },
    {
     "data": {
      "text/html": [
       "<div>\n",
       "<style scoped>\n",
       "    .dataframe tbody tr th:only-of-type {\n",
       "        vertical-align: middle;\n",
       "    }\n",
       "\n",
       "    .dataframe tbody tr th {\n",
       "        vertical-align: top;\n",
       "    }\n",
       "\n",
       "    .dataframe thead th {\n",
       "        text-align: right;\n",
       "    }\n",
       "</style>\n",
       "<table border=\"1\" class=\"dataframe\">\n",
       "  <thead>\n",
       "    <tr style=\"text-align: right;\">\n",
       "      <th></th>\n",
       "      <th>fire_id</th>\n",
       "      <th>start_date</th>\n",
       "      <th>poo_lat</th>\n",
       "      <th>poo_lon</th>\n",
       "      <th>INCIDENT_ID</th>\n",
       "    </tr>\n",
       "  </thead>\n",
       "  <tbody>\n",
       "    <tr>\n",
       "      <th>0</th>\n",
       "      <td>2015_2714022_BAYLE MOUNTAIN</td>\n",
       "      <td>2015-05-05 09:30:00</td>\n",
       "      <td>43.78</td>\n",
       "      <td>-71.25</td>\n",
       "      <td>2015_2714022_BAYLE MOUNTAIN</td>\n",
       "    </tr>\n",
       "    <tr>\n",
       "      <th>1</th>\n",
       "      <td>2015_2714081_BOOT COVE FIRE</td>\n",
       "      <td>2015-05-06 20:30:00</td>\n",
       "      <td>44.79</td>\n",
       "      <td>-67.01</td>\n",
       "      <td>2015_2714081_BOOT COVE FIRE</td>\n",
       "    </tr>\n",
       "    <tr>\n",
       "      <th>2</th>\n",
       "      <td>2015_2714132_GUM TREE ROAD</td>\n",
       "      <td>2015-05-06 12:15:00</td>\n",
       "      <td>34.97</td>\n",
       "      <td>-80.01</td>\n",
       "      <td>2015_2714132_GUM TREE ROAD</td>\n",
       "    </tr>\n",
       "    <tr>\n",
       "      <th>3</th>\n",
       "      <td>2015_2714194_TRAILS END FIRE</td>\n",
       "      <td>2015-05-04 13:00:00</td>\n",
       "      <td>46.30</td>\n",
       "      <td>-92.49</td>\n",
       "      <td>2015_2714194_TRAILS END FIRE</td>\n",
       "    </tr>\n",
       "    <tr>\n",
       "      <th>4</th>\n",
       "      <td>2015_2714215_ATHENS</td>\n",
       "      <td>2015-04-30 15:00:00</td>\n",
       "      <td>31.91</td>\n",
       "      <td>-89.88</td>\n",
       "      <td>2015_2714215_ATHENS</td>\n",
       "    </tr>\n",
       "  </tbody>\n",
       "</table>\n",
       "</div>"
      ],
      "text/plain": [
       "                        fire_id          start_date  poo_lat  poo_lon  \\\n",
       "0   2015_2714022_BAYLE MOUNTAIN 2015-05-05 09:30:00    43.78   -71.25   \n",
       "1   2015_2714081_BOOT COVE FIRE 2015-05-06 20:30:00    44.79   -67.01   \n",
       "2    2015_2714132_GUM TREE ROAD 2015-05-06 12:15:00    34.97   -80.01   \n",
       "3  2015_2714194_TRAILS END FIRE 2015-05-04 13:00:00    46.30   -92.49   \n",
       "4           2015_2714215_ATHENS 2015-04-30 15:00:00    31.91   -89.88   \n",
       "\n",
       "                    INCIDENT_ID  \n",
       "0   2015_2714022_BAYLE MOUNTAIN  \n",
       "1   2015_2714081_BOOT COVE FIRE  \n",
       "2    2015_2714132_GUM TREE ROAD  \n",
       "3  2015_2714194_TRAILS END FIRE  \n",
       "4           2015_2714215_ATHENS  "
      ]
     },
     "execution_count": 23,
     "metadata": {},
     "output_type": "execute_result"
    }
   ],
   "source": [
    "result = output_df.merge(df[['POO_LATITUDE', 'POO_LONGITUDE', 'INCIDENT_ID']], left_on=\"fire_id\", right_on=\"INCIDENT_ID\")\n",
    "result = result.drop(columns=\"INCIDENT_ID\")\n",
    "result = result.rename(columns={\"POO_LATITUDE\": \"poo_lat\", \"POO_LONGITUDE\": \"poo_lon\"})\n",
    "print(\"Dropping:\")\n",
    "print(result[result.isna().any(axis=1)])\n",
    "result = result[~result.isna().any(axis=1)]\n",
    "result.head()"
   ]
  },
  {
   "cell_type": "markdown",
   "metadata": {},
   "source": [
    "## End Date"
   ]
  },
  {
   "cell_type": "code",
   "execution_count": null,
   "metadata": {},
   "outputs": [
    {
     "data": {
      "text/plain": [
       "<Axes: ylabel='Frequency'>"
      ]
     },
     "execution_count": 17,
     "metadata": {},
     "output_type": "execute_result"
    },
    {
     "data": {
      "image/png": "[encoded data removed]",
      "text/plain": [
       "<Figure size 640x480 with 1 Axes>"
      ]
     },
     "metadata": {},
     "output_type": "display_data"
    }
   ],
   "source": [
    "final.groupby(\"INCIDENT_ID\").size().plot(kind=\"hist\")"
   ]
  },
  {
   "cell_type": "code",
   "execution_count": null,
   "metadata": {},
   "outputs": [],
   "source": [
    "qtile = 0.90\n",
    "alpha = final.groupby(\"INCIDENT_ID\").size().quantile(qtile)\n",
    "filtered_df = final.groupby(\"INCIDENT_ID\").filter(lambda x: len(x) > 15)"
   ]
  },
  {
   "cell_type": "code",
   "execution_count": null,
   "metadata": {},
   "outputs": [
    {
     "name": "stderr",
     "output_type": "stream",
     "text": [
      " 16%|█▌        | 16/100 [00:13<01:08,  1.22it/s]\n"
     ]
    },
    {
     "ename": "KeyboardInterrupt",
     "evalue": "",
     "output_type": "error",
     "traceback": [
      "\u001b[1;31m---------------------------------------------------------------------------\u001b[0m",
      "\u001b[1;31mKeyboardInterrupt\u001b[0m                         Traceback (most recent call last)",
      "Cell \u001b[1;32mIn[19], line 9\u001b[0m\n\u001b[0;32m      7\u001b[0m alphas\u001b[38;5;241m.\u001b[39mappend(alpha)\n\u001b[0;32m      8\u001b[0m nb_report \u001b[38;5;241m=\u001b[39m \u001b[38;5;28mlen\u001b[39m(final\u001b[38;5;241m.\u001b[39mgroupby(\u001b[38;5;124m\"\u001b[39m\u001b[38;5;124mINCIDENT_ID\u001b[39m\u001b[38;5;124m\"\u001b[39m)\u001b[38;5;241m.\u001b[39mfilter(\u001b[38;5;28;01mlambda\u001b[39;00m x: \u001b[38;5;28mlen\u001b[39m(x) \u001b[38;5;241m<\u001b[39m alpha))\n\u001b[1;32m----> 9\u001b[0m fire_cropped \u001b[38;5;241m=\u001b[39m \u001b[43mfinal\u001b[49m\u001b[38;5;241;43m.\u001b[39;49m\u001b[43mgroupby\u001b[49m\u001b[43m(\u001b[49m\u001b[38;5;124;43m\"\u001b[39;49m\u001b[38;5;124;43mINCIDENT_ID\u001b[39;49m\u001b[38;5;124;43m\"\u001b[39;49m\u001b[43m)\u001b[49m\u001b[38;5;241;43m.\u001b[39;49m\u001b[43mfilter\u001b[49m\u001b[43m(\u001b[49m\u001b[38;5;28;43;01mlambda\u001b[39;49;00m\u001b[43m \u001b[49m\u001b[43mx\u001b[49m\u001b[43m:\u001b[49m\u001b[43m \u001b[49m\u001b[38;5;28;43mlen\u001b[39;49m\u001b[43m(\u001b[49m\u001b[43mx\u001b[49m\u001b[43m)\u001b[49m\u001b[43m \u001b[49m\u001b[38;5;241;43m>\u001b[39;49m\u001b[43m \u001b[49m\u001b[43malpha\u001b[49m\u001b[43m)\u001b[49m[\u001b[38;5;124m\"\u001b[39m\u001b[38;5;124mINCIDENT_ID\u001b[39m\u001b[38;5;124m\"\u001b[39m]\u001b[38;5;241m.\u001b[39mnunique()\n\u001b[0;32m     10\u001b[0m fires_cropped\u001b[38;5;241m.\u001b[39mappend(fire_cropped)\n\u001b[0;32m     11\u001b[0m nb_reports\u001b[38;5;241m.\u001b[39mappend(nb_report)\n",
      "File \u001b[1;32mc:\\ProgramData\\Anaconda3\\envs\\wildfirepy38\\lib\\site-packages\\pandas\\core\\groupby\\generic.py:1736\u001b[0m, in \u001b[0;36mDataFrameGroupBy.filter\u001b[1;34m(self, func, dropna, *args, **kwargs)\u001b[0m\n\u001b[0;32m   1733\u001b[0m obj \u001b[38;5;241m=\u001b[39m \u001b[38;5;28mself\u001b[39m\u001b[38;5;241m.\u001b[39m_selected_obj\n\u001b[0;32m   1734\u001b[0m gen \u001b[38;5;241m=\u001b[39m \u001b[38;5;28mself\u001b[39m\u001b[38;5;241m.\u001b[39mgrouper\u001b[38;5;241m.\u001b[39mget_iterator(obj, axis\u001b[38;5;241m=\u001b[39m\u001b[38;5;28mself\u001b[39m\u001b[38;5;241m.\u001b[39maxis)\n\u001b[1;32m-> 1736\u001b[0m \u001b[38;5;28;01mfor\u001b[39;00m name, group \u001b[38;5;129;01min\u001b[39;00m gen:\n\u001b[0;32m   1737\u001b[0m     \u001b[38;5;28mobject\u001b[39m\u001b[38;5;241m.\u001b[39m\u001b[38;5;21m__setattr__\u001b[39m(group, \u001b[38;5;124m\"\u001b[39m\u001b[38;5;124mname\u001b[39m\u001b[38;5;124m\"\u001b[39m, name)\n\u001b[0;32m   1739\u001b[0m     res \u001b[38;5;241m=\u001b[39m func(group, \u001b[38;5;241m*\u001b[39margs, \u001b[38;5;241m*\u001b[39m\u001b[38;5;241m*\u001b[39mkwargs)\n",
      "File \u001b[1;32mc:\\ProgramData\\Anaconda3\\envs\\wildfirepy38\\lib\\site-packages\\pandas\\core\\groupby\\ops.py:727\u001b[0m, in \u001b[0;36mBaseGrouper.get_iterator\u001b[1;34m(self, data, axis)\u001b[0m\n\u001b[0;32m    725\u001b[0m splitter \u001b[38;5;241m=\u001b[39m \u001b[38;5;28mself\u001b[39m\u001b[38;5;241m.\u001b[39m_get_splitter(data, axis\u001b[38;5;241m=\u001b[39maxis)\n\u001b[0;32m    726\u001b[0m keys \u001b[38;5;241m=\u001b[39m \u001b[38;5;28mself\u001b[39m\u001b[38;5;241m.\u001b[39mgroup_keys_seq\n\u001b[1;32m--> 727\u001b[0m \u001b[38;5;28;01myield from\u001b[39;00m \u001b[38;5;28mzip\u001b[39m(keys, splitter)\n",
      "File \u001b[1;32mc:\\ProgramData\\Anaconda3\\envs\\wildfirepy38\\lib\\site-packages\\pandas\\core\\groupby\\ops.py:1239\u001b[0m, in \u001b[0;36mDataSplitter.__iter__\u001b[1;34m(self)\u001b[0m\n\u001b[0;32m   1236\u001b[0m starts, ends \u001b[38;5;241m=\u001b[39m lib\u001b[38;5;241m.\u001b[39mgenerate_slices(\u001b[38;5;28mself\u001b[39m\u001b[38;5;241m.\u001b[39m_slabels, \u001b[38;5;28mself\u001b[39m\u001b[38;5;241m.\u001b[39mngroups)\n\u001b[0;32m   1238\u001b[0m \u001b[38;5;28;01mfor\u001b[39;00m start, end \u001b[38;5;129;01min\u001b[39;00m \u001b[38;5;28mzip\u001b[39m(starts, ends):\n\u001b[1;32m-> 1239\u001b[0m     \u001b[38;5;28;01myield\u001b[39;00m \u001b[38;5;28;43mself\u001b[39;49m\u001b[38;5;241;43m.\u001b[39;49m\u001b[43m_chop\u001b[49m\u001b[43m(\u001b[49m\u001b[43msdata\u001b[49m\u001b[43m,\u001b[49m\u001b[43m \u001b[49m\u001b[38;5;28;43mslice\u001b[39;49m\u001b[43m(\u001b[49m\u001b[43mstart\u001b[49m\u001b[43m,\u001b[49m\u001b[43m \u001b[49m\u001b[43mend\u001b[49m\u001b[43m)\u001b[49m\u001b[43m)\u001b[49m\n",
      "File \u001b[1;32mc:\\ProgramData\\Anaconda3\\envs\\wildfirepy38\\lib\\site-packages\\pandas\\core\\groupby\\ops.py:1265\u001b[0m, in \u001b[0;36mFrameSplitter._chop\u001b[1;34m(self, sdata, slice_obj)\u001b[0m\n\u001b[0;32m   1258\u001b[0m \u001b[38;5;28;01mdef\u001b[39;00m \u001b[38;5;21m_chop\u001b[39m(\u001b[38;5;28mself\u001b[39m, sdata: DataFrame, slice_obj: \u001b[38;5;28mslice\u001b[39m) \u001b[38;5;241m-\u001b[39m\u001b[38;5;241m>\u001b[39m DataFrame:\n\u001b[0;32m   1259\u001b[0m     \u001b[38;5;66;03m# Fastpath equivalent to:\u001b[39;00m\n\u001b[0;32m   1260\u001b[0m     \u001b[38;5;66;03m# if self.axis == 0:\u001b[39;00m\n\u001b[0;32m   1261\u001b[0m     \u001b[38;5;66;03m#     return sdata.iloc[slice_obj]\u001b[39;00m\n\u001b[0;32m   1262\u001b[0m     \u001b[38;5;66;03m# else:\u001b[39;00m\n\u001b[0;32m   1263\u001b[0m     \u001b[38;5;66;03m#     return sdata.iloc[:, slice_obj]\u001b[39;00m\n\u001b[0;32m   1264\u001b[0m     mgr \u001b[38;5;241m=\u001b[39m sdata\u001b[38;5;241m.\u001b[39m_mgr\u001b[38;5;241m.\u001b[39mget_slice(slice_obj, axis\u001b[38;5;241m=\u001b[39m\u001b[38;5;241m1\u001b[39m \u001b[38;5;241m-\u001b[39m \u001b[38;5;28mself\u001b[39m\u001b[38;5;241m.\u001b[39maxis)\n\u001b[1;32m-> 1265\u001b[0m     df \u001b[38;5;241m=\u001b[39m \u001b[43msdata\u001b[49m\u001b[38;5;241;43m.\u001b[39;49m\u001b[43m_constructor\u001b[49m\u001b[43m(\u001b[49m\u001b[43mmgr\u001b[49m\u001b[43m)\u001b[49m\n\u001b[0;32m   1266\u001b[0m     \u001b[38;5;28;01mreturn\u001b[39;00m df\u001b[38;5;241m.\u001b[39m__finalize__(sdata, method\u001b[38;5;241m=\u001b[39m\u001b[38;5;124m\"\u001b[39m\u001b[38;5;124mgroupby\u001b[39m\u001b[38;5;124m\"\u001b[39m)\n",
      "File \u001b[1;32mc:\\ProgramData\\Anaconda3\\envs\\wildfirepy38\\lib\\site-packages\\pandas\\core\\frame.py:666\u001b[0m, in \u001b[0;36mDataFrame.__init__\u001b[1;34m(self, data, index, columns, dtype, copy)\u001b[0m\n\u001b[0;32m    662\u001b[0m     \u001b[38;5;66;03m# first check if a Manager is passed without any other arguments\u001b[39;00m\n\u001b[0;32m    663\u001b[0m     \u001b[38;5;66;03m# -> use fastpath (without checking Manager type)\u001b[39;00m\n\u001b[0;32m    664\u001b[0m     \u001b[38;5;28;01mif\u001b[39;00m index \u001b[38;5;129;01mis\u001b[39;00m \u001b[38;5;28;01mNone\u001b[39;00m \u001b[38;5;129;01mand\u001b[39;00m columns \u001b[38;5;129;01mis\u001b[39;00m \u001b[38;5;28;01mNone\u001b[39;00m \u001b[38;5;129;01mand\u001b[39;00m dtype \u001b[38;5;129;01mis\u001b[39;00m \u001b[38;5;28;01mNone\u001b[39;00m \u001b[38;5;129;01mand\u001b[39;00m \u001b[38;5;129;01mnot\u001b[39;00m copy:\n\u001b[0;32m    665\u001b[0m         \u001b[38;5;66;03m# GH#33357 fastpath\u001b[39;00m\n\u001b[1;32m--> 666\u001b[0m         \u001b[43mNDFrame\u001b[49m\u001b[38;5;241;43m.\u001b[39;49m\u001b[38;5;21;43m__init__\u001b[39;49m\u001b[43m(\u001b[49m\u001b[38;5;28;43mself\u001b[39;49m\u001b[43m,\u001b[49m\u001b[43m \u001b[49m\u001b[43mdata\u001b[49m\u001b[43m)\u001b[49m\n\u001b[0;32m    667\u001b[0m         \u001b[38;5;28;01mreturn\u001b[39;00m\n\u001b[0;32m    669\u001b[0m manager \u001b[38;5;241m=\u001b[39m get_option(\u001b[38;5;124m\"\u001b[39m\u001b[38;5;124mmode.data_manager\u001b[39m\u001b[38;5;124m\"\u001b[39m)\n",
      "File \u001b[1;32mc:\\ProgramData\\Anaconda3\\envs\\wildfirepy38\\lib\\site-packages\\pandas\\core\\generic.py:281\u001b[0m, in \u001b[0;36mNDFrame.__init__\u001b[1;34m(self, data, copy, attrs)\u001b[0m\n\u001b[0;32m    279\u001b[0m     attrs \u001b[38;5;241m=\u001b[39m \u001b[38;5;28mdict\u001b[39m(attrs)\n\u001b[0;32m    280\u001b[0m \u001b[38;5;28mobject\u001b[39m\u001b[38;5;241m.\u001b[39m\u001b[38;5;21m__setattr__\u001b[39m(\u001b[38;5;28mself\u001b[39m, \u001b[38;5;124m\"\u001b[39m\u001b[38;5;124m_attrs\u001b[39m\u001b[38;5;124m\"\u001b[39m, attrs)\n\u001b[1;32m--> 281\u001b[0m \u001b[38;5;28mobject\u001b[39m\u001b[38;5;241m.\u001b[39m\u001b[38;5;21m__setattr__\u001b[39m(\u001b[38;5;28mself\u001b[39m, \u001b[38;5;124m\"\u001b[39m\u001b[38;5;124m_flags\u001b[39m\u001b[38;5;124m\"\u001b[39m, \u001b[43mFlags\u001b[49m\u001b[43m(\u001b[49m\u001b[38;5;28;43mself\u001b[39;49m\u001b[43m,\u001b[49m\u001b[43m \u001b[49m\u001b[43mallows_duplicate_labels\u001b[49m\u001b[38;5;241;43m=\u001b[39;49m\u001b[38;5;28;43;01mTrue\u001b[39;49;00m\u001b[43m)\u001b[49m)\n",
      "File \u001b[1;32mc:\\ProgramData\\Anaconda3\\envs\\wildfirepy38\\lib\\site-packages\\pandas\\core\\flags.py:50\u001b[0m, in \u001b[0;36mFlags.__init__\u001b[1;34m(self, obj, allows_duplicate_labels)\u001b[0m\n\u001b[0;32m     49\u001b[0m \u001b[38;5;28;01mdef\u001b[39;00m \u001b[38;5;21m__init__\u001b[39m(\u001b[38;5;28mself\u001b[39m, obj, \u001b[38;5;241m*\u001b[39m, allows_duplicate_labels) \u001b[38;5;241m-\u001b[39m\u001b[38;5;241m>\u001b[39m \u001b[38;5;28;01mNone\u001b[39;00m:\n\u001b[1;32m---> 50\u001b[0m     \u001b[38;5;28mself\u001b[39m\u001b[38;5;241m.\u001b[39m_allows_duplicate_labels \u001b[38;5;241m=\u001b[39m allows_duplicate_labels\n\u001b[0;32m     51\u001b[0m     \u001b[38;5;28mself\u001b[39m\u001b[38;5;241m.\u001b[39m_obj \u001b[38;5;241m=\u001b[39m weakref\u001b[38;5;241m.\u001b[39mref(obj)\n",
      "\u001b[1;31mKeyboardInterrupt\u001b[0m: "
     ]
    }
   ],
   "source": [
    "from tqdm import tqdm\n",
    "nb_reports = []\n",
    "alphas = []\n",
    "fires_cropped = []\n",
    "for qtile in tqdm(np.linspace(0, 1, 100)):\n",
    "  alpha = final.groupby(\"INCIDENT_ID\").size().quantile(qtile)\n",
    "  alphas.append(alpha)\n",
    "  nb_report = len(final.groupby(\"INCIDENT_ID\").filter(lambda x: len(x) < alpha))\n",
    "  fire_cropped = final.groupby(\"INCIDENT_ID\").filter(lambda x: len(x) > alpha)[\"INCIDENT_ID\"].nunique()\n",
    "  fires_cropped.append(fire_cropped)\n",
    "  nb_reports.append(nb_report)\n"
   ]
  },
  {
   "cell_type": "code",
   "execution_count": null,
   "metadata": {},
   "outputs": [],
   "source": [
    "alphas = []\n",
    "for qtile in np.linspace(0, 1, 100):\n",
    "  alpha = final.groupby(\"INCIDENT_ID\").size().quantile(qtile)\n",
    "  alphas.append(alpha)\n"
   ]
  },
  {
   "cell_type": "code",
   "execution_count": null,
   "metadata": {},
   "outputs": [
    {
     "data": {
      "text/plain": [
       "Text(0.5, 0, 'Qtile')"
      ]
     },
     "execution_count": 23,
     "metadata": {},
     "output_type": "execute_result"
    },
    {
     "data": {
      "image/png": "[encoded data removed]",
      "text/plain": [
       "<Figure size 640x480 with 1 Axes>"
      ]
     },
     "metadata": {},
     "output_type": "display_data"
    }
   ],
   "source": [
    "plt.plot(nb_reports, linestyle='None', marker=\"+\", alpha=0.8)\n",
    "plt.ylabel(\"Number of reports\")\n",
    "plt.xlabel(\"Qtile\")"
   ]
  },
  {
   "cell_type": "code",
   "execution_count": null,
   "metadata": {},
   "outputs": [
    {
     "data": {
      "text/plain": [
       "Text(0.5, 0, 'Qtile')"
      ]
     },
     "execution_count": 24,
     "metadata": {},
     "output_type": "execute_result"
    },
    {
     "data": {
      "image/png": "[encoded data removed]",
      "text/plain": [
       "<Figure size 640x480 with 1 Axes>"
      ]
     },
     "metadata": {},
     "output_type": "display_data"
    }
   ],
   "source": [
    "plt.plot(alphas, linestyle='None', marker=\"+\", alpha=0.8)\n",
    "plt.ylabel(\"Alpha (max report nb)\")\n",
    "plt.xlabel(\"Qtile\")"
   ]
  },
  {
   "cell_type": "code",
   "execution_count": null,
   "metadata": {},
   "outputs": [
    {
     "data": {
      "image/png": "[encoded data removed]",
      "text/plain": [
       "<Figure size 640x480 with 1 Axes>"
      ]
     },
     "metadata": {},
     "output_type": "display_data"
    }
   ],
   "source": [
    "fig = plt.figure()\n",
    "plt.scatter(alphas, nb_reports)\n",
    "plt.xlabel(\"Alpha\")\n",
    "plt.ylabel(\"Number of reports\");"
   ]
  },
  {
   "cell_type": "code",
   "execution_count": null,
   "metadata": {},
   "outputs": [
    {
     "data": {
      "text/plain": [
       "115740"
      ]
     },
     "execution_count": 26,
     "metadata": {},
     "output_type": "execute_result"
    }
   ],
   "source": [
    "20*final['INCIDENT_ID'].nunique()"
   ]
  },
  {
   "cell_type": "code",
   "execution_count": 14,
   "metadata": {},
   "outputs": [
    {
     "data": {
      "text/plain": [
       "37588"
      ]
     },
     "execution_count": 14,
     "metadata": {},
     "output_type": "execute_result"
    }
   ],
   "source": [
    "len(final)"
   ]
  },
  {
   "cell_type": "markdown",
   "metadata": {},
   "source": [
    "## Last date\n",
    "How long should we look each fire. This is a tough question. \n",
    "\n",
    "LOooking at the previous study, I think that the first 20 days from report are enough to know if the fire will become super dangerous.\n",
    "Looking at fire that grow big on the dashboard confirms it is ok."
   ]
  },
  {
   "cell_type": "code",
   "execution_count": 15,
   "metadata": {},
   "outputs": [
    {
     "ename": "NameError",
     "evalue": "name 'result' is not defined",
     "output_type": "error",
     "traceback": [
      "\u001b[1;31m---------------------------------------------------------------------------\u001b[0m",
      "\u001b[1;31mNameError\u001b[0m                                 Traceback (most recent call last)",
      "Cell \u001b[1;32mIn[15], line 2\u001b[0m\n\u001b[0;32m      1\u001b[0m \u001b[38;5;28;01mfrom\u001b[39;00m \u001b[38;5;21;01mdatetime\u001b[39;00m \u001b[38;5;28;01mimport\u001b[39;00m timedelta\n\u001b[1;32m----> 2\u001b[0m result[\u001b[38;5;124m'\u001b[39m\u001b[38;5;124mend_date\u001b[39m\u001b[38;5;124m'\u001b[39m] \u001b[38;5;241m=\u001b[39m \u001b[43mresult\u001b[49m[\u001b[38;5;124m'\u001b[39m\u001b[38;5;124mstart_date\u001b[39m\u001b[38;5;124m'\u001b[39m] \u001b[38;5;241m+\u001b[39m timedelta(days\u001b[38;5;241m=\u001b[39m\u001b[38;5;241m20\u001b[39m)\n",
      "\u001b[1;31mNameError\u001b[0m: name 'result' is not defined"
     ]
    }
   ],
   "source": [
    "from datetime import timedelta\n",
    "result['end_date'] = result['start_date'] + timedelta(days=20)"
   ]
  },
  {
   "cell_type": "code",
   "execution_count": 21,
   "metadata": {},
   "outputs": [
    {
     "data": {
      "text/html": [
       "<div>\n",
       "<style scoped>\n",
       "    .dataframe tbody tr th:only-of-type {\n",
       "        vertical-align: middle;\n",
       "    }\n",
       "\n",
       "    .dataframe tbody tr th {\n",
       "        vertical-align: top;\n",
       "    }\n",
       "\n",
       "    .dataframe thead th {\n",
       "        text-align: right;\n",
       "    }\n",
       "</style>\n",
       "<table border=\"1\" class=\"dataframe\">\n",
       "  <thead>\n",
       "    <tr style=\"text-align: right;\">\n",
       "      <th></th>\n",
       "      <th>fire_id</th>\n",
       "      <th>start_date</th>\n",
       "      <th>poo_lat</th>\n",
       "      <th>poo_lon</th>\n",
       "      <th>end_date</th>\n",
       "    </tr>\n",
       "  </thead>\n",
       "  <tbody>\n",
       "    <tr>\n",
       "      <th>0</th>\n",
       "      <td>2015_2714022_BAYLE MOUNTAIN</td>\n",
       "      <td>2015-05-05 09:30:00</td>\n",
       "      <td>43.78</td>\n",
       "      <td>-71.25</td>\n",
       "      <td>2015-05-25 09:30:00</td>\n",
       "    </tr>\n",
       "    <tr>\n",
       "      <th>1</th>\n",
       "      <td>2015_2714081_BOOT COVE FIRE</td>\n",
       "      <td>2015-05-06 20:30:00</td>\n",
       "      <td>44.79</td>\n",
       "      <td>-67.01</td>\n",
       "      <td>2015-05-26 20:30:00</td>\n",
       "    </tr>\n",
       "    <tr>\n",
       "      <th>2</th>\n",
       "      <td>2015_2714132_GUM TREE ROAD</td>\n",
       "      <td>2015-05-06 12:15:00</td>\n",
       "      <td>34.97</td>\n",
       "      <td>-80.01</td>\n",
       "      <td>2015-05-26 12:15:00</td>\n",
       "    </tr>\n",
       "    <tr>\n",
       "      <th>3</th>\n",
       "      <td>2015_2714194_TRAILS END FIRE</td>\n",
       "      <td>2015-05-04 13:00:00</td>\n",
       "      <td>46.30</td>\n",
       "      <td>-92.49</td>\n",
       "      <td>2015-05-24 13:00:00</td>\n",
       "    </tr>\n",
       "    <tr>\n",
       "      <th>4</th>\n",
       "      <td>2015_2714215_ATHENS</td>\n",
       "      <td>2015-04-30 15:00:00</td>\n",
       "      <td>31.91</td>\n",
       "      <td>-89.88</td>\n",
       "      <td>2015-05-20 15:00:00</td>\n",
       "    </tr>\n",
       "    <tr>\n",
       "      <th>...</th>\n",
       "      <td>...</td>\n",
       "      <td>...</td>\n",
       "      <td>...</td>\n",
       "      <td>...</td>\n",
       "      <td>...</td>\n",
       "    </tr>\n",
       "    <tr>\n",
       "      <th>5780</th>\n",
       "      <td>2018_9275593_HORSESHOE</td>\n",
       "      <td>2018-06-09 16:30:00</td>\n",
       "      <td>40.59</td>\n",
       "      <td>-112.71</td>\n",
       "      <td>2018-06-29 16:30:00</td>\n",
       "    </tr>\n",
       "    <tr>\n",
       "      <th>5781</th>\n",
       "      <td>2018_9275620_BOCCO</td>\n",
       "      <td>2018-06-09 16:00:00</td>\n",
       "      <td>39.74</td>\n",
       "      <td>-106.70</td>\n",
       "      <td>2018-06-29 16:00:00</td>\n",
       "    </tr>\n",
       "    <tr>\n",
       "      <th>5782</th>\n",
       "      <td>2018_9275808_RIM</td>\n",
       "      <td>2018-06-09 20:00:00</td>\n",
       "      <td>42.68</td>\n",
       "      <td>-112.99</td>\n",
       "      <td>2018-06-29 20:00:00</td>\n",
       "    </tr>\n",
       "    <tr>\n",
       "      <th>5783</th>\n",
       "      <td>2018_9275891_CHROME</td>\n",
       "      <td>2018-06-09 16:45:00</td>\n",
       "      <td>39.66</td>\n",
       "      <td>-122.53</td>\n",
       "      <td>2018-06-29 16:45:00</td>\n",
       "    </tr>\n",
       "    <tr>\n",
       "      <th>5784</th>\n",
       "      <td>2018_9276339_STRAWBERRY RIVER</td>\n",
       "      <td>2018-06-09 19:30:00</td>\n",
       "      <td>40.12</td>\n",
       "      <td>-110.79</td>\n",
       "      <td>2018-06-29 19:30:00</td>\n",
       "    </tr>\n",
       "  </tbody>\n",
       "</table>\n",
       "<p>5783 rows × 5 columns</p>\n",
       "</div>"
      ],
      "text/plain": [
       "                            fire_id          start_date  poo_lat  poo_lon  \\\n",
       "0       2015_2714022_BAYLE MOUNTAIN 2015-05-05 09:30:00    43.78   -71.25   \n",
       "1       2015_2714081_BOOT COVE FIRE 2015-05-06 20:30:00    44.79   -67.01   \n",
       "2        2015_2714132_GUM TREE ROAD 2015-05-06 12:15:00    34.97   -80.01   \n",
       "3      2015_2714194_TRAILS END FIRE 2015-05-04 13:00:00    46.30   -92.49   \n",
       "4               2015_2714215_ATHENS 2015-04-30 15:00:00    31.91   -89.88   \n",
       "...                             ...                 ...      ...      ...   \n",
       "5780         2018_9275593_HORSESHOE 2018-06-09 16:30:00    40.59  -112.71   \n",
       "5781             2018_9275620_BOCCO 2018-06-09 16:00:00    39.74  -106.70   \n",
       "5782               2018_9275808_RIM 2018-06-09 20:00:00    42.68  -112.99   \n",
       "5783            2018_9275891_CHROME 2018-06-09 16:45:00    39.66  -122.53   \n",
       "5784  2018_9276339_STRAWBERRY RIVER 2018-06-09 19:30:00    40.12  -110.79   \n",
       "\n",
       "                end_date  \n",
       "0    2015-05-25 09:30:00  \n",
       "1    2015-05-26 20:30:00  \n",
       "2    2015-05-26 12:15:00  \n",
       "3    2015-05-24 13:00:00  \n",
       "4    2015-05-20 15:00:00  \n",
       "...                  ...  \n",
       "5780 2018-06-29 16:30:00  \n",
       "5781 2018-06-29 16:00:00  \n",
       "5782 2018-06-29 20:00:00  \n",
       "5783 2018-06-29 16:45:00  \n",
       "5784 2018-06-29 19:30:00  \n",
       "\n",
       "[5783 rows x 5 columns]"
      ]
     },
     "execution_count": 21,
     "metadata": {},
     "output_type": "execute_result"
    }
   ],
   "source": [
    "result"
   ]
  },
  {
   "cell_type": "code",
   "execution_count": 29,
   "metadata": {},
   "outputs": [],
   "source": [
    "result[['fire_id', 'start_date', 'end_date', 'poo_lat', 'poo_lon']].to_csv('../data/preprocessed/request_data.csv')"
   ]
  },
  {
   "cell_type": "markdown",
   "metadata": {},
   "source": [
    "# Bbox"
   ]
  },
  {
   "cell_type": "code",
   "execution_count": 36,
   "metadata": {},
   "outputs": [
    {
     "data": {
      "text/plain": [
       "<Axes: ylabel='Frequency'>"
      ]
     },
     "execution_count": 36,
     "metadata": {},
     "output_type": "execute_result"
    },
    {
     "data": {
      "image/png": "[encoded data removed]",
      "text/plain": [
       "<Figure size 640x480 with 1 Axes>"
      ]
     },
     "metadata": {},
     "output_type": "display_data"
    }
   ],
   "source": [
    "(df[df['FINAL_ACRES']<=10000]['FINAL_ACRES']/2.471).plot(kind=\"hist\")"
   ]
  },
  {
   "cell_type": "code",
   "execution_count": 38,
   "metadata": {},
   "outputs": [
    {
     "data": {
      "text/plain": [
       "13107200000"
      ]
     },
     "execution_count": 38,
     "metadata": {},
     "output_type": "execute_result"
    }
   ],
   "source": [
    "64*64*20*1000*10*16"
   ]
  }
 ],
 "metadata": {
  "kernelspec": {
   "display_name": "wildfirepy38",
   "language": "python",
   "name": "python3"
  },
  "language_info": {
   "codemirror_mode": {
    "name": "ipython",
    "version": 3
   },
   "file_extension": ".py",
   "mimetype": "text/x-python",
   "name": "python",
   "nbconvert_exporter": "python",
   "pygments_lexer": "ipython3",
   "version": "3.8.18"
  }
 },
 "nbformat": 4,
 "nbformat_minor": 2
}
