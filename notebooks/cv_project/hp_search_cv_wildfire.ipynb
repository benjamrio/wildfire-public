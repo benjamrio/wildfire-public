{
  "cells": [
    {
      "cell_type": "markdown",
      "metadata": {
        "id": "uPojRlNQPJub"
      },
      "source": [
        "# Imports"
      ]
    },
    {
      "cell_type": "code",
      "execution_count": null,
      "metadata": {
        "id": "1Mf4kbp8yOxd"
      },
      "outputs": [],
      "source": [
        "import re\n",
        "from typing import Dict, List, Optional, Text, Tuple\n",
        "import matplotlib.pyplot as plt\n",
        "from matplotlib import colors\n",
        "\n",
        "import tensorflow as tf\n",
        "import numpy as np\n",
        "\n",
        "from tensorflow.keras.models import Sequential\n",
        "from tensorflow.keras.layers import Conv2D, MaxPooling2D, UpSampling2D, Conv2DTranspose, Activation\n",
        "from tensorflow.keras.metrics import AUC\n",
        "from tensorflow.keras.optimizers import Adam\n",
        "\n",
        "import torch\n",
        "import torch.nn as nn\n",
        "import torch.nn.functional as F\n",
        "from torch.utils.data import DataLoader, TensorDataset"
      ]
    },
    {
      "cell_type": "markdown",
      "metadata": {
        "id": "aVb2hhOcgVwU"
      },
      "source": [
        "# Load the dataset"
      ]
    },
    {
      "cell_type": "code",
      "execution_count": null,
      "metadata": {
        "colab": {
          "base_uri": "https://localhost:8080/"
        },
        "id": "dbKZ_FWdG05n",
        "outputId": "6df6985b-0f94-4967-a76c-b549c30b13d3"
      },
      "outputs": [
        {
          "output_type": "stream",
          "name": "stdout",
          "text": [
            "Mounted at /content/drive\n"
          ]
        }
      ],
      "source": [
        "from google.colab import drive\n",
        "drive.mount('/content/drive')"
      ]
    },
    {
      "cell_type": "code",
      "execution_count": null,
      "metadata": {
        "id": "jLNJB8xyRjqT"
      },
      "outputs": [],
      "source": [
        "import os\n",
        "path_to_arrays = \"/content/drive/My Drive/mit/cv_project/data/data2\" # create a shortcut from my files to your drive and put the path here\n",
        "path_train = os.path.join(path_to_arrays, \"train.npy\")\n",
        "path_train_labels = os.path.join(path_to_arrays, \"train_labels.npy\")\n",
        "features = np.load(path_train)\n",
        "labels = np.load(path_train_labels)\n",
        "\n",
        "path_val = os.path.join(path_to_arrays, \"val.npy\")\n",
        "path_val_labels = os.path.join(path_to_arrays, \"val_labels.npy\")\n",
        "val_features = np.load(path_val)\n",
        "val_labels = np.load(path_val_labels)\n",
        "\n",
        "path_test = os.path.join(path_to_arrays, \"test.npy\")\n",
        "path_test_labels = os.path.join(path_to_arrays, \"test_labels.npy\")\n",
        "test_features = np.load(path_test)\n",
        "test_labels = np.load(path_test_labels)"
      ]
    },
    {
      "cell_type": "code",
      "execution_count": null,
      "metadata": {
        "colab": {
          "base_uri": "https://localhost:8080/"
        },
        "id": "7LqhID_UtbYP",
        "outputId": "a8af4698-11b7-4eda-934d-b9a1136806e2"
      },
      "outputs": [
        {
          "output_type": "execute_result",
          "data": {
            "text/plain": [
              "(2803, 32, 32, 12)"
            ]
          },
          "metadata": {},
          "execution_count": 6
        }
      ],
      "source": [
        "features.shape"
      ]
    },
    {
      "cell_type": "code",
      "execution_count": null,
      "metadata": {
        "colab": {
          "base_uri": "https://localhost:8080/"
        },
        "id": "xueWnoKRRBOy",
        "outputId": "50a57e6c-5781-4248-9dbe-180464d52ddb"
      },
      "outputs": [
        {
          "output_type": "execute_result",
          "data": {
            "text/plain": [
              "array([ 9.8300000e+02, -6.1656392e-01,  2.8613334e+00,  2.9254208e+02,\n",
              "        3.0978613e+02,  6.9211517e-03,  0.0000000e+00, -1.5406020e+00,\n",
              "        7.5210000e+03,  0.0000000e+00,  8.1897675e+01,  0.0000000e+00],\n",
              "      dtype=float32)"
            ]
          },
          "metadata": {},
          "execution_count": 7
        }
      ],
      "source": [
        "features[0][0][0]"
      ]
    },
    {
      "cell_type": "markdown",
      "metadata": {
        "id": "UUxv6XiNwQTU"
      },
      "source": [
        "# Dummy Model: Predict the same fire mask as previous-day"
      ]
    },
    {
      "cell_type": "code",
      "execution_count": null,
      "metadata": {
        "id": "VXSV7w8oiEqf"
      },
      "outputs": [],
      "source": [
        "(num_samples, r, r, num_features) = test_features.shape\n",
        "\n",
        "dummy_predictions = np.zeros(shape=(num_samples,r,r,1))\n",
        "for i in range(num_samples):\n",
        "  dummy_predictions[i,:,:,:] = test_features[i,:,:,11:]"
      ]
    },
    {
      "cell_type": "code",
      "execution_count": null,
      "metadata": {
        "colab": {
          "base_uri": "https://localhost:8080/"
        },
        "id": "NDA1HjZfmJ8M",
        "outputId": "785a1adc-3619-42ad-8050-ff04c2216aaa"
      },
      "outputs": [
        {
          "output_type": "stream",
          "name": "stdout",
          "text": [
            "AUC: 0.6770238623307233\n"
          ]
        }
      ],
      "source": [
        "from sklearn.metrics import roc_auc_score\n",
        "\n",
        "y_true_flat = test_labels.ravel()\n",
        "y_scores_flat = dummy_predictions.ravel()\n",
        "\n",
        "auc = roc_auc_score(y_true_flat, y_scores_flat)\n",
        "print(\"AUC:\", auc)"
      ]
    },
    {
      "cell_type": "markdown",
      "metadata": {
        "id": "M_jbRYTgtL76"
      },
      "source": [
        "# Predict next day fire masks"
      ]
    },
    {
      "cell_type": "markdown",
      "metadata": {
        "id": "8GR6IiGcsKPt"
      },
      "source": [
        "### Benchmark: linear regression & logistic regression"
      ]
    },
    {
      "cell_type": "code",
      "execution_count": null,
      "metadata": {
        "id": "dliqYuModeiE"
      },
      "outputs": [],
      "source": [
        "def flatten(final_certain_input_array, final_certain_labels):\n",
        "  \"\"\" Returns flat inputs and flat labels for linear models\"\"\"\n",
        "  flat_features = []\n",
        "  flat_labels = []\n",
        "  for var in range(final_certain_input_array.shape[2]):\n",
        "    flat_feature = []\n",
        "    for obs in range(final_certain_input_array.shape[3]):\n",
        "      for row in range(final_certain_input_array.shape[0]):\n",
        "          for col in range(final_certain_input_array.shape[1]):\n",
        "              flat_feature.append(final_certain_input_array[row, col, var, obs])\n",
        "    flat_features.append(np.array(flat_feature))\n",
        "\n",
        "  for obs in range(final_certain_labels.shape[2]):\n",
        "    for row in range(final_certain_labels.shape[0]):\n",
        "        for col in range(final_certain_labels.shape[1]):\n",
        "            flat_labels.append(final_certain_labels[row, col, obs])\n",
        "  flat_labels = np.array(flat_labels)\n",
        "  return flat_features, flat_labels"
      ]
    },
    {
      "cell_type": "code",
      "execution_count": null,
      "metadata": {
        "id": "NfvQFctTr8c0"
      },
      "outputs": [],
      "source": [
        "flat_features, flat_labels = flatten(final_certain_input_array, final_certain_labels)\n",
        "val_flat_features, val_flat_labels = flatten(val_final_certain_input_array, val_final_certain_labels)\n",
        "test_flat_features, test_flat_labels = flatten(test_final_certain_input_array, test_final_certain_labels)"
      ]
    },
    {
      "cell_type": "code",
      "execution_count": null,
      "metadata": {
        "id": "WKpCW2iNe-Eq"
      },
      "outputs": [],
      "source": [
        "X_train = np.vstack([np.transpose(feature) for feature in flat_features])\n",
        "X_train = np.transpose(X_train) #so that observations correspond to rows now\n",
        "Y_train = flat_labels\n",
        "\n",
        "X_val = np.vstack([np.transpose(feature) for feature in val_flat_features])\n",
        "X_val = np.transpose(X_val)\n",
        "Y_val = val_flat_labels\n",
        "\n",
        "X_test = np.vstack([np.transpose(feature) for feature in test_flat_features])\n",
        "X_test = np.transpose(X_test)\n",
        "Y_test = test_flat_labels"
      ]
    },
    {
      "cell_type": "code",
      "execution_count": null,
      "metadata": {
        "id": "1J9sQiP9hMcS"
      },
      "outputs": [],
      "source": [
        "# standardize because the units are NOT the same for the inputs\n",
        "from sklearn.preprocessing import StandardScaler\n",
        "scaler = StandardScaler()\n",
        "scaler.fit(X_train)\n",
        "X_train_scaled = scaler.transform(X_train)"
      ]
    },
    {
      "cell_type": "code",
      "execution_count": null,
      "metadata": {
        "id": "0t1qg-Gx_3jl"
      },
      "outputs": [],
      "source": [
        "#Benchmark method: Try linear regression\n",
        "\n",
        "variables = [  'Elevation',\n",
        "  'Wind\\ndirection',\n",
        "  'Wind\\nvelocity',\n",
        "  'Min\\ntemp',\n",
        "  'Max\\ntemp',\n",
        "  'Humidity',\n",
        "  'Precip',\n",
        "  'Drought',\n",
        "  'Vegetation',\n",
        "  'Population\\ndensity',\n",
        "  'Energy\\nrelease\\ncomponent',\n",
        "  'Previous\\nfire\\nmask',\n",
        "  'Fire\\nmask']\n",
        "\n",
        "#Regression time!\n",
        "from sklearn.linear_model import LinearRegression\n",
        "from sklearn.model_selection import cross_val_score\n",
        "from sklearn.metrics import mean_squared_error, r2_score\n",
        "\n",
        "lr_fire = LinearRegression().fit(X_train_scaled, Y_train)\n",
        "\n",
        "print('training R2-score:', np.round(   r2_score(  Y_train, lr_fire.predict(X_train_scaled)),2  )   )\n",
        "\n",
        "scores_fire = cross_val_score(lr_fire, X_train_scaled, Y_train, cv=10, scoring='r2')\n",
        "\n",
        "print(\"validation R2-scores:\",np.round(scores_fire,2))\n",
        "print(\"average:\", np.round(np.mean(scores_fire),2))\n",
        "\n",
        "print('LR coefficients:')\n",
        "for i, coeff in enumerate(lr_fire.coef_):\n",
        "    print('{0:5s}  {1:>-10.2f}'.format(variables[i], np.round(coeff,2)))\n"
      ]
    },
    {
      "cell_type": "code",
      "execution_count": null,
      "metadata": {
        "id": "rNenWQ_gjljS"
      },
      "outputs": [],
      "source": [
        "from sklearn.linear_model import LogisticRegression\n",
        "from sklearn.metrics import accuracy_score, classification_report\n",
        "from sklearn.model_selection import cross_val_score\n",
        "\n",
        "log_reg = LogisticRegression(max_iter=1000)\n",
        "log_reg.fit(X_train_scaled, Y_train)\n",
        "\n",
        "# Prediction and Evaluation\n",
        "Y_pred = log_reg.predict(X_train_scaled)\n",
        "print('Training accuracy:', accuracy_score(Y_train, Y_pred))\n",
        "print('Classification report:\\n', classification_report(Y_train, Y_pred))\n",
        "\n",
        "# Cross-validation\n",
        "scores_accuracy = cross_val_score(log_reg, X_train_scaled, Y_train, cv=10, scoring='accuracy')\n",
        "print(\"Validation accuracy scores:\", np.round(scores_accuracy, 2))\n",
        "print(\"Average accuracy:\", np.round(np.mean(scores_accuracy), 2))\n",
        "\n",
        "print('Logistic Regression coefficients:')\n",
        "for i, coeff in enumerate(log_reg.coef_[0]):\n",
        "    print('{0:30s} {1:>-10.2f}'.format(variables[i], coeff))\n"
      ]
    },
    {
      "cell_type": "markdown",
      "metadata": {
        "id": "WrHTpeG7oTgS"
      },
      "source": [
        "### Simple CNN"
      ]
    },
    {
      "cell_type": "code",
      "execution_count": null,
      "metadata": {
        "colab": {
          "base_uri": "https://localhost:8080/"
        },
        "id": "Wjp5Vx2yprGa",
        "outputId": "c07ad2bb-4d7e-4a0f-f9d1-65078e6e5652"
      },
      "outputs": [
        {
          "name": "stdout",
          "output_type": "stream",
          "text": [
            "Model: \"sequential\"\n",
            "_________________________________________________________________\n",
            " Layer (type)                Output Shape              Param #   \n",
            "=================================================================\n",
            " conv2d (Conv2D)             (None, 32, 32, 32)        3488      \n",
            "                                                                 \n",
            " max_pooling2d (MaxPooling2  (None, 16, 16, 32)        0         \n",
            " D)                                                              \n",
            "                                                                 \n",
            " conv2d_1 (Conv2D)           (None, 16, 16, 64)        18496     \n",
            "                                                                 \n",
            " max_pooling2d_1 (MaxPoolin  (None, 8, 8, 64)          0         \n",
            " g2D)                                                            \n",
            "                                                                 \n",
            " conv2d_2 (Conv2D)           (None, 8, 8, 128)         73856     \n",
            "                                                                 \n",
            " conv2d_transpose (Conv2DTr  (None, 16, 16, 128)       147584    \n",
            " anspose)                                                        \n",
            "                                                                 \n",
            " conv2d_transpose_1 (Conv2D  (None, 32, 32, 64)        73792     \n",
            " Transpose)                                                      \n",
            "                                                                 \n",
            " conv2d_3 (Conv2D)           (None, 32, 32, 1)         65        \n",
            "                                                                 \n",
            "=================================================================\n",
            "Total params: 317281 (1.21 MB)\n",
            "Trainable params: 317281 (1.21 MB)\n",
            "Non-trainable params: 0 (0.00 Byte)\n",
            "_________________________________________________________________\n"
          ]
        }
      ],
      "source": [
        "CNN = Sequential([\n",
        "    Conv2D(32, (3, 3), activation='relu', padding='same', input_shape=(32, 32, 12)),\n",
        "    MaxPooling2D((2, 2), padding='same'),\n",
        "    Conv2D(64, (3, 3), activation='relu', padding='same'),\n",
        "    MaxPooling2D((2, 2), padding='same'),\n",
        "    Conv2D(128, (3, 3), activation='relu', padding='same'),\n",
        "    Conv2DTranspose(128, (3, 3), strides=(2, 2), padding='same', activation='relu'),\n",
        "    Conv2DTranspose(64, (3, 3), strides=(2, 2), padding='same', activation='relu'),\n",
        "    Conv2D(1, (1, 1), activation='sigmoid', padding='same')\n",
        "])\n",
        "optimizer = Adam(learning_rate=0.0001)\n",
        "CNN.compile(optimizer=optimizer, loss='binary_crossentropy', metrics=['accuracy', AUC(name='auc')])\n",
        "CNN.summary()"
      ]
    },
    {
      "cell_type": "code",
      "execution_count": null,
      "metadata": {
        "id": "b_S2BpV7pvpi"
      },
      "outputs": [],
      "source": [
        "history_CNN = CNN.fit(features, labels, epochs=30, batch_size=16, validation_data=(val_features, val_labels))"
      ]
    },
    {
      "cell_type": "code",
      "execution_count": null,
      "metadata": {
        "colab": {
          "base_uri": "https://localhost:8080/",
          "height": 564
        },
        "id": "VNLP-f1Q-Esy",
        "outputId": "794494de-8cf3-42c6-9359-e1898d0a3d46"
      },
      "outputs": [
        {
          "data": {
            "image/png": "[encoded data removed]",
            "text/plain": [
              "<Figure size 1000x600 with 1 Axes>"
            ]
          },
          "metadata": {},
          "output_type": "display_data"
        }
      ],
      "source": [
        "import matplotlib.pyplot as plt\n",
        "loss = history_CNN.history['loss']\n",
        "val_loss = history_CNN.history['val_loss']\n",
        "\n",
        "epochs = range(1, len(loss) + 1)\n",
        "\n",
        "plt.figure(figsize=(10, 6))  # Optional: Adjusts the size of the plot\n",
        "plt.plot(epochs, loss, label='Training Loss', color='blue', marker='o')\n",
        "if val_loss is not None:\n",
        "    plt.plot(epochs, val_loss, label='Validation Loss', color='red', marker='o')\n",
        "\n",
        "plt.title('CNN Training and Validation Loss')\n",
        "plt.xlabel('Epochs')\n",
        "plt.ylabel('Loss')\n",
        "plt.legend()\n",
        "# plt.grid(True)  # Optional: Adds a grid for easier reading\n",
        "plt.show()"
      ]
    },
    {
      "cell_type": "code",
      "execution_count": null,
      "metadata": {
        "colab": {
          "base_uri": "https://localhost:8080/"
        },
        "id": "VGWK5QKBp0lK",
        "outputId": "3cd9ac19-8ede-4d99-cf0a-5091199e0c0d"
      },
      "outputs": [
        {
          "name": "stdout",
          "output_type": "stream",
          "text": [
            "11/11 [==============================] - 1s 23ms/step - loss: 0.2602 - accuracy: 0.9290 - auc: 0.6976\n",
            "Test Loss: 0.2601945400238037, Test Accuracy: 0.9289951324462891, Test AUC: 0.6976168751716614\n"
          ]
        }
      ],
      "source": [
        "# Evaluate on test set\n",
        "scores = CNN.evaluate(test_features, test_labels)\n",
        "print(f'Test Loss: {scores[0]}, Test Accuracy: {scores[1]}, Test AUC: {scores[2]}')"
      ]
    },
    {
      "cell_type": "code",
      "execution_count": null,
      "metadata": {
        "colab": {
          "base_uri": "https://localhost:8080/"
        },
        "id": "yxt3uMtep64E",
        "outputId": "f49e98f8-a9ec-42ce-dc00-b348d639d9fc"
      },
      "outputs": [
        {
          "name": "stdout",
          "output_type": "stream",
          "text": [
            "11/11 [==============================] - 0s 4ms/step\n"
          ]
        }
      ],
      "source": [
        "# Predictions sur X_train pour voir si déjà ça ça marche (ça marche pas)\n",
        "predicted_masks_CNN = CNN.predict(test_features)"
      ]
    },
    {
      "cell_type": "code",
      "execution_count": null,
      "metadata": {
        "colab": {
          "base_uri": "https://localhost:8080/",
          "height": 657
        },
        "id": "bbq9JbtRp-4R",
        "outputId": "801f0e22-fef7-4450-961d-bd528a65ffe2"
      },
      "outputs": [
        {
          "data": {
            "image/png": "[encoded data removed]",
            "text/plain": [
              "<Figure size 1500x650 with 9 Axes>"
            ]
          },
          "metadata": {},
          "output_type": "display_data"
        }
      ],
      "source": [
        "TITLES_pred = [\"Previous-day Fire Mask\", \"Next-day Fire Mask\",\"Predicted Fire Mask\"]\n",
        "fig = plt.figure(figsize=(15,6.5))\n",
        "n_rows = 3\n",
        "CMAP = colors.ListedColormap(['black', \"#FAF3CE\", '#F41724'])\n",
        "BOUNDS = [-1, -0.1, 0.001, 1]\n",
        "NORM = colors.BoundaryNorm(BOUNDS, CMAP.N)\n",
        "\n",
        "for i in range(n_rows):\n",
        "  for j in range(3):\n",
        "    plt.subplot(n_rows, 3, i * (3) + j + 1)\n",
        "    if i == 0:\n",
        "      plt.title(TITLES_pred[j], fontsize=13)\n",
        "    if j == 0:\n",
        "      plt.imshow(test_features[i, :, :, 11], cmap=CMAP, norm=NORM)\n",
        "    if j == 1:\n",
        "      plt.imshow(test_labels[i, :, :, 0], cmap=CMAP, norm=NORM)\n",
        "    if j == 2:\n",
        "      plt.imshow(predicted_masks_CNN[i,:,:], cmap=CMAP, norm=NORM)\n",
        "    plt.axis('off')\n",
        "plt.tight_layout()"
      ]
    },
    {
      "cell_type": "markdown",
      "metadata": {
        "id": "9zZUA9bnWo4x"
      },
      "source": [
        "### Weighted cross-entropy loss\n",
        "Different weights on the ‘fire’ labels to take into account\n",
        "the class imbalance"
      ]
    },
    {
      "cell_type": "code",
      "execution_count": null,
      "metadata": {
        "id": "EEk-OrdRSDEA"
      },
      "outputs": [],
      "source": [
        "!pip install torchmetrics\n",
        "import torch\n",
        "import torchmetrics"
      ]
    },
    {
      "cell_type": "code",
      "execution_count": null,
      "metadata": {
        "id": "SrG9pGkvYNzv"
      },
      "outputs": [],
      "source": [
        "class CNN_model(nn.Module):\n",
        "    def __init__(self):\n",
        "        super(CNN_model, self).__init__()\n",
        "\n",
        "        # Encoder\n",
        "        self.conv1 = nn.Conv2d(12, 32, kernel_size=3, padding='same')\n",
        "        self.pool = nn.MaxPool2d(2, padding=0)\n",
        "        self.conv2 = nn.Conv2d(32, 64, kernel_size=3, padding='same')\n",
        "        self.conv3 = nn.Conv2d(64, 128, kernel_size=3, padding='same')\n",
        "\n",
        "        # Decoder\n",
        "        self.t_conv1 = nn.ConvTranspose2d(128, 128, kernel_size=3, stride=2, padding=1, output_padding=1)\n",
        "        self.t_conv2 = nn.ConvTranspose2d(128, 64, kernel_size=3, stride=2, padding=1, output_padding=1)\n",
        "        self.conv4 = nn.Conv2d(64, 1, kernel_size=1, padding='same')\n",
        "\n",
        "    def forward(self, x):\n",
        "        # Encoder\n",
        "        x = F.relu(self.conv1(x))\n",
        "        x = self.pool(x)\n",
        "        x = F.relu(self.conv2(x))\n",
        "        x = self.pool(x)\n",
        "        x = F.relu(self.conv3(x))\n",
        "        # Decoder\n",
        "        x = F.relu(self.t_conv1(x))\n",
        "        x = F.relu(self.t_conv2(x))\n",
        "        x = self.conv4(x)  # Output logits for BCEWithLogitsLoss\n",
        "        return x"
      ]
    },
    {
      "cell_type": "code",
      "execution_count": null,
      "metadata": {
        "id": "MQEFBKyKaa6S"
      },
      "outputs": [],
      "source": [
        "# Create dataset\n",
        "features_tensor = torch.tensor(features, dtype=torch.float32).permute(0, 3, 1, 2) # [batch_size, channels, height, width]\n",
        "labels_tensor = torch.tensor(labels, dtype=torch.float32).permute(0, 3, 1, 2)\n",
        "\n",
        "train_dataset = TensorDataset(features_tensor, labels_tensor)\n",
        "train_loader = DataLoader(dataset=train_dataset, batch_size=16, shuffle=False)"
      ]
    },
    {
      "cell_type": "code",
      "execution_count": null,
      "metadata": {
        "id": "wDN9wiJRblYi"
      },
      "outputs": [],
      "source": [
        "def train_model(model, data_loader, criterion, optimizer, device, num_epochs=10):\n",
        "    model.train()\n",
        "    for epoch in range(num_epochs):\n",
        "        running_loss = 0.0\n",
        "        for inputs, targets in data_loader:\n",
        "            inputs, targets = inputs.to(device), targets.to(device)\n",
        "\n",
        "            outputs = model(inputs)\n",
        "            loss = criterion(outputs, targets)\n",
        "\n",
        "            optimizer.zero_grad()\n",
        "            loss.backward()\n",
        "            optimizer.step()\n",
        "\n",
        "            running_loss += loss.item()\n",
        "\n",
        "        epoch_loss = running_loss / len(data_loader.dataset)\n",
        "        print(f'Epoch {epoch+1}/{num_epochs}, Loss: {epoch_loss:.4f}')\n"
      ]
    },
    {
      "cell_type": "code",
      "source": [
        "!pip install ray"
      ],
      "metadata": {
        "id": "_FjkotzXPRZ6"
      },
      "execution_count": null,
      "outputs": []
    },
    {
      "cell_type": "code",
      "source": [
        "def train_model(config, checkpoint_dir=None, data_loader=None):\n",
        "    device = \"cuda\" if torch.cuda.is_available() else \"cpu\"\n",
        "    model = CNN_model().to(device)\n",
        "    criterion = nn.BCEWithLogitsLoss()\n",
        "    optimizer = torch.optim.Adam(model.parameters(), lr=config[\"lr\"])\n",
        "\n",
        "    if checkpoint_dir:\n",
        "        model_state, optimizer_state = torch.load(\n",
        "            os.path.join(checkpoint_dir, \"checkpoint\"))\n",
        "        model.load_state_dict(model_state)\n",
        "        optimizer.load_state_dict(optimizer_state)\n",
        "\n",
        "    model.train()\n",
        "    for epoch in range(config['num_epochs']):  # You can also pass the number of epochs in config\n",
        "        running_loss = 0.0\n",
        "        for inputs, targets in data_loader:\n",
        "            inputs, targets = inputs.to(device), targets.to(device)\n",
        "            optimizer.zero_grad()\n",
        "            outputs = model(inputs)\n",
        "            loss = criterion(outputs, targets)\n",
        "            loss.backward()\n",
        "            optimizer.step()\n",
        "            running_loss += loss.item()\n",
        "\n",
        "        tune.report(loss=(running_loss / len(data_loader.dataset)))\n"
      ],
      "metadata": {
        "id": "zTBgTs6_O0RM"
      },
      "execution_count": null,
      "outputs": []
    },
    {
      "cell_type": "code",
      "source": [],
      "metadata": {
        "id": "wECSt2GhSG4n"
      },
      "execution_count": null,
      "outputs": []
    },
    {
      "cell_type": "code",
      "source": [
        "from ray import tune"
      ],
      "metadata": {
        "id": "8xw-IjMVPeZt"
      },
      "execution_count": null,
      "outputs": []
    },
    {
      "cell_type": "code",
      "source": [
        "search_space = {\n",
        "    \"lr\": tune.loguniform(1e-4, 1e-1),  # Learning rate in a log-uniform space\n",
        "    \"batch_size\": tune.choice([32, 64, 128, 256]),  # Batch size options\n",
        "    \"optimizer\": tune.choice([\"Adam\", \"SGD\", \"RMSprop\"]),  # Optimizer types\n",
        "    \"num_filters_conv1\": tune.choice([16, 32, 64]),  # Number of filters in the first conv layer\n",
        "    \"num_filters_conv2\": tune.choice([32, 64, 128]),  # Number of filters in the second conv layer\n",
        "    \"num_filters_conv3\": tune.choice([64, 128, 256]),  # Number of filters in the third conv layer\n",
        "    \"kernel_size\": tune.choice([3, 5]),  # Kernel sizes for convolutions\n",
        "    \"dropout_rate\": tune.uniform(0.0, 0.5),  # Dropout rate\n",
        "    \"activation\": tune.choice([\"relu\", \"leaky_relu\", \"elu\"]),  # Activation functions\n",
        "    \"weight_init\": tune.choice([\"xavier_uniform\", \"he_uniform\"]),  # Weight initialization methods\n",
        "    \"momentum\": tune.uniform(0.8, 0.99),  # Momentum (only applicable if SGD is chosen)\n",
        "    \"weight_decay\": tune.loguniform(1e-4, 1e-2)  # Weight decay for regularization\n",
        "}"
      ],
      "metadata": {
        "id": "F6gtFSPJPMo8"
      },
      "execution_count": null,
      "outputs": []
    },
    {
      "cell_type": "code",
      "source": [
        "def create_model(config):\n",
        "    model = CNN_model(\n",
        "        num_filters_conv1=config[\"num_filters_conv1\"],\n",
        "        num_filters_conv2=config[\"num_filters_conv2\"],\n",
        "        num_filters_conv3=config[\"num_filters_conv3\"],\n",
        "        kernel_size=config[\"kernel_size\"],\n",
        "        dropout_rate=config[\"dropout_rate\"],\n",
        "        activation=config[\"activation\"],\n",
        "        weight_init=config[\"weight_init\"]\n",
        "    )\n",
        "    return model\n",
        "\n",
        "# Example on how to configure the optimizer\n",
        "def configure_optimizer(model, config):\n",
        "    optimizer_type = config[\"optimizer\"]\n",
        "    if optimizer_type == \"Adam\":\n",
        "        return torch.optim.Adam(model.parameters(), lr=config[\"lr\"], weight_decay=config[\"weight_decay\"])\n",
        "    elif optimizer_type == \"SGD\":\n",
        "        return torch.optim.SGD(model.parameters(), lr=config[\"lr\"], momentum=config[\"momentum\"], weight_decay=config[\"weight_decay\"])\n",
        "    elif optimizer_type == \"RMSprop\":\n",
        "        return torch.optim.RMSprop(model.parameters(), lr=config[\"lr\"], weight_decay=config[\"weight_decay\"])\n",
        "    else:\n",
        "        raise ValueError(\"Unsupported optimizer type\")"
      ],
      "metadata": {
        "id": "Cpb-TCwgPO-W"
      },
      "execution_count": null,
      "outputs": []
    },
    {
      "cell_type": "code",
      "source": [
        "from ray import tune\n",
        "import torch\n",
        "import torch.nn as nn\n",
        "import torch.nn.functional as F\n",
        "\n",
        "def train_model(config, checkpoint_dir=None, data_loader=None):\n",
        "    device = \"cuda\" if torch.cuda.is_available() else \"cpu\"\n",
        "    model = CNN_model().to(device)\n",
        "    criterion = nn.BCEWithLogitsLoss()\n",
        "    optimizer = torch.optim.Adam(model.parameters(), lr=config[\"lr\"])\n",
        "\n",
        "    if checkpoint_dir:\n",
        "        print(\"what?\")\n",
        "        model_state, optimizer_state = torch.load(\n",
        "            os.path.join(checkpoint_dir, \"checkpoint\"))\n",
        "        model.load_state_dict(model_state)\n",
        "        optimizer.load_state_dict(optimizer_state)\n",
        "\n",
        "    model.train()\n",
        "    for epoch in range(20):  # You can also pass the number of epochs in config\n",
        "        running_loss = 0.0\n",
        "        for inputs, targets in data_loader:\n",
        "            inputs, targets = inputs.to(device), targets.to(device)\n",
        "            optimizer.zero_grad()\n",
        "            outputs = model(inputs)\n",
        "            loss = criterion(outputs, targets)\n",
        "            loss.backward()\n",
        "            optimizer.step()\n",
        "            running_loss += loss.item()\n",
        "\n",
        "        tune.report(loss=(running_loss / len(data_loader.dataset)))\n",
        "\n",
        "# Configure and run the Ray Tune experiment\n",
        "analysis = tune.run(\n",
        "    train_model,\n",
        "    resources_per_trial={\"gpu\": 1},  # Adjust based on your GPU availability\n",
        "    config=search_space,\n",
        "    num_samples=40,  # Number of different hyperparameter samples to try  # Pass your DataLoader here\n",
        ")\n",
        "\n",
        "print(\"Best hyperparameters found were: \", analysis.best_config)\n"
      ],
      "metadata": {
        "colab": {
          "base_uri": "https://localhost:8080/",
          "height": 408
        },
        "id": "ufpsvtOYPk8K",
        "outputId": "07504e0e-6ff8-4817-e3e4-6babcf06150e"
      },
      "execution_count": null,
      "outputs": [
        {
          "output_type": "error",
          "ename": "ValueError",
          "evalue": "I/O operation on closed file",
          "traceback": [
            "\u001b[0;31m---------------------------------------------------------------------------\u001b[0m",
            "\u001b[0;31mValueError\u001b[0m                                Traceback (most recent call last)",
            "\u001b[0;32m/usr/lib/python3.10/logging/__init__.py\u001b[0m in \u001b[0;36memit\u001b[0;34m(self, record)\u001b[0m\n\u001b[1;32m   1102\u001b[0m             \u001b[0;31m# issue 35046: merged two stream.writes into one.\u001b[0m\u001b[0;34m\u001b[0m\u001b[0;34m\u001b[0m\u001b[0m\n\u001b[0;32m-> 1103\u001b[0;31m             \u001b[0mstream\u001b[0m\u001b[0;34m.\u001b[0m\u001b[0mwrite\u001b[0m\u001b[0;34m(\u001b[0m\u001b[0mmsg\u001b[0m \u001b[0;34m+\u001b[0m \u001b[0mself\u001b[0m\u001b[0;34m.\u001b[0m\u001b[0mterminator\u001b[0m\u001b[0;34m)\u001b[0m\u001b[0;34m\u001b[0m\u001b[0;34m\u001b[0m\u001b[0m\n\u001b[0m\u001b[1;32m   1104\u001b[0m             \u001b[0mself\u001b[0m\u001b[0;34m.\u001b[0m\u001b[0mflush\u001b[0m\u001b[0;34m(\u001b[0m\u001b[0;34m)\u001b[0m\u001b[0;34m\u001b[0m\u001b[0;34m\u001b[0m\u001b[0m\n",
            "\u001b[0;32m/usr/local/lib/python3.10/dist-packages/colorama/ansitowin32.py\u001b[0m in \u001b[0;36mwrite\u001b[0;34m(self, text)\u001b[0m\n\u001b[1;32m     46\u001b[0m     \u001b[0;32mdef\u001b[0m \u001b[0mwrite\u001b[0m\u001b[0;34m(\u001b[0m\u001b[0mself\u001b[0m\u001b[0;34m,\u001b[0m \u001b[0mtext\u001b[0m\u001b[0;34m)\u001b[0m\u001b[0;34m:\u001b[0m\u001b[0;34m\u001b[0m\u001b[0;34m\u001b[0m\u001b[0m\n\u001b[0;32m---> 47\u001b[0;31m         \u001b[0mself\u001b[0m\u001b[0;34m.\u001b[0m\u001b[0m__convertor\u001b[0m\u001b[0;34m.\u001b[0m\u001b[0mwrite\u001b[0m\u001b[0;34m(\u001b[0m\u001b[0mtext\u001b[0m\u001b[0;34m)\u001b[0m\u001b[0;34m\u001b[0m\u001b[0;34m\u001b[0m\u001b[0m\n\u001b[0m\u001b[1;32m     48\u001b[0m \u001b[0;34m\u001b[0m\u001b[0m\n",
            "\u001b[0;32m/usr/local/lib/python3.10/dist-packages/colorama/ansitowin32.py\u001b[0m in \u001b[0;36mwrite\u001b[0;34m(self, text)\u001b[0m\n\u001b[1;32m    176\u001b[0m         \u001b[0;32mif\u001b[0m \u001b[0mself\u001b[0m\u001b[0;34m.\u001b[0m\u001b[0mstrip\u001b[0m \u001b[0;32mor\u001b[0m \u001b[0mself\u001b[0m\u001b[0;34m.\u001b[0m\u001b[0mconvert\u001b[0m\u001b[0;34m:\u001b[0m\u001b[0;34m\u001b[0m\u001b[0;34m\u001b[0m\u001b[0m\n\u001b[0;32m--> 177\u001b[0;31m             \u001b[0mself\u001b[0m\u001b[0;34m.\u001b[0m\u001b[0mwrite_and_convert\u001b[0m\u001b[0;34m(\u001b[0m\u001b[0mtext\u001b[0m\u001b[0;34m)\u001b[0m\u001b[0;34m\u001b[0m\u001b[0;34m\u001b[0m\u001b[0m\n\u001b[0m\u001b[1;32m    178\u001b[0m         \u001b[0;32melse\u001b[0m\u001b[0;34m:\u001b[0m\u001b[0;34m\u001b[0m\u001b[0;34m\u001b[0m\u001b[0m\n",
            "\u001b[0;32m/usr/local/lib/python3.10/dist-packages/colorama/ansitowin32.py\u001b[0m in \u001b[0;36mwrite_and_convert\u001b[0;34m(self, text)\u001b[0m\n\u001b[1;32m    204\u001b[0m             \u001b[0mcursor\u001b[0m \u001b[0;34m=\u001b[0m \u001b[0mend\u001b[0m\u001b[0;34m\u001b[0m\u001b[0;34m\u001b[0m\u001b[0m\n\u001b[0;32m--> 205\u001b[0;31m         \u001b[0mself\u001b[0m\u001b[0;34m.\u001b[0m\u001b[0mwrite_plain_text\u001b[0m\u001b[0;34m(\u001b[0m\u001b[0mtext\u001b[0m\u001b[0;34m,\u001b[0m \u001b[0mcursor\u001b[0m\u001b[0;34m,\u001b[0m \u001b[0mlen\u001b[0m\u001b[0;34m(\u001b[0m\u001b[0mtext\u001b[0m\u001b[0;34m)\u001b[0m\u001b[0;34m)\u001b[0m\u001b[0;34m\u001b[0m\u001b[0;34m\u001b[0m\u001b[0m\n\u001b[0m\u001b[1;32m    206\u001b[0m \u001b[0;34m\u001b[0m\u001b[0m\n",
            "\u001b[0;32m/usr/local/lib/python3.10/dist-packages/colorama/ansitowin32.py\u001b[0m in \u001b[0;36mwrite_plain_text\u001b[0;34m(self, text, start, end)\u001b[0m\n\u001b[1;32m    209\u001b[0m         \u001b[0;32mif\u001b[0m \u001b[0mstart\u001b[0m \u001b[0;34m<\u001b[0m \u001b[0mend\u001b[0m\u001b[0;34m:\u001b[0m\u001b[0;34m\u001b[0m\u001b[0;34m\u001b[0m\u001b[0m\n\u001b[0;32m--> 210\u001b[0;31m             \u001b[0mself\u001b[0m\u001b[0;34m.\u001b[0m\u001b[0mwrapped\u001b[0m\u001b[0;34m.\u001b[0m\u001b[0mwrite\u001b[0m\u001b[0;34m(\u001b[0m\u001b[0mtext\u001b[0m\u001b[0;34m[\u001b[0m\u001b[0mstart\u001b[0m\u001b[0;34m:\u001b[0m\u001b[0mend\u001b[0m\u001b[0;34m]\u001b[0m\u001b[0;34m)\u001b[0m\u001b[0;34m\u001b[0m\u001b[0;34m\u001b[0m\u001b[0m\n\u001b[0m\u001b[1;32m    211\u001b[0m             \u001b[0mself\u001b[0m\u001b[0;34m.\u001b[0m\u001b[0mwrapped\u001b[0m\u001b[0;34m.\u001b[0m\u001b[0mflush\u001b[0m\u001b[0;34m(\u001b[0m\u001b[0;34m)\u001b[0m\u001b[0;34m\u001b[0m\u001b[0;34m\u001b[0m\u001b[0m\n",
            "\u001b[0;32m/usr/local/lib/python3.10/dist-packages/ipykernel/iostream.py\u001b[0m in \u001b[0;36mwrite\u001b[0;34m(self, string)\u001b[0m\n\u001b[1;32m    393\u001b[0m         \u001b[0;32mif\u001b[0m \u001b[0mself\u001b[0m\u001b[0;34m.\u001b[0m\u001b[0mpub_thread\u001b[0m \u001b[0;32mis\u001b[0m \u001b[0;32mNone\u001b[0m\u001b[0;34m:\u001b[0m\u001b[0;34m\u001b[0m\u001b[0;34m\u001b[0m\u001b[0m\n\u001b[0;32m--> 394\u001b[0;31m             \u001b[0;32mraise\u001b[0m \u001b[0mValueError\u001b[0m\u001b[0;34m(\u001b[0m\u001b[0;34m'I/O operation on closed file'\u001b[0m\u001b[0;34m)\u001b[0m\u001b[0;34m\u001b[0m\u001b[0;34m\u001b[0m\u001b[0m\n\u001b[0m\u001b[1;32m    395\u001b[0m         \u001b[0;32melse\u001b[0m\u001b[0;34m:\u001b[0m\u001b[0;34m\u001b[0m\u001b[0;34m\u001b[0m\u001b[0m\n",
            "\u001b[0;31mValueError\u001b[0m: I/O operation on closed file",
            "\nDuring handling of the above exception, another exception occurred:\n",
            "\u001b[0;31mValueError\u001b[0m                                Traceback (most recent call last)",
            "\u001b[0;32m<ipython-input-24-8af83e74dbd7>\u001b[0m in \u001b[0;36m<cell line: 34>\u001b[0;34m()\u001b[0m\n\u001b[1;32m     32\u001b[0m \u001b[0;34m\u001b[0m\u001b[0m\n\u001b[1;32m     33\u001b[0m \u001b[0;31m# Configure and run the Ray Tune experiment\u001b[0m\u001b[0;34m\u001b[0m\u001b[0;34m\u001b[0m\u001b[0m\n\u001b[0;32m---> 34\u001b[0;31m analysis = tune.run(\n\u001b[0m\u001b[1;32m     35\u001b[0m     \u001b[0mtrain_model\u001b[0m\u001b[0;34m,\u001b[0m\u001b[0;34m\u001b[0m\u001b[0;34m\u001b[0m\u001b[0m\n\u001b[1;32m     36\u001b[0m     \u001b[0mresources_per_trial\u001b[0m\u001b[0;34m=\u001b[0m\u001b[0;34m{\u001b[0m\u001b[0;34m\"gpu\"\u001b[0m\u001b[0;34m:\u001b[0m \u001b[0;36m1\u001b[0m\u001b[0;34m}\u001b[0m\u001b[0;34m,\u001b[0m  \u001b[0;31m# Adjust based on your GPU availability\u001b[0m\u001b[0;34m\u001b[0m\u001b[0;34m\u001b[0m\u001b[0m\n",
            "\u001b[0;32m/usr/local/lib/python3.10/dist-packages/ray/tune/tune.py\u001b[0m in \u001b[0;36mrun\u001b[0;34m(run_or_experiment, name, metric, mode, stop, time_budget_s, config, resources_per_trial, num_samples, storage_path, storage_filesystem, search_alg, scheduler, checkpoint_config, verbose, progress_reporter, log_to_file, trial_name_creator, trial_dirname_creator, sync_config, export_formats, max_failures, fail_fast, restore, resume, resume_config, reuse_actors, raise_on_failed_trial, callbacks, max_concurrent_trials, keep_checkpoints_num, checkpoint_score_attr, checkpoint_freq, checkpoint_at_end, chdir_to_trial_dir, local_dir, _remote, _remote_string_queue, _entrypoint)\u001b[0m\n\u001b[1;32m    525\u001b[0m         }\n\u001b[1;32m    526\u001b[0m \u001b[0;34m\u001b[0m\u001b[0m\n\u001b[0;32m--> 527\u001b[0;31m     \u001b[0m_ray_auto_init\u001b[0m\u001b[0;34m(\u001b[0m\u001b[0mentrypoint\u001b[0m\u001b[0;34m=\u001b[0m\u001b[0merror_message_map\u001b[0m\u001b[0;34m[\u001b[0m\u001b[0;34m\"entrypoint\"\u001b[0m\u001b[0;34m]\u001b[0m\u001b[0;34m)\u001b[0m\u001b[0;34m\u001b[0m\u001b[0;34m\u001b[0m\u001b[0m\n\u001b[0m\u001b[1;32m    528\u001b[0m \u001b[0;34m\u001b[0m\u001b[0m\n\u001b[1;32m    529\u001b[0m     \u001b[0;32mif\u001b[0m \u001b[0m_remote\u001b[0m \u001b[0;32mis\u001b[0m \u001b[0;32mNone\u001b[0m\u001b[0;34m:\u001b[0m\u001b[0;34m\u001b[0m\u001b[0;34m\u001b[0m\u001b[0m\n",
            "\u001b[0;32m/usr/local/lib/python3.10/dist-packages/ray/tune/tune.py\u001b[0m in \u001b[0;36m_ray_auto_init\u001b[0;34m(entrypoint)\u001b[0m\n\u001b[1;32m    250\u001b[0m         \u001b[0mlogger\u001b[0m\u001b[0;34m.\u001b[0m\u001b[0minfo\u001b[0m\u001b[0;34m(\u001b[0m\u001b[0;34m\"'TUNE_DISABLE_AUTO_INIT=1' detected.\"\u001b[0m\u001b[0;34m)\u001b[0m\u001b[0;34m\u001b[0m\u001b[0;34m\u001b[0m\u001b[0m\n\u001b[1;32m    251\u001b[0m     \u001b[0;32melif\u001b[0m \u001b[0;32mnot\u001b[0m \u001b[0mray\u001b[0m\u001b[0;34m.\u001b[0m\u001b[0mis_initialized\u001b[0m\u001b[0;34m(\u001b[0m\u001b[0;34m)\u001b[0m\u001b[0;34m:\u001b[0m\u001b[0;34m\u001b[0m\u001b[0;34m\u001b[0m\u001b[0m\n\u001b[0;32m--> 252\u001b[0;31m         \u001b[0mray\u001b[0m\u001b[0;34m.\u001b[0m\u001b[0minit\u001b[0m\u001b[0;34m(\u001b[0m\u001b[0;34m)\u001b[0m\u001b[0;34m\u001b[0m\u001b[0;34m\u001b[0m\u001b[0m\n\u001b[0m\u001b[1;32m    253\u001b[0m         logger.info(\n\u001b[1;32m    254\u001b[0m             \u001b[0;34m\"Initializing Ray automatically. \"\u001b[0m\u001b[0;34m\u001b[0m\u001b[0;34m\u001b[0m\u001b[0m\n",
            "\u001b[0;32m/usr/local/lib/python3.10/dist-packages/ray/_private/client_mode_hook.py\u001b[0m in \u001b[0;36mwrapper\u001b[0;34m(*args, **kwargs)\u001b[0m\n\u001b[1;32m    101\u001b[0m             \u001b[0;32mif\u001b[0m \u001b[0mfunc\u001b[0m\u001b[0;34m.\u001b[0m\u001b[0m__name__\u001b[0m \u001b[0;34m!=\u001b[0m \u001b[0;34m\"init\"\u001b[0m \u001b[0;32mor\u001b[0m \u001b[0mis_client_mode_enabled_by_default\u001b[0m\u001b[0;34m:\u001b[0m\u001b[0;34m\u001b[0m\u001b[0;34m\u001b[0m\u001b[0m\n\u001b[1;32m    102\u001b[0m                 \u001b[0;32mreturn\u001b[0m \u001b[0mgetattr\u001b[0m\u001b[0;34m(\u001b[0m\u001b[0mray\u001b[0m\u001b[0;34m,\u001b[0m \u001b[0mfunc\u001b[0m\u001b[0;34m.\u001b[0m\u001b[0m__name__\u001b[0m\u001b[0;34m)\u001b[0m\u001b[0;34m(\u001b[0m\u001b[0;34m*\u001b[0m\u001b[0margs\u001b[0m\u001b[0;34m,\u001b[0m \u001b[0;34m**\u001b[0m\u001b[0mkwargs\u001b[0m\u001b[0;34m)\u001b[0m\u001b[0;34m\u001b[0m\u001b[0;34m\u001b[0m\u001b[0m\n\u001b[0;32m--> 103\u001b[0;31m         \u001b[0;32mreturn\u001b[0m \u001b[0mfunc\u001b[0m\u001b[0;34m(\u001b[0m\u001b[0;34m*\u001b[0m\u001b[0margs\u001b[0m\u001b[0;34m,\u001b[0m \u001b[0;34m**\u001b[0m\u001b[0mkwargs\u001b[0m\u001b[0;34m)\u001b[0m\u001b[0;34m\u001b[0m\u001b[0;34m\u001b[0m\u001b[0m\n\u001b[0m\u001b[1;32m    104\u001b[0m \u001b[0;34m\u001b[0m\u001b[0m\n\u001b[1;32m    105\u001b[0m     \u001b[0;32mreturn\u001b[0m \u001b[0mwrapper\u001b[0m\u001b[0;34m\u001b[0m\u001b[0;34m\u001b[0m\u001b[0m\n",
            "\u001b[0;32m/usr/local/lib/python3.10/dist-packages/ray/_private/worker.py\u001b[0m in \u001b[0;36minit\u001b[0;34m(address, num_cpus, num_gpus, resources, labels, object_store_memory, local_mode, ignore_reinit_error, include_dashboard, dashboard_host, dashboard_port, job_config, configure_logging, logging_level, logging_format, log_to_driver, namespace, runtime_env, storage, **kwargs)\u001b[0m\n\u001b[1;32m   1747\u001b[0m         )\n\u001b[1;32m   1748\u001b[0m     \u001b[0;32melse\u001b[0m\u001b[0;34m:\u001b[0m\u001b[0;34m\u001b[0m\u001b[0;34m\u001b[0m\u001b[0m\n\u001b[0;32m-> 1749\u001b[0;31m         \u001b[0mlogger\u001b[0m\u001b[0;34m.\u001b[0m\u001b[0minfo\u001b[0m\u001b[0;34m(\u001b[0m\u001b[0minfo_str\u001b[0m\u001b[0;34m)\u001b[0m\u001b[0;34m\u001b[0m\u001b[0;34m\u001b[0m\u001b[0m\n\u001b[0m\u001b[1;32m   1750\u001b[0m \u001b[0;34m\u001b[0m\u001b[0m\n\u001b[1;32m   1751\u001b[0m     connect(\n",
            "\u001b[0;32m/usr/lib/python3.10/logging/__init__.py\u001b[0m in \u001b[0;36minfo\u001b[0;34m(self, msg, *args, **kwargs)\u001b[0m\n\u001b[1;32m   1475\u001b[0m         \"\"\"\n\u001b[1;32m   1476\u001b[0m         \u001b[0;32mif\u001b[0m \u001b[0mself\u001b[0m\u001b[0;34m.\u001b[0m\u001b[0misEnabledFor\u001b[0m\u001b[0;34m(\u001b[0m\u001b[0mINFO\u001b[0m\u001b[0;34m)\u001b[0m\u001b[0;34m:\u001b[0m\u001b[0;34m\u001b[0m\u001b[0;34m\u001b[0m\u001b[0m\n\u001b[0;32m-> 1477\u001b[0;31m             \u001b[0mself\u001b[0m\u001b[0;34m.\u001b[0m\u001b[0m_log\u001b[0m\u001b[0;34m(\u001b[0m\u001b[0mINFO\u001b[0m\u001b[0;34m,\u001b[0m \u001b[0mmsg\u001b[0m\u001b[0;34m,\u001b[0m \u001b[0margs\u001b[0m\u001b[0;34m,\u001b[0m \u001b[0;34m**\u001b[0m\u001b[0mkwargs\u001b[0m\u001b[0;34m)\u001b[0m\u001b[0;34m\u001b[0m\u001b[0;34m\u001b[0m\u001b[0m\n\u001b[0m\u001b[1;32m   1478\u001b[0m \u001b[0;34m\u001b[0m\u001b[0m\n\u001b[1;32m   1479\u001b[0m     \u001b[0;32mdef\u001b[0m \u001b[0mwarning\u001b[0m\u001b[0;34m(\u001b[0m\u001b[0mself\u001b[0m\u001b[0;34m,\u001b[0m \u001b[0mmsg\u001b[0m\u001b[0;34m,\u001b[0m \u001b[0;34m*\u001b[0m\u001b[0margs\u001b[0m\u001b[0;34m,\u001b[0m \u001b[0;34m**\u001b[0m\u001b[0mkwargs\u001b[0m\u001b[0;34m)\u001b[0m\u001b[0;34m:\u001b[0m\u001b[0;34m\u001b[0m\u001b[0;34m\u001b[0m\u001b[0m\n",
            "\u001b[0;32m/usr/lib/python3.10/logging/__init__.py\u001b[0m in \u001b[0;36m_log\u001b[0;34m(self, level, msg, args, exc_info, extra, stack_info, stacklevel)\u001b[0m\n\u001b[1;32m   1622\u001b[0m         record = self.makeRecord(self.name, level, fn, lno, msg, args,\n\u001b[1;32m   1623\u001b[0m                                  exc_info, func, extra, sinfo)\n\u001b[0;32m-> 1624\u001b[0;31m         \u001b[0mself\u001b[0m\u001b[0;34m.\u001b[0m\u001b[0mhandle\u001b[0m\u001b[0;34m(\u001b[0m\u001b[0mrecord\u001b[0m\u001b[0;34m)\u001b[0m\u001b[0;34m\u001b[0m\u001b[0;34m\u001b[0m\u001b[0m\n\u001b[0m\u001b[1;32m   1625\u001b[0m \u001b[0;34m\u001b[0m\u001b[0m\n\u001b[1;32m   1626\u001b[0m     \u001b[0;32mdef\u001b[0m \u001b[0mhandle\u001b[0m\u001b[0;34m(\u001b[0m\u001b[0mself\u001b[0m\u001b[0;34m,\u001b[0m \u001b[0mrecord\u001b[0m\u001b[0;34m)\u001b[0m\u001b[0;34m:\u001b[0m\u001b[0;34m\u001b[0m\u001b[0;34m\u001b[0m\u001b[0m\n",
            "\u001b[0;32m/usr/lib/python3.10/logging/__init__.py\u001b[0m in \u001b[0;36mhandle\u001b[0;34m(self, record)\u001b[0m\n\u001b[1;32m   1632\u001b[0m         \"\"\"\n\u001b[1;32m   1633\u001b[0m         \u001b[0;32mif\u001b[0m \u001b[0;34m(\u001b[0m\u001b[0;32mnot\u001b[0m \u001b[0mself\u001b[0m\u001b[0;34m.\u001b[0m\u001b[0mdisabled\u001b[0m\u001b[0;34m)\u001b[0m \u001b[0;32mand\u001b[0m \u001b[0mself\u001b[0m\u001b[0;34m.\u001b[0m\u001b[0mfilter\u001b[0m\u001b[0;34m(\u001b[0m\u001b[0mrecord\u001b[0m\u001b[0;34m)\u001b[0m\u001b[0;34m:\u001b[0m\u001b[0;34m\u001b[0m\u001b[0;34m\u001b[0m\u001b[0m\n\u001b[0;32m-> 1634\u001b[0;31m             \u001b[0mself\u001b[0m\u001b[0;34m.\u001b[0m\u001b[0mcallHandlers\u001b[0m\u001b[0;34m(\u001b[0m\u001b[0mrecord\u001b[0m\u001b[0;34m)\u001b[0m\u001b[0;34m\u001b[0m\u001b[0;34m\u001b[0m\u001b[0m\n\u001b[0m\u001b[1;32m   1635\u001b[0m \u001b[0;34m\u001b[0m\u001b[0m\n\u001b[1;32m   1636\u001b[0m     \u001b[0;32mdef\u001b[0m \u001b[0maddHandler\u001b[0m\u001b[0;34m(\u001b[0m\u001b[0mself\u001b[0m\u001b[0;34m,\u001b[0m \u001b[0mhdlr\u001b[0m\u001b[0;34m)\u001b[0m\u001b[0;34m:\u001b[0m\u001b[0;34m\u001b[0m\u001b[0;34m\u001b[0m\u001b[0m\n",
            "\u001b[0;32m/usr/lib/python3.10/logging/__init__.py\u001b[0m in \u001b[0;36mcallHandlers\u001b[0;34m(self, record)\u001b[0m\n\u001b[1;32m   1694\u001b[0m                 \u001b[0mfound\u001b[0m \u001b[0;34m=\u001b[0m \u001b[0mfound\u001b[0m \u001b[0;34m+\u001b[0m \u001b[0;36m1\u001b[0m\u001b[0;34m\u001b[0m\u001b[0;34m\u001b[0m\u001b[0m\n\u001b[1;32m   1695\u001b[0m                 \u001b[0;32mif\u001b[0m \u001b[0mrecord\u001b[0m\u001b[0;34m.\u001b[0m\u001b[0mlevelno\u001b[0m \u001b[0;34m>=\u001b[0m \u001b[0mhdlr\u001b[0m\u001b[0;34m.\u001b[0m\u001b[0mlevel\u001b[0m\u001b[0;34m:\u001b[0m\u001b[0;34m\u001b[0m\u001b[0;34m\u001b[0m\u001b[0m\n\u001b[0;32m-> 1696\u001b[0;31m                     \u001b[0mhdlr\u001b[0m\u001b[0;34m.\u001b[0m\u001b[0mhandle\u001b[0m\u001b[0;34m(\u001b[0m\u001b[0mrecord\u001b[0m\u001b[0;34m)\u001b[0m\u001b[0;34m\u001b[0m\u001b[0;34m\u001b[0m\u001b[0m\n\u001b[0m\u001b[1;32m   1697\u001b[0m             \u001b[0;32mif\u001b[0m \u001b[0;32mnot\u001b[0m \u001b[0mc\u001b[0m\u001b[0;34m.\u001b[0m\u001b[0mpropagate\u001b[0m\u001b[0;34m:\u001b[0m\u001b[0;34m\u001b[0m\u001b[0;34m\u001b[0m\u001b[0m\n\u001b[1;32m   1698\u001b[0m                 \u001b[0mc\u001b[0m \u001b[0;34m=\u001b[0m \u001b[0;32mNone\u001b[0m    \u001b[0;31m#break out\u001b[0m\u001b[0;34m\u001b[0m\u001b[0;34m\u001b[0m\u001b[0m\n",
            "\u001b[0;32m/usr/lib/python3.10/logging/__init__.py\u001b[0m in \u001b[0;36mhandle\u001b[0;34m(self, record)\u001b[0m\n\u001b[1;32m    966\u001b[0m             \u001b[0mself\u001b[0m\u001b[0;34m.\u001b[0m\u001b[0macquire\u001b[0m\u001b[0;34m(\u001b[0m\u001b[0;34m)\u001b[0m\u001b[0;34m\u001b[0m\u001b[0;34m\u001b[0m\u001b[0m\n\u001b[1;32m    967\u001b[0m             \u001b[0;32mtry\u001b[0m\u001b[0;34m:\u001b[0m\u001b[0;34m\u001b[0m\u001b[0;34m\u001b[0m\u001b[0m\n\u001b[0;32m--> 968\u001b[0;31m                 \u001b[0mself\u001b[0m\u001b[0;34m.\u001b[0m\u001b[0memit\u001b[0m\u001b[0;34m(\u001b[0m\u001b[0mrecord\u001b[0m\u001b[0;34m)\u001b[0m\u001b[0;34m\u001b[0m\u001b[0;34m\u001b[0m\u001b[0m\n\u001b[0m\u001b[1;32m    969\u001b[0m             \u001b[0;32mfinally\u001b[0m\u001b[0;34m:\u001b[0m\u001b[0;34m\u001b[0m\u001b[0;34m\u001b[0m\u001b[0m\n\u001b[1;32m    970\u001b[0m                 \u001b[0mself\u001b[0m\u001b[0;34m.\u001b[0m\u001b[0mrelease\u001b[0m\u001b[0;34m(\u001b[0m\u001b[0;34m)\u001b[0m\u001b[0;34m\u001b[0m\u001b[0;34m\u001b[0m\u001b[0m\n",
            "\u001b[0;32m/usr/local/lib/python3.10/dist-packages/ray/_private/log.py\u001b[0m in \u001b[0;36memit\u001b[0;34m(self, record)\u001b[0m\n\u001b[1;32m     60\u001b[0m             \u001b[0mself\u001b[0m\u001b[0;34m.\u001b[0m\u001b[0mplain_handler\u001b[0m\u001b[0;34m.\u001b[0m\u001b[0memit\u001b[0m\u001b[0;34m(\u001b[0m\u001b[0mrecord\u001b[0m\u001b[0;34m)\u001b[0m\u001b[0;34m\u001b[0m\u001b[0;34m\u001b[0m\u001b[0m\n\u001b[1;32m     61\u001b[0m         \u001b[0;32melse\u001b[0m\u001b[0;34m:\u001b[0m\u001b[0;34m\u001b[0m\u001b[0;34m\u001b[0m\u001b[0m\n\u001b[0;32m---> 62\u001b[0;31m             \u001b[0mlogging\u001b[0m\u001b[0;34m.\u001b[0m\u001b[0m_StderrHandler\u001b[0m\u001b[0;34m.\u001b[0m\u001b[0memit\u001b[0m\u001b[0;34m(\u001b[0m\u001b[0mself\u001b[0m\u001b[0;34m,\u001b[0m \u001b[0mrecord\u001b[0m\u001b[0;34m)\u001b[0m\u001b[0;34m\u001b[0m\u001b[0;34m\u001b[0m\u001b[0m\n\u001b[0m\u001b[1;32m     63\u001b[0m \u001b[0;34m\u001b[0m\u001b[0m\n\u001b[1;32m     64\u001b[0m \u001b[0;34m\u001b[0m\u001b[0m\n",
            "\u001b[0;32m/usr/lib/python3.10/logging/__init__.py\u001b[0m in \u001b[0;36memit\u001b[0;34m(self, record)\u001b[0m\n\u001b[1;32m   1106\u001b[0m             \u001b[0;32mraise\u001b[0m\u001b[0;34m\u001b[0m\u001b[0;34m\u001b[0m\u001b[0m\n\u001b[1;32m   1107\u001b[0m         \u001b[0;32mexcept\u001b[0m \u001b[0mException\u001b[0m\u001b[0;34m:\u001b[0m\u001b[0;34m\u001b[0m\u001b[0;34m\u001b[0m\u001b[0m\n\u001b[0;32m-> 1108\u001b[0;31m             \u001b[0mself\u001b[0m\u001b[0;34m.\u001b[0m\u001b[0mhandleError\u001b[0m\u001b[0;34m(\u001b[0m\u001b[0mrecord\u001b[0m\u001b[0;34m)\u001b[0m\u001b[0;34m\u001b[0m\u001b[0;34m\u001b[0m\u001b[0m\n\u001b[0m\u001b[1;32m   1109\u001b[0m \u001b[0;34m\u001b[0m\u001b[0m\n\u001b[1;32m   1110\u001b[0m     \u001b[0;32mdef\u001b[0m \u001b[0msetStream\u001b[0m\u001b[0;34m(\u001b[0m\u001b[0mself\u001b[0m\u001b[0;34m,\u001b[0m \u001b[0mstream\u001b[0m\u001b[0;34m)\u001b[0m\u001b[0;34m:\u001b[0m\u001b[0;34m\u001b[0m\u001b[0;34m\u001b[0m\u001b[0m\n",
            "\u001b[0;32m/usr/lib/python3.10/logging/__init__.py\u001b[0m in \u001b[0;36mhandleError\u001b[0;34m(self, record)\u001b[0m\n\u001b[1;32m   1019\u001b[0m             \u001b[0mt\u001b[0m\u001b[0;34m,\u001b[0m \u001b[0mv\u001b[0m\u001b[0;34m,\u001b[0m \u001b[0mtb\u001b[0m \u001b[0;34m=\u001b[0m \u001b[0msys\u001b[0m\u001b[0;34m.\u001b[0m\u001b[0mexc_info\u001b[0m\u001b[0;34m(\u001b[0m\u001b[0;34m)\u001b[0m\u001b[0;34m\u001b[0m\u001b[0;34m\u001b[0m\u001b[0m\n\u001b[1;32m   1020\u001b[0m             \u001b[0;32mtry\u001b[0m\u001b[0;34m:\u001b[0m\u001b[0;34m\u001b[0m\u001b[0;34m\u001b[0m\u001b[0m\n\u001b[0;32m-> 1021\u001b[0;31m                 \u001b[0msys\u001b[0m\u001b[0;34m.\u001b[0m\u001b[0mstderr\u001b[0m\u001b[0;34m.\u001b[0m\u001b[0mwrite\u001b[0m\u001b[0;34m(\u001b[0m\u001b[0;34m'--- Logging error ---\\n'\u001b[0m\u001b[0;34m)\u001b[0m\u001b[0;34m\u001b[0m\u001b[0;34m\u001b[0m\u001b[0m\n\u001b[0m\u001b[1;32m   1022\u001b[0m                 \u001b[0mtraceback\u001b[0m\u001b[0;34m.\u001b[0m\u001b[0mprint_exception\u001b[0m\u001b[0;34m(\u001b[0m\u001b[0mt\u001b[0m\u001b[0;34m,\u001b[0m \u001b[0mv\u001b[0m\u001b[0;34m,\u001b[0m \u001b[0mtb\u001b[0m\u001b[0;34m,\u001b[0m \u001b[0;32mNone\u001b[0m\u001b[0;34m,\u001b[0m \u001b[0msys\u001b[0m\u001b[0;34m.\u001b[0m\u001b[0mstderr\u001b[0m\u001b[0;34m)\u001b[0m\u001b[0;34m\u001b[0m\u001b[0;34m\u001b[0m\u001b[0m\n\u001b[1;32m   1023\u001b[0m                 \u001b[0msys\u001b[0m\u001b[0;34m.\u001b[0m\u001b[0mstderr\u001b[0m\u001b[0;34m.\u001b[0m\u001b[0mwrite\u001b[0m\u001b[0;34m(\u001b[0m\u001b[0;34m'Call stack:\\n'\u001b[0m\u001b[0;34m)\u001b[0m\u001b[0;34m\u001b[0m\u001b[0;34m\u001b[0m\u001b[0m\n",
            "\u001b[0;32m/usr/local/lib/python3.10/dist-packages/colorama/ansitowin32.py\u001b[0m in \u001b[0;36mwrite\u001b[0;34m(self, text)\u001b[0m\n\u001b[1;32m     45\u001b[0m \u001b[0;34m\u001b[0m\u001b[0m\n\u001b[1;32m     46\u001b[0m     \u001b[0;32mdef\u001b[0m \u001b[0mwrite\u001b[0m\u001b[0;34m(\u001b[0m\u001b[0mself\u001b[0m\u001b[0;34m,\u001b[0m \u001b[0mtext\u001b[0m\u001b[0;34m)\u001b[0m\u001b[0;34m:\u001b[0m\u001b[0;34m\u001b[0m\u001b[0;34m\u001b[0m\u001b[0m\n\u001b[0;32m---> 47\u001b[0;31m         \u001b[0mself\u001b[0m\u001b[0;34m.\u001b[0m\u001b[0m__convertor\u001b[0m\u001b[0;34m.\u001b[0m\u001b[0mwrite\u001b[0m\u001b[0;34m(\u001b[0m\u001b[0mtext\u001b[0m\u001b[0;34m)\u001b[0m\u001b[0;34m\u001b[0m\u001b[0;34m\u001b[0m\u001b[0m\n\u001b[0m\u001b[1;32m     48\u001b[0m \u001b[0;34m\u001b[0m\u001b[0m\n\u001b[1;32m     49\u001b[0m     \u001b[0;32mdef\u001b[0m \u001b[0misatty\u001b[0m\u001b[0;34m(\u001b[0m\u001b[0mself\u001b[0m\u001b[0;34m)\u001b[0m\u001b[0;34m:\u001b[0m\u001b[0;34m\u001b[0m\u001b[0;34m\u001b[0m\u001b[0m\n",
            "\u001b[0;32m/usr/local/lib/python3.10/dist-packages/colorama/ansitowin32.py\u001b[0m in \u001b[0;36mwrite\u001b[0;34m(self, text)\u001b[0m\n\u001b[1;32m    175\u001b[0m     \u001b[0;32mdef\u001b[0m \u001b[0mwrite\u001b[0m\u001b[0;34m(\u001b[0m\u001b[0mself\u001b[0m\u001b[0;34m,\u001b[0m \u001b[0mtext\u001b[0m\u001b[0;34m)\u001b[0m\u001b[0;34m:\u001b[0m\u001b[0;34m\u001b[0m\u001b[0;34m\u001b[0m\u001b[0m\n\u001b[1;32m    176\u001b[0m         \u001b[0;32mif\u001b[0m \u001b[0mself\u001b[0m\u001b[0;34m.\u001b[0m\u001b[0mstrip\u001b[0m \u001b[0;32mor\u001b[0m \u001b[0mself\u001b[0m\u001b[0;34m.\u001b[0m\u001b[0mconvert\u001b[0m\u001b[0;34m:\u001b[0m\u001b[0;34m\u001b[0m\u001b[0;34m\u001b[0m\u001b[0m\n\u001b[0;32m--> 177\u001b[0;31m             \u001b[0mself\u001b[0m\u001b[0;34m.\u001b[0m\u001b[0mwrite_and_convert\u001b[0m\u001b[0;34m(\u001b[0m\u001b[0mtext\u001b[0m\u001b[0;34m)\u001b[0m\u001b[0;34m\u001b[0m\u001b[0;34m\u001b[0m\u001b[0m\n\u001b[0m\u001b[1;32m    178\u001b[0m         \u001b[0;32melse\u001b[0m\u001b[0;34m:\u001b[0m\u001b[0;34m\u001b[0m\u001b[0;34m\u001b[0m\u001b[0m\n\u001b[1;32m    179\u001b[0m             \u001b[0mself\u001b[0m\u001b[0;34m.\u001b[0m\u001b[0mwrapped\u001b[0m\u001b[0;34m.\u001b[0m\u001b[0mwrite\u001b[0m\u001b[0;34m(\u001b[0m\u001b[0mtext\u001b[0m\u001b[0;34m)\u001b[0m\u001b[0;34m\u001b[0m\u001b[0;34m\u001b[0m\u001b[0m\n",
            "\u001b[0;32m/usr/local/lib/python3.10/dist-packages/colorama/ansitowin32.py\u001b[0m in \u001b[0;36mwrite_and_convert\u001b[0;34m(self, text)\u001b[0m\n\u001b[1;32m    203\u001b[0m             \u001b[0mself\u001b[0m\u001b[0;34m.\u001b[0m\u001b[0mconvert_ansi\u001b[0m\u001b[0;34m(\u001b[0m\u001b[0;34m*\u001b[0m\u001b[0mmatch\u001b[0m\u001b[0;34m.\u001b[0m\u001b[0mgroups\u001b[0m\u001b[0;34m(\u001b[0m\u001b[0;34m)\u001b[0m\u001b[0;34m)\u001b[0m\u001b[0;34m\u001b[0m\u001b[0;34m\u001b[0m\u001b[0m\n\u001b[1;32m    204\u001b[0m             \u001b[0mcursor\u001b[0m \u001b[0;34m=\u001b[0m \u001b[0mend\u001b[0m\u001b[0;34m\u001b[0m\u001b[0;34m\u001b[0m\u001b[0m\n\u001b[0;32m--> 205\u001b[0;31m         \u001b[0mself\u001b[0m\u001b[0;34m.\u001b[0m\u001b[0mwrite_plain_text\u001b[0m\u001b[0;34m(\u001b[0m\u001b[0mtext\u001b[0m\u001b[0;34m,\u001b[0m \u001b[0mcursor\u001b[0m\u001b[0;34m,\u001b[0m \u001b[0mlen\u001b[0m\u001b[0;34m(\u001b[0m\u001b[0mtext\u001b[0m\u001b[0;34m)\u001b[0m\u001b[0;34m)\u001b[0m\u001b[0;34m\u001b[0m\u001b[0;34m\u001b[0m\u001b[0m\n\u001b[0m\u001b[1;32m    206\u001b[0m \u001b[0;34m\u001b[0m\u001b[0m\n\u001b[1;32m    207\u001b[0m \u001b[0;34m\u001b[0m\u001b[0m\n",
            "\u001b[0;32m/usr/local/lib/python3.10/dist-packages/colorama/ansitowin32.py\u001b[0m in \u001b[0;36mwrite_plain_text\u001b[0;34m(self, text, start, end)\u001b[0m\n\u001b[1;32m    208\u001b[0m     \u001b[0;32mdef\u001b[0m \u001b[0mwrite_plain_text\u001b[0m\u001b[0;34m(\u001b[0m\u001b[0mself\u001b[0m\u001b[0;34m,\u001b[0m \u001b[0mtext\u001b[0m\u001b[0;34m,\u001b[0m \u001b[0mstart\u001b[0m\u001b[0;34m,\u001b[0m \u001b[0mend\u001b[0m\u001b[0;34m)\u001b[0m\u001b[0;34m:\u001b[0m\u001b[0;34m\u001b[0m\u001b[0;34m\u001b[0m\u001b[0m\n\u001b[1;32m    209\u001b[0m         \u001b[0;32mif\u001b[0m \u001b[0mstart\u001b[0m \u001b[0;34m<\u001b[0m \u001b[0mend\u001b[0m\u001b[0;34m:\u001b[0m\u001b[0;34m\u001b[0m\u001b[0;34m\u001b[0m\u001b[0m\n\u001b[0;32m--> 210\u001b[0;31m             \u001b[0mself\u001b[0m\u001b[0;34m.\u001b[0m\u001b[0mwrapped\u001b[0m\u001b[0;34m.\u001b[0m\u001b[0mwrite\u001b[0m\u001b[0;34m(\u001b[0m\u001b[0mtext\u001b[0m\u001b[0;34m[\u001b[0m\u001b[0mstart\u001b[0m\u001b[0;34m:\u001b[0m\u001b[0mend\u001b[0m\u001b[0;34m]\u001b[0m\u001b[0;34m)\u001b[0m\u001b[0;34m\u001b[0m\u001b[0;34m\u001b[0m\u001b[0m\n\u001b[0m\u001b[1;32m    211\u001b[0m             \u001b[0mself\u001b[0m\u001b[0;34m.\u001b[0m\u001b[0mwrapped\u001b[0m\u001b[0;34m.\u001b[0m\u001b[0mflush\u001b[0m\u001b[0;34m(\u001b[0m\u001b[0;34m)\u001b[0m\u001b[0;34m\u001b[0m\u001b[0;34m\u001b[0m\u001b[0m\n\u001b[1;32m    212\u001b[0m \u001b[0;34m\u001b[0m\u001b[0m\n",
            "\u001b[0;32m/usr/local/lib/python3.10/dist-packages/ipykernel/iostream.py\u001b[0m in \u001b[0;36mwrite\u001b[0;34m(self, string)\u001b[0m\n\u001b[1;32m    392\u001b[0m \u001b[0;34m\u001b[0m\u001b[0m\n\u001b[1;32m    393\u001b[0m         \u001b[0;32mif\u001b[0m \u001b[0mself\u001b[0m\u001b[0;34m.\u001b[0m\u001b[0mpub_thread\u001b[0m \u001b[0;32mis\u001b[0m \u001b[0;32mNone\u001b[0m\u001b[0;34m:\u001b[0m\u001b[0;34m\u001b[0m\u001b[0;34m\u001b[0m\u001b[0m\n\u001b[0;32m--> 394\u001b[0;31m             \u001b[0;32mraise\u001b[0m \u001b[0mValueError\u001b[0m\u001b[0;34m(\u001b[0m\u001b[0;34m'I/O operation on closed file'\u001b[0m\u001b[0;34m)\u001b[0m\u001b[0;34m\u001b[0m\u001b[0;34m\u001b[0m\u001b[0m\n\u001b[0m\u001b[1;32m    395\u001b[0m         \u001b[0;32melse\u001b[0m\u001b[0;34m:\u001b[0m\u001b[0;34m\u001b[0m\u001b[0;34m\u001b[0m\u001b[0m\n\u001b[1;32m    396\u001b[0m             \u001b[0;31m# Make sure that we're handling unicode\u001b[0m\u001b[0;34m\u001b[0m\u001b[0;34m\u001b[0m\u001b[0m\n",
            "\u001b[0;31mValueError\u001b[0m: I/O operation on closed file"
          ]
        }
      ]
    },
    {
      "cell_type": "code",
      "execution_count": null,
      "metadata": {
        "id": "JoUJYTcnptq8"
      },
      "outputs": [],
      "source": [
        "test_features_tensor = torch.tensor(test_features, dtype=torch.float32).permute(0, 3, 1, 2) # [batch_size, channels, height, width]\n",
        "test_labels_tensor = torch.tensor(test_labels, dtype=torch.float32).permute(0, 3, 1, 2)\n",
        "\n",
        "test_dataset = TensorDataset(test_features_tensor, test_labels_tensor)\n",
        "test_loader = DataLoader(dataset=test_dataset, batch_size=16, shuffle=False)"
      ]
    },
    {
      "cell_type": "code",
      "execution_count": null,
      "metadata": {
        "colab": {
          "base_uri": "https://localhost:8080/"
        },
        "id": "UQqdvMBFcD4k",
        "outputId": "b0e88b89-43b7-4caa-9f3b-07c15c2fd0de"
      },
      "outputs": [
        {
          "name": "stdout",
          "output_type": "stream",
          "text": [
            "Epoch 1/20, Loss: 0.0340\n",
            "Epoch 2/20, Loss: 0.0326\n",
            "Epoch 3/20, Loss: 0.0320\n",
            "Epoch 4/20, Loss: 0.0315\n",
            "Epoch 5/20, Loss: 0.0312\n",
            "Epoch 6/20, Loss: 0.0309\n",
            "Epoch 7/20, Loss: 0.0307\n",
            "Epoch 8/20, Loss: 0.0305\n",
            "Epoch 9/20, Loss: 0.0303\n",
            "Epoch 10/20, Loss: 0.0302\n",
            "Epoch 11/20, Loss: 0.0300\n",
            "Epoch 12/20, Loss: 0.0298\n",
            "Epoch 13/20, Loss: 0.0296\n",
            "Epoch 14/20, Loss: 0.0294\n",
            "Epoch 15/20, Loss: 0.0291\n",
            "Epoch 16/20, Loss: 0.0289\n",
            "Epoch 17/20, Loss: 0.0287\n",
            "Epoch 18/20, Loss: 0.0284\n",
            "Epoch 19/20, Loss: 0.0281\n",
            "Epoch 20/20, Loss: 0.0278\n",
            "lr = 0.0001, The AUC score is: 0.6580\n",
            "Epoch 1/20, Loss: 0.0346\n",
            "Epoch 2/20, Loss: 0.0322\n",
            "Epoch 3/20, Loss: 0.0322\n",
            "Epoch 4/20, Loss: 0.0317\n",
            "Epoch 5/20, Loss: 0.0315\n",
            "Epoch 6/20, Loss: 0.0314\n",
            "Epoch 7/20, Loss: 0.0311\n",
            "Epoch 8/20, Loss: 0.0308\n",
            "Epoch 9/20, Loss: 0.0306\n",
            "Epoch 10/20, Loss: 0.0304\n",
            "Epoch 11/20, Loss: 0.0302\n",
            "Epoch 12/20, Loss: 0.0300\n",
            "Epoch 13/20, Loss: 0.0297\n",
            "Epoch 14/20, Loss: 0.0294\n",
            "Epoch 15/20, Loss: 0.0291\n",
            "Epoch 16/20, Loss: 0.0289\n",
            "Epoch 17/20, Loss: 0.0286\n",
            "Epoch 18/20, Loss: 0.0284\n",
            "Epoch 19/20, Loss: 0.0278\n",
            "Epoch 20/20, Loss: 0.0274\n",
            "lr = 0.0005, The AUC score is: 0.6525\n",
            "Epoch 1/20, Loss: 0.0356\n",
            "Epoch 2/20, Loss: 0.0330\n",
            "Epoch 3/20, Loss: 0.0326\n",
            "Epoch 4/20, Loss: 0.0322\n",
            "Epoch 5/20, Loss: 0.0318\n",
            "Epoch 6/20, Loss: 0.0318\n",
            "Epoch 7/20, Loss: 0.0319\n",
            "Epoch 8/20, Loss: 0.0316\n",
            "Epoch 9/20, Loss: 0.0316\n",
            "Epoch 10/20, Loss: 0.0311\n",
            "Epoch 11/20, Loss: 0.0309\n",
            "Epoch 12/20, Loss: 0.0307\n",
            "Epoch 13/20, Loss: 0.0306\n",
            "Epoch 14/20, Loss: 0.0304\n",
            "Epoch 15/20, Loss: 0.0303\n",
            "Epoch 16/20, Loss: 0.0303\n",
            "Epoch 17/20, Loss: 0.0299\n",
            "Epoch 18/20, Loss: 0.0299\n",
            "Epoch 19/20, Loss: 0.0295\n",
            "Epoch 20/20, Loss: 0.0296\n",
            "lr = 0.001, The AUC score is: 0.6562\n",
            "Epoch 1/20, Loss: 0.0473\n",
            "Epoch 2/20, Loss: 0.0331\n",
            "Epoch 3/20, Loss: 0.0326\n",
            "Epoch 4/20, Loss: 0.0325\n",
            "Epoch 5/20, Loss: 0.0325\n",
            "Epoch 6/20, Loss: 0.0324\n",
            "Epoch 7/20, Loss: 0.0324\n",
            "Epoch 8/20, Loss: 0.0324\n",
            "Epoch 9/20, Loss: 0.0324\n",
            "Epoch 10/20, Loss: 0.0324\n",
            "Epoch 11/20, Loss: 0.0324\n",
            "Epoch 12/20, Loss: 0.0324\n",
            "Epoch 13/20, Loss: 0.0323\n",
            "Epoch 14/20, Loss: 0.0323\n",
            "Epoch 15/20, Loss: 0.0323\n",
            "Epoch 16/20, Loss: 0.0323\n",
            "Epoch 17/20, Loss: 0.0323\n",
            "Epoch 18/20, Loss: 0.0323\n",
            "Epoch 19/20, Loss: 0.0323\n",
            "Epoch 20/20, Loss: 0.0323\n",
            "lr = 0.005, The AUC score is: 0.5616\n",
            "Epoch 1/20, Loss: 0.2080\n",
            "Epoch 2/20, Loss: 0.0325\n",
            "Epoch 3/20, Loss: 0.0325\n",
            "Epoch 4/20, Loss: 0.0325\n",
            "Epoch 5/20, Loss: 0.0324\n",
            "Epoch 6/20, Loss: 0.0324\n",
            "Epoch 7/20, Loss: 0.0324\n",
            "Epoch 8/20, Loss: 0.0324\n",
            "Epoch 9/20, Loss: 0.0324\n",
            "Epoch 10/20, Loss: 0.0324\n",
            "Epoch 11/20, Loss: 0.0325\n",
            "Epoch 12/20, Loss: 0.0324\n",
            "Epoch 13/20, Loss: 0.0324\n",
            "Epoch 14/20, Loss: 0.0324\n",
            "Epoch 15/20, Loss: 0.0324\n",
            "Epoch 16/20, Loss: 0.0324\n",
            "Epoch 17/20, Loss: 0.0325\n",
            "Epoch 18/20, Loss: 0.0324\n",
            "Epoch 19/20, Loss: 0.0324\n",
            "Epoch 20/20, Loss: 0.0324\n",
            "lr = 0.01, The AUC score is: 0.5648\n",
            "Epoch 1/20, Loss: 418.8384\n",
            "Epoch 2/20, Loss: 0.0327\n",
            "Epoch 3/20, Loss: 0.0327\n",
            "Epoch 4/20, Loss: 0.0327\n",
            "Epoch 5/20, Loss: 0.0327\n",
            "Epoch 6/20, Loss: 0.0327\n",
            "Epoch 7/20, Loss: 0.0327\n",
            "Epoch 8/20, Loss: 0.0327\n",
            "Epoch 9/20, Loss: 0.0327\n",
            "Epoch 10/20, Loss: 0.0327\n",
            "Epoch 11/20, Loss: 0.0327\n",
            "Epoch 12/20, Loss: 0.0327\n",
            "Epoch 13/20, Loss: 0.0327\n",
            "Epoch 14/20, Loss: 0.0327\n",
            "Epoch 15/20, Loss: 0.0327\n",
            "Epoch 16/20, Loss: 0.0327\n",
            "Epoch 17/20, Loss: 0.0327\n",
            "Epoch 18/20, Loss: 0.0327\n",
            "Epoch 19/20, Loss: 0.0327\n",
            "Epoch 20/20, Loss: 0.0327\n",
            "lr = 0.05, The AUC score is: 0.5000\n",
            "Epoch 1/20, Loss: 5993.0479\n",
            "Epoch 2/20, Loss: 0.0327\n",
            "Epoch 3/20, Loss: 0.0327\n",
            "Epoch 4/20, Loss: 0.0327\n",
            "Epoch 5/20, Loss: 0.0327\n",
            "Epoch 6/20, Loss: 0.0327\n",
            "Epoch 7/20, Loss: 0.0327\n",
            "Epoch 8/20, Loss: 0.0327\n",
            "Epoch 9/20, Loss: 0.0327\n",
            "Epoch 10/20, Loss: 0.0327\n",
            "Epoch 11/20, Loss: 0.0327\n",
            "Epoch 12/20, Loss: 0.0327\n",
            "Epoch 13/20, Loss: 0.0327\n",
            "Epoch 14/20, Loss: 0.0327\n",
            "Epoch 15/20, Loss: 0.0327\n",
            "Epoch 16/20, Loss: 0.0327\n",
            "Epoch 17/20, Loss: 0.0327\n",
            "Epoch 18/20, Loss: 0.0327\n",
            "Epoch 19/20, Loss: 0.0327\n",
            "Epoch 20/20, Loss: 0.0327\n",
            "lr = 0.1, The AUC score is: 0.5000\n"
          ]
        }
      ],
      "source": [
        "auc_dict = dict()\n",
        "\n",
        "for lr in [0.0001, 0.0005, 0.001, 0.005, 0.01, 0.05, 0.1]:\n",
        "  device = torch.device(\"cuda\" if torch.cuda.is_available() else \"cpu\")\n",
        "  CNN = CNN_model().to(device)\n",
        "\n",
        "  optimizer = torch.optim.Adam(CNN.parameters(), lr=lr)\n",
        "\n",
        "  pos_weight = torch.FloatTensor([3.0]).to(device)\n",
        "  criterion = nn.BCEWithLogitsLoss(pos_weight=pos_weight)\n",
        "\n",
        "  num_epochs = 20\n",
        "  train_model(CNN, train_loader, criterion, optimizer, device, num_epochs)\n",
        "  CNN.eval()\n",
        "\n",
        "  auc_metric = torchmetrics.AUROC(task=\"binary\")\n",
        "\n",
        "  predictions = []\n",
        "  actuals = []\n",
        "\n",
        "  with torch.no_grad():\n",
        "      for i, l in test_loader:\n",
        "          i, l = i.to(device), l.to(device)\n",
        "          outputs = CNN(i)\n",
        "          # Apply sigmoid to convert logits to probabilities\n",
        "          predicted_probs = torch.sigmoid(outputs)\n",
        "          predictions.extend(predicted_probs)\n",
        "          actuals.extend(l)\n",
        "          auc_metric.update(predicted_probs, l)\n",
        "  auc_score = auc_metric.compute()\n",
        "\n",
        "  print(f'lr = {lr}, The AUC score is: {auc_score:.4f}')\n",
        "  auc_dict[lr] = auc_score\n"
      ]
    },
    {
      "cell_type": "code",
      "execution_count": null,
      "metadata": {
        "colab": {
          "base_uri": "https://localhost:8080/"
        },
        "id": "BCiFgvhy0DCv",
        "outputId": "e0c3f73a-1b2a-420f-9f9e-5054866a1155"
      },
      "outputs": [
        {
          "data": {
            "text/plain": [
              "0"
            ]
          },
          "execution_count": 13,
          "metadata": {},
          "output_type": "execute_result"
        }
      ],
      "source": [
        "opt_lr = np.argmax(auc_dict.values())\n",
        "opt_lr"
      ]
    },
    {
      "cell_type": "code",
      "execution_count": null,
      "metadata": {
        "id": "RiDFLGW0GLic"
      },
      "outputs": [],
      "source": [
        "auc_dict = {0.0001: 0.6580,\n",
        " 0.0005: 0.6525,\n",
        " 0.001: 0.6562,\n",
        " 0.005: 0.5616,\n",
        " 0.01: 0.5648,\n",
        " 0.05: 0.5000,\n",
        " 0.1: 0.5000}"
      ]
    },
    {
      "cell_type": "code",
      "execution_count": null,
      "metadata": {
        "colab": {
          "base_uri": "https://localhost:8080/",
          "height": 606
        },
        "id": "PQ3rLrxk0PSs",
        "outputId": "6deb10ea-0094-46b9-b4c1-4a0718fdfae1"
      },
      "outputs": [
        {
          "output_type": "stream",
          "name": "stderr",
          "text": [
            "WARNING:matplotlib.legend:No artists with labels found to put in legend.  Note that artists whose label start with an underscore are ignored when legend() is called with no argument.\n"
          ]
        },
        {
          "output_type": "display_data",
          "data": {
            "text/plain": [
              "<Figure size 1000x600 with 1 Axes>"
            ],
            "image/png": "[encoded data removed]"
          },
          "metadata": {}
        }
      ],
      "source": [
        "fig = plt.figure(figsize=(10, 6))\n",
        "plt.plot(list(auc_dict.keys()), list(auc_dict.values()))\n",
        "plt.title('AUC vs Learning Rate')\n",
        "plt.xlabel('Learning rate')\n",
        "plt.ylabel('AUC')\n",
        "plt.legend()\n",
        "plt.grid(True)\n",
        "plt.xscale('log')\n",
        "plt.show()"
      ]
    },
    {
      "cell_type": "code",
      "execution_count": null,
      "metadata": {
        "colab": {
          "background_save": true,
          "base_uri": "https://localhost:8080/"
        },
        "id": "uSrgSq5L5bGr",
        "outputId": "9f126f3f-3503-4595-abfa-6e9e300a3673"
      },
      "outputs": [
        {
          "name": "stdout",
          "output_type": "stream",
          "text": [
            "Epoch 1/20, Loss: 0.0165\n",
            "Epoch 2/20, Loss: 0.0151\n",
            "Epoch 3/20, Loss: 0.0149\n",
            "Epoch 4/20, Loss: 0.0148\n",
            "Epoch 5/20, Loss: 0.0147\n",
            "Epoch 6/20, Loss: 0.0146\n",
            "Epoch 7/20, Loss: 0.0146\n",
            "Epoch 8/20, Loss: 0.0145\n",
            "Epoch 9/20, Loss: 0.0144\n",
            "Epoch 10/20, Loss: 0.0143\n",
            "Epoch 11/20, Loss: 0.0142\n",
            "Epoch 12/20, Loss: 0.0141\n",
            "Epoch 13/20, Loss: 0.0141\n",
            "Epoch 14/20, Loss: 0.0140\n",
            "Epoch 15/20, Loss: 0.0139\n",
            "Epoch 16/20, Loss: 0.0138\n",
            "Epoch 17/20, Loss: 0.0138\n",
            "Epoch 18/20, Loss: 0.0137\n",
            "Epoch 19/20, Loss: 0.0136\n",
            "Epoch 20/20, Loss: 0.0135\n",
            "pos-weights = 1.0, The AUC score is: 0.6643\n",
            "Epoch 1/20, Loss: 0.0351\n",
            "Epoch 2/20, Loss: 0.0328\n",
            "Epoch 3/20, Loss: 0.0324\n",
            "Epoch 4/20, Loss: 0.0319\n",
            "Epoch 5/20, Loss: 0.0321\n",
            "Epoch 6/20, Loss: 0.0317\n",
            "Epoch 7/20, Loss: 0.0316\n",
            "Epoch 8/20, Loss: 0.0313\n",
            "Epoch 9/20, Loss: 0.0313\n",
            "Epoch 10/20, Loss: 0.0311\n",
            "Epoch 11/20, Loss: 0.0308\n",
            "Epoch 12/20, Loss: 0.0306\n",
            "Epoch 13/20, Loss: 0.0305\n",
            "Epoch 14/20, Loss: 0.0302\n",
            "Epoch 15/20, Loss: 0.0299\n",
            "Epoch 16/20, Loss: 0.0297\n",
            "Epoch 17/20, Loss: 0.0296\n",
            "Epoch 18/20, Loss: 0.0296\n",
            "Epoch 19/20, Loss: 0.0292\n",
            "Epoch 20/20, Loss: 0.0287\n",
            "pos-weights = 3.0, The AUC score is: 0.6595\n",
            "Epoch 1/20, Loss: 0.0478\n",
            "Epoch 2/20, Loss: 0.0453\n",
            "Epoch 3/20, Loss: 0.0451\n",
            "Epoch 4/20, Loss: 0.0445\n",
            "Epoch 5/20, Loss: 0.0438\n",
            "Epoch 6/20, Loss: 0.0439\n",
            "Epoch 7/20, Loss: 0.0438\n",
            "Epoch 8/20, Loss: 0.0433\n",
            "Epoch 9/20, Loss: 0.0429\n",
            "Epoch 10/20, Loss: 0.0425\n",
            "Epoch 11/20, Loss: 0.0424\n",
            "Epoch 12/20, Loss: 0.0424\n",
            "Epoch 13/20, Loss: 0.0420\n",
            "Epoch 14/20, Loss: 0.0416\n",
            "Epoch 15/20, Loss: 0.0415\n",
            "Epoch 16/20, Loss: 0.0412\n",
            "Epoch 17/20, Loss: 0.0409\n",
            "Epoch 18/20, Loss: 0.0405\n",
            "Epoch 19/20, Loss: 0.0402\n",
            "Epoch 20/20, Loss: 0.0399\n",
            "pos-weights = 5.0, The AUC score is: 0.6740\n",
            "Epoch 1/20, Loss: 0.0571\n",
            "Epoch 2/20, Loss: 0.0548\n",
            "Epoch 3/20, Loss: 0.0542\n",
            "Epoch 4/20, Loss: 0.0537\n",
            "Epoch 5/20, Loss: 0.0534\n",
            "Epoch 6/20, Loss: 0.0532\n",
            "Epoch 7/20, Loss: 0.0529\n",
            "Epoch 8/20, Loss: 0.0528\n",
            "Epoch 9/20, Loss: 0.0524\n",
            "Epoch 10/20, Loss: 0.0520\n",
            "Epoch 11/20, Loss: 0.0516\n",
            "Epoch 12/20, Loss: 0.0514\n",
            "Epoch 13/20, Loss: 0.0513\n",
            "Epoch 14/20, Loss: 0.0510\n",
            "Epoch 15/20, Loss: 0.0507\n",
            "Epoch 16/20, Loss: 0.0504\n",
            "Epoch 17/20, Loss: 0.0501\n",
            "Epoch 18/20, Loss: 0.0497\n",
            "Epoch 19/20, Loss: 0.0490\n",
            "Epoch 20/20, Loss: 0.0485\n",
            "pos-weights = 7.0, The AUC score is: 0.6447\n",
            "Epoch 1/20, Loss: 0.0650\n",
            "Epoch 2/20, Loss: 0.0631\n",
            "Epoch 3/20, Loss: 0.0628\n",
            "Epoch 4/20, Loss: 0.0624\n",
            "Epoch 5/20, Loss: 0.0620\n",
            "Epoch 6/20, Loss: 0.0613\n",
            "Epoch 7/20, Loss: 0.0611\n",
            "Epoch 8/20, Loss: 0.0609\n",
            "Epoch 9/20, Loss: 0.0609\n",
            "Epoch 10/20, Loss: 0.0604\n",
            "Epoch 11/20, Loss: 0.0600\n",
            "Epoch 12/20, Loss: 0.0604\n",
            "Epoch 13/20, Loss: 0.0597\n",
            "Epoch 14/20, Loss: 0.0597\n",
            "Epoch 15/20, Loss: 0.0594\n",
            "Epoch 16/20, Loss: 0.0585\n",
            "Epoch 17/20, Loss: 0.0579\n",
            "Epoch 18/20, Loss: 0.0577\n",
            "Epoch 19/20, Loss: 0.0571\n",
            "Epoch 20/20, Loss: 0.0564\n",
            "pos-weights = 9.0, The AUC score is: 0.6635\n",
            "Epoch 1/20, Loss: 0.0740\n",
            "Epoch 2/20, Loss: 0.0705\n",
            "Epoch 3/20, Loss: 0.0703\n",
            "Epoch 4/20, Loss: 0.0698\n",
            "Epoch 5/20, Loss: 0.0700\n",
            "Epoch 6/20, Loss: 0.0707\n",
            "Epoch 7/20, Loss: 0.0705\n",
            "Epoch 8/20, Loss: 0.0702\n",
            "Epoch 9/20, Loss: 0.0703\n",
            "Epoch 10/20, Loss: 0.0700\n",
            "Epoch 11/20, Loss: 0.0697\n",
            "Epoch 12/20, Loss: 0.0699\n",
            "Epoch 13/20, Loss: 0.0701\n",
            "Epoch 14/20, Loss: 0.0694\n",
            "Epoch 15/20, Loss: 0.0703\n",
            "Epoch 16/20, Loss: 0.0701\n",
            "Epoch 17/20, Loss: 0.0699\n",
            "Epoch 18/20, Loss: 0.0696\n",
            "Epoch 19/20, Loss: 0.0692\n",
            "Epoch 20/20, Loss: 0.0689\n",
            "pos-weights = 11.0, The AUC score is: 0.6193\n",
            "Epoch 1/20, Loss: 0.0786\n",
            "Epoch 2/20, Loss: 0.0763\n",
            "Epoch 3/20, Loss: 0.0761\n",
            "Epoch 4/20, Loss: 0.0754\n",
            "Epoch 5/20, Loss: 0.0751\n",
            "Epoch 6/20, Loss: 0.0748\n",
            "Epoch 7/20, Loss: 0.0739\n",
            "Epoch 8/20, Loss: 0.0735\n",
            "Epoch 9/20, Loss: 0.0733\n",
            "Epoch 10/20, Loss: 0.0724\n",
            "Epoch 11/20, Loss: 0.0722\n",
            "Epoch 12/20, Loss: 0.0718\n",
            "Epoch 13/20, Loss: 0.0718\n",
            "Epoch 14/20, Loss: 0.0705\n",
            "Epoch 15/20, Loss: 0.0705\n",
            "Epoch 16/20, Loss: 0.0701\n",
            "Epoch 17/20, Loss: 0.0689\n",
            "Epoch 18/20, Loss: 0.0680\n",
            "Epoch 19/20, Loss: 0.0679\n",
            "Epoch 20/20, Loss: 0.0671\n",
            "pos-weights = 13.0, The AUC score is: 0.6657\n",
            "Epoch 1/20, Loss: 0.0888\n",
            "Epoch 2/20, Loss: 0.0827\n",
            "Epoch 3/20, Loss: 0.0829\n",
            "Epoch 4/20, Loss: 0.0828\n",
            "Epoch 5/20, Loss: 0.0826\n",
            "Epoch 6/20, Loss: 0.0826\n",
            "Epoch 7/20, Loss: 0.0826\n",
            "Epoch 8/20, Loss: 0.0827\n",
            "Epoch 9/20, Loss: 0.0826\n",
            "Epoch 10/20, Loss: 0.0825\n",
            "Epoch 11/20, Loss: 0.0825\n",
            "Epoch 12/20, Loss: 0.0824\n",
            "Epoch 13/20, Loss: 0.0825\n",
            "Epoch 14/20, Loss: 0.0825\n",
            "Epoch 15/20, Loss: 0.0827\n",
            "Epoch 16/20, Loss: 0.0830\n",
            "Epoch 17/20, Loss: 0.0828\n",
            "Epoch 18/20, Loss: 0.0828\n",
            "Epoch 19/20, Loss: 0.0825\n",
            "Epoch 20/20, Loss: 0.0825\n",
            "pos-weights = 15.0, The AUC score is: 0.5352\n"
          ]
        }
      ],
      "source": [
        "weights_dict = dict()\n",
        "\n",
        "for weight in [1.0, 3.0, 5.0, 7.0, 9.0, 11.0, 13.0, 15.0]:\n",
        "  device = torch.device(\"cuda\" if torch.cuda.is_available() else \"cpu\")\n",
        "  CNN = CNN_model().to(device)\n",
        "\n",
        "  optimizer = torch.optim.Adam(CNN.parameters(), lr=0.001)\n",
        "\n",
        "  pos_weight = torch.FloatTensor([weight]).to(device)\n",
        "  criterion = nn.BCEWithLogitsLoss(pos_weight=pos_weight)\n",
        "\n",
        "  num_epochs = 20\n",
        "  train_model(CNN, train_loader, criterion, optimizer, device, num_epochs)\n",
        "  CNN.eval()\n",
        "\n",
        "  auc_metric = torchmetrics.AUROC(task=\"binary\")\n",
        "\n",
        "  predictions = []\n",
        "  actuals = []\n",
        "\n",
        "  with torch.no_grad():\n",
        "      for i, l in test_loader:\n",
        "          i, l = i.to(device), l.to(device)\n",
        "          outputs = CNN(i)\n",
        "          # Apply sigmoid to convert logits to probabilities\n",
        "          predicted_probs = torch.sigmoid(outputs)\n",
        "          predictions.extend(predicted_probs)\n",
        "          actuals.extend(l)\n",
        "          auc_metric.update(predicted_probs, l)\n",
        "  auc_score = auc_metric.compute()\n",
        "\n",
        "  print(f'pos-weights = {weight}, The AUC score is: {auc_score:.4f}')\n",
        "  weights_dict[weight] = auc_score\n"
      ]
    },
    {
      "cell_type": "code",
      "execution_count": null,
      "metadata": {
        "id": "YZJ07udk56mw",
        "colab": {
          "base_uri": "https://localhost:8080/",
          "height": 601
        },
        "outputId": "bf20e818-d110-4ccd-cfa6-8c1e904f3108"
      },
      "outputs": [
        {
          "output_type": "stream",
          "name": "stderr",
          "text": [
            "WARNING:matplotlib.legend:No artists with labels found to put in legend.  Note that artists whose label start with an underscore are ignored when legend() is called with no argument.\n"
          ]
        },
        {
          "output_type": "display_data",
          "data": {
            "text/plain": [
              "<Figure size 1000x600 with 1 Axes>"
            ],
            "image/png": "[encoded data removed]"
          },
          "metadata": {}
        }
      ],
      "source": [
        "plt.figure(figsize=(10, 6))\n",
        "plt.plot([1.0, 3.0, 5.0, 7.0, 9.0, 11.0, 13.0, 15.0], list(weights_dict.values()))\n",
        "plt.title('AUC vs Weight of Positive Class')\n",
        "plt.xlabel('Weight of Positive Class')\n",
        "plt.ylabel('AUC')\n",
        "plt.legend()\n",
        "plt.grid(True)\n",
        "plt.show()"
      ]
    },
    {
      "cell_type": "code",
      "source": [
        "# Final Model\n",
        "\n",
        "device = torch.device(\"cuda\" if torch.cuda.is_available() else \"cpu\")\n",
        "CNN = CNN_model().to(device)\n",
        "\n",
        "optimizer = torch.optim.Adam(CNN.parameters(), lr=0.001)\n",
        "\n",
        "pos_weight = torch.FloatTensor([5.0]).to(device)\n",
        "criterion = nn.BCEWithLogitsLoss(pos_weight=pos_weight)\n",
        "\n",
        "num_epochs = 20\n",
        "train_model(CNN, train_loader, criterion, optimizer, device, num_epochs)\n",
        "CNN.eval()\n",
        "\n",
        "auc_metric = torchmetrics.AUROC(task=\"binary\")\n",
        "\n",
        "predictions = []\n",
        "actuals = []\n",
        "\n",
        "with torch.no_grad():\n",
        "    for i, l in test_loader:\n",
        "        i, l = i.to(device), l.to(device)\n",
        "        outputs = CNN(i)\n",
        "        # Apply sigmoid to convert logits to probabilities\n",
        "        predicted_probs = torch.sigmoid(outputs)\n",
        "        predictions.extend(predicted_probs)\n",
        "        actuals.extend(l)\n",
        "        auc_metric.update(predicted_probs, l)\n",
        "auc_score = auc_metric.compute()\n",
        "\n",
        "print(f'The AUC score is: {auc_score:.4f}')"
      ],
      "metadata": {
        "colab": {
          "base_uri": "https://localhost:8080/"
        },
        "id": "oWpwf4A1-2Hi",
        "outputId": "6ef12426-5f37-4073-9267-5a7a0539321d"
      },
      "execution_count": null,
      "outputs": [
        {
          "output_type": "stream",
          "name": "stdout",
          "text": [
            "Epoch 1/20, Loss: 0.0497\n",
            "Epoch 2/20, Loss: 0.0455\n",
            "Epoch 3/20, Loss: 0.0451\n",
            "Epoch 4/20, Loss: 0.0448\n",
            "Epoch 5/20, Loss: 0.0444\n",
            "Epoch 6/20, Loss: 0.0442\n",
            "Epoch 7/20, Loss: 0.0436\n",
            "Epoch 8/20, Loss: 0.0436\n",
            "Epoch 9/20, Loss: 0.0439\n",
            "Epoch 10/20, Loss: 0.0435\n",
            "Epoch 11/20, Loss: 0.0436\n",
            "Epoch 12/20, Loss: 0.0427\n",
            "Epoch 13/20, Loss: 0.0424\n",
            "Epoch 14/20, Loss: 0.0420\n",
            "Epoch 15/20, Loss: 0.0419\n",
            "Epoch 16/20, Loss: 0.0420\n",
            "Epoch 17/20, Loss: 0.0416\n",
            "Epoch 18/20, Loss: 0.0413\n",
            "Epoch 19/20, Loss: 0.0409\n",
            "Epoch 20/20, Loss: 0.0406\n",
            "The AUC score is: 0.6354\n"
          ]
        }
      ]
    },
    {
      "cell_type": "markdown",
      "metadata": {
        "id": "gBLU1eeLwq8O"
      },
      "source": [
        "### U-Net architecture"
      ]
    },
    {
      "cell_type": "markdown",
      "metadata": {
        "id": "M5DwhEBaKkUx"
      },
      "source": [
        "#### Tensorflow"
      ]
    },
    {
      "cell_type": "code",
      "execution_count": null,
      "metadata": {
        "id": "JLmFPJ6DwuCX"
      },
      "outputs": [],
      "source": [
        "import tensorflow as tf\n",
        "from tensorflow.keras.models import Model\n",
        "from tensorflow.keras.layers import Input, Conv2D, MaxPooling2D, Dropout, Conv2DTranspose, concatenate\n",
        "from tensorflow.keras.optimizers import Adam\n",
        "from tensorflow.keras.metrics import AUC\n",
        "\n",
        "def conv_block(input_tensor, num_filters):\n",
        "    \"\"\"Function to add two convolutional layers with the parameters passed to it\"\"\"\n",
        "    # first layer\n",
        "    x = Conv2D(num_filters, (3, 3), activation='relu', padding='same')(input_tensor)\n",
        "    x = Dropout(0.1)(x)\n",
        "    # second layer\n",
        "    x = Conv2D(num_filters, (3, 3), activation='relu', padding='same')(x)\n",
        "    return x\n",
        "\n",
        "def encoder_block(input_tensor, num_filters):\n",
        "    \"\"\"Function to add two convolutional blocks and then perform max pooling and dropout\"\"\"\n",
        "    x = conv_block(input_tensor, num_filters)\n",
        "    p = MaxPooling2D((2, 2))(x)\n",
        "    return x, p\n",
        "\n",
        "def decoder_block(input_tensor, concat_tensor, num_filters):\n",
        "    \"\"\"Function to perform upsampling, concatenate skipped connection and two convolutional blocks\"\"\"\n",
        "    x = Conv2DTranspose(num_filters, (2, 2), strides=(2, 2), padding='same')(input_tensor)\n",
        "    x = concatenate([x, concat_tensor], axis=-1)\n",
        "    x = Dropout(0.1)(x)\n",
        "    x = conv_block(x, num_filters)\n",
        "    return x\n",
        "\n",
        "def build_unet(input_shape):\n",
        "    \"\"\"Function to build U-Net\"\"\"\n",
        "    inputs = Input(input_shape)\n",
        "\n",
        "    # Encoder\n",
        "    c1, p1 = encoder_block(inputs, 64)\n",
        "    c2, p2 = encoder_block(p1, 128)\n",
        "    c3, p3 = encoder_block(p2, 256)\n",
        "    c4, p4 = encoder_block(p3, 512)\n",
        "\n",
        "    # Bottleneck\n",
        "    b = conv_block(p4, 1024)\n",
        "\n",
        "    # Decoder\n",
        "    d1 = decoder_block(b, c4, 512)\n",
        "    d2 = decoder_block(d1, c3, 256)\n",
        "    d3 = decoder_block(d2, c2, 128)\n",
        "    d4 = decoder_block(d3, c1, 64)\n",
        "\n",
        "    # Output\n",
        "    outputs = Conv2D(1, (1, 1), activation='sigmoid')(d4)\n",
        "\n",
        "    model = Model(inputs, outputs, name=\"U-Net\")\n",
        "    return model"
      ]
    },
    {
      "cell_type": "code",
      "execution_count": null,
      "metadata": {
        "id": "lvPY98Nkq1AT"
      },
      "outputs": [],
      "source": [
        "# Build U-Net model\n",
        "unet_model = build_unet((32, 32, 12))\n",
        "unet_model.compile(optimizer=Adam(learning_rate=0.0001), loss='binary_crossentropy', metrics=['accuracy', AUC(name='auc')])"
      ]
    },
    {
      "cell_type": "code",
      "execution_count": null,
      "metadata": {
        "id": "brBxwWc6rHAU"
      },
      "outputs": [],
      "source": [
        "unet_history = unet_model.fit(features, labels, epochs=20, batch_size=16, validation_data=(val_features, val_labels))"
      ]
    },
    {
      "cell_type": "code",
      "execution_count": null,
      "metadata": {
        "colab": {
          "base_uri": "https://localhost:8080/",
          "height": 564
        },
        "id": "qdiKKqxBg5QV",
        "outputId": "bf2f56f1-02ad-4eef-bdf4-45342fb010eb"
      },
      "outputs": [
        {
          "data": {
            "image/png": "[encoded data removed]",
            "text/plain": [
              "<Figure size 1000x600 with 1 Axes>"
            ]
          },
          "metadata": {},
          "output_type": "display_data"
        }
      ],
      "source": [
        "import matplotlib.pyplot as plt\n",
        "loss = unet_history.history['loss']\n",
        "val_loss = unet_history.history['val_loss']\n",
        "\n",
        "epochs = range(1, len(loss) + 1)\n",
        "\n",
        "plt.figure(figsize=(10, 6))  # Optional: Adjusts the size of the plot\n",
        "plt.plot(epochs, loss, label='Training Loss', color='blue', marker='o')\n",
        "if val_loss is not None:\n",
        "    plt.plot(epochs, val_loss, label='Validation Loss', color='red', marker='o')\n",
        "\n",
        "plt.title('U-Net Training and Validation Loss')\n",
        "plt.xlabel('Epochs')\n",
        "plt.ylabel('Loss')\n",
        "plt.legend()\n",
        "plt.grid(True)  # Optional: Adds a grid for easier reading\n",
        "plt.show()"
      ]
    },
    {
      "cell_type": "code",
      "execution_count": null,
      "metadata": {
        "id": "lUaiRIiIVyO9"
      },
      "outputs": [],
      "source": [
        "# model_save_path = '/content/drive/My Drive/Colab Notebooks/my_unet_model.h5'\n",
        "# # Save model\n",
        "# unet_model.save(model_save_path)"
      ]
    },
    {
      "cell_type": "code",
      "execution_count": null,
      "metadata": {
        "colab": {
          "base_uri": "https://localhost:8080/"
        },
        "id": "PohwKjFVzCv1",
        "outputId": "7a7ca540-e283-4525-abf7-41f20e4cd68f"
      },
      "outputs": [
        {
          "name": "stdout",
          "output_type": "stream",
          "text": [
            "11/11 [==============================] - 3s 110ms/step - loss: 0.2549 - accuracy: 0.9389 - auc: 0.6442\n",
            "Test Loss: 0.2548823058605194, Test Accuracy: 0.93889981508255, Test AUC: 0.6441639065742493\n"
          ]
        }
      ],
      "source": [
        "# Evaluate on test set\n",
        "unet_scores = unet_model.evaluate(test_features, test_labels)\n",
        "print(f'Test Loss: {unet_scores[0]}, Test Accuracy: {unet_scores[1]}, Test AUC: {unet_scores[2]}')"
      ]
    },
    {
      "cell_type": "code",
      "execution_count": null,
      "metadata": {
        "colab": {
          "base_uri": "https://localhost:8080/"
        },
        "id": "XbaElyYczFz-",
        "outputId": "689e7135-7fe7-4596-97dc-666e0b9e495b"
      },
      "outputs": [
        {
          "name": "stdout",
          "output_type": "stream",
          "text": [
            "1/1 [==============================] - 2s 2s/step\n"
          ]
        }
      ],
      "source": [
        "# Predictions sur X_train\n",
        "unet_predicted_masks = unet_model.predict(test_features[:20,:,:,:])"
      ]
    },
    {
      "cell_type": "code",
      "execution_count": null,
      "metadata": {
        "colab": {
          "base_uri": "https://localhost:8080/",
          "height": 657
        },
        "id": "dUeUxPspzI8j",
        "outputId": "f2d19faa-1a3d-4224-a13b-a7fefd6301b9"
      },
      "outputs": [
        {
          "data": {
            "image/png": "[encoded data removed]",
            "text/plain": [
              "<Figure size 1500x650 with 9 Axes>"
            ]
          },
          "metadata": {},
          "output_type": "display_data"
        }
      ],
      "source": [
        "TITLES_pred = [\"Previous-day Fire Mask\", \"Next-day Fire Mask\",\"Predicted Fire Mask\"]\n",
        "fig = plt.figure(figsize=(15,6.5))\n",
        "n_rows = 3\n",
        "n_features = 2\n",
        "CMAP = colors.ListedColormap(['black', \"#FAF3CE\", '#F41724'])\n",
        "BOUNDS = [-1, -0.1, 0.001, 1]\n",
        "NORM = colors.BoundaryNorm(BOUNDS, CMAP.N)\n",
        "\n",
        "for i in range(n_rows):\n",
        "  for j in range(n_features + 1):\n",
        "    plt.subplot(n_rows, n_features+1, i * (n_features+1) + j + 1)\n",
        "    if i == 0:\n",
        "      plt.title(TITLES_pred[j], fontsize=13)\n",
        "    if j == 0:\n",
        "      plt.imshow(test_features[i, :, :, 11], cmap=CMAP, norm=NORM)\n",
        "    if j == 1:\n",
        "      plt.imshow(test_labels[i, :, :, 0], cmap=CMAP, norm=NORM)\n",
        "    if j == 2:\n",
        "      plt.imshow(unet_predicted_masks[i,:,:], cmap=CMAP, norm=NORM)\n",
        "    plt.axis('off')\n",
        "plt.tight_layout()"
      ]
    },
    {
      "cell_type": "markdown",
      "metadata": {
        "id": "kasW9IuilWZQ"
      },
      "source": [
        "#### Torch"
      ]
    },
    {
      "cell_type": "code",
      "execution_count": null,
      "metadata": {
        "id": "1Hr_v-ERlVem"
      },
      "outputs": [],
      "source": [
        "import torch\n",
        "import torch.nn as nn\n",
        "import torch.nn.functional as F\n",
        "\n",
        "class ConvBlock(nn.Module):\n",
        "    def __init__(self, in_channels, out_channels):\n",
        "        super(ConvBlock, self).__init__()\n",
        "        self.conv = nn.Sequential(\n",
        "            nn.Conv2d(in_channels, out_channels, kernel_size=3, padding=1),\n",
        "            nn.ReLU(inplace=True),\n",
        "            nn.Dropout(0.1),\n",
        "            nn.Conv2d(out_channels, out_channels, kernel_size=3, padding=1),\n",
        "            nn.ReLU(inplace=True)\n",
        "        )\n",
        "\n",
        "    def forward(self, x):\n",
        "        return self.conv(x)\n",
        "\n",
        "class EncoderBlock(nn.Module):\n",
        "    def __init__(self, in_channels, out_channels):\n",
        "        super(EncoderBlock, self).__init__()\n",
        "        self.conv_block = ConvBlock(in_channels, out_channels)\n",
        "        self.pool = nn.MaxPool2d(kernel_size=2, stride=2)\n",
        "\n",
        "    def forward(self, x):\n",
        "        x = self.conv_block(x)\n",
        "        p = self.pool(x)\n",
        "        return x, p\n",
        "\n",
        "class DecoderBlock(nn.Module):\n",
        "    def __init__(self, in_channels, middle_channels, out_channels):\n",
        "        super(DecoderBlock, self).__init__()\n",
        "        self.up = nn.ConvTranspose2d(in_channels, middle_channels, kernel_size=2, stride=2)\n",
        "        self.conv_block = ConvBlock(middle_channels + out_channels, out_channels)\n",
        "\n",
        "    def forward(self, x, skip):\n",
        "        x = self.up(x)\n",
        "        x = torch.cat([x, skip], dim=1)\n",
        "        x = self.conv_block(x)\n",
        "        return x\n",
        "\n",
        "class UNet(nn.Module):\n",
        "    def __init__(self):\n",
        "        super(UNet, self).__init__()\n",
        "        self.encoder1 = EncoderBlock(12, 64)\n",
        "        self.encoder2 = EncoderBlock(64, 128)\n",
        "        self.encoder3 = EncoderBlock(128, 256)\n",
        "        self.encoder4 = EncoderBlock(256, 512)\n",
        "\n",
        "        self.bottleneck = ConvBlock(512, 1024)\n",
        "\n",
        "        self.decoder1 = DecoderBlock(1024, 512, 512)\n",
        "        self.decoder2 = DecoderBlock(512, 256, 256)\n",
        "        self.decoder3 = DecoderBlock(256, 128, 128)\n",
        "        self.decoder4 = DecoderBlock(128, 64, 64)\n",
        "\n",
        "        self.final_conv = nn.Conv2d(64, 1, kernel_size=1)\n",
        "        self.sigmoid = nn.Sigmoid()\n",
        "\n",
        "    def forward(self, x):\n",
        "        # Encoder\n",
        "        c1, p1 = self.encoder1(x)\n",
        "        c2, p2 = self.encoder2(p1)\n",
        "        c3, p3 = self.encoder3(p2)\n",
        "        c4, p4 = self.encoder4(p3)\n",
        "\n",
        "        # Bottleneck\n",
        "        b = self.bottleneck(p4)\n",
        "\n",
        "        # Decoder\n",
        "        d1 = self.decoder1(b, c4)\n",
        "        d2 = self.decoder2(d1, c3)\n",
        "        d3 = self.decoder3(d2, c2)\n",
        "        d4 = self.decoder4(d3, c1)\n",
        "\n",
        "        # Output\n",
        "        output = self.final_conv(d4)\n",
        "        return output"
      ]
    },
    {
      "cell_type": "code",
      "execution_count": null,
      "metadata": {
        "id": "whLJtM3dlgIS"
      },
      "outputs": [],
      "source": [
        "# Create dataset\n",
        "features_tensor = torch.tensor(features, dtype=torch.float32).permute(0, 3, 1, 2) # [batch_size, channels, height, width]\n",
        "labels_tensor = torch.tensor(labels, dtype=torch.float32).permute(0, 3, 1, 2)\n",
        "\n",
        "train_dataset = TensorDataset(features_tensor, labels_tensor)\n",
        "train_loader = DataLoader(dataset=train_dataset, batch_size=64, shuffle=False)"
      ]
    },
    {
      "cell_type": "code",
      "execution_count": null,
      "metadata": {
        "id": "308dfytvlrCn"
      },
      "outputs": [],
      "source": [
        "device = torch.device(\"cuda\" if torch.cuda.is_available() else \"cpu\")\n",
        "UNET = UNet().to(device)\n",
        "\n",
        "optimizer = torch.optim.Adam(UNET.parameters(), lr=0.001)\n",
        "\n",
        "pos_weight = torch.FloatTensor([3.0]).to(device)\n",
        "criterion = nn.BCEWithLogitsLoss(pos_weight=pos_weight)\n",
        "\n",
        "num_epochs = 50\n",
        "train_model(UNET, train_loader, criterion, optimizer, device, num_epochs)"
      ]
    },
    {
      "cell_type": "code",
      "execution_count": null,
      "metadata": {
        "colab": {
          "base_uri": "https://localhost:8080/"
        },
        "id": "fhRYliuIl6f1",
        "outputId": "a8abc6fa-1256-4b97-935a-450c8d9fe0f2"
      },
      "outputs": [
        {
          "name": "stdout",
          "output_type": "stream",
          "text": [
            "The AUC score is: 0.5000\n"
          ]
        }
      ],
      "source": [
        "UNET.eval()\n",
        "# !pip install torchmetrics\n",
        "import torch\n",
        "import torchmetrics\n",
        "auc_metric = torchmetrics.AUROC(task=\"binary\")\n",
        "\n",
        "predictions = []\n",
        "actuals = []\n",
        "\n",
        "with torch.no_grad():\n",
        "    for i, l in test_loader:\n",
        "\n",
        "        outputs = UNET(i)\n",
        "        predicted_probs = torch.sigmoid(outputs)\n",
        "        predictions.extend(predicted_probs)\n",
        "        actuals.extend(l)\n",
        "        auc_metric.update(predicted_probs, l)\n",
        "auc_score = auc_metric.compute()\n",
        "\n",
        "print(f'The AUC score is: {auc_score:.4f}')"
      ]
    },
    {
      "cell_type": "markdown",
      "metadata": {
        "id": "DUmImAv6wvBD"
      },
      "source": [
        "### CNN with Residual Blocks"
      ]
    },
    {
      "cell_type": "code",
      "execution_count": null,
      "metadata": {
        "colab": {
          "base_uri": "https://localhost:8080/"
        },
        "id": "YDeQNbfLwxmG",
        "outputId": "9800cf42-d626-416f-8477-1740d6af4c69"
      },
      "outputs": [
        {
          "name": "stdout",
          "output_type": "stream",
          "text": [
            "Model: \"model_1\"\n",
            "__________________________________________________________________________________________________\n",
            " Layer (type)                Output Shape                 Param #   Connected to                  \n",
            "==================================================================================================\n",
            " input_6 (InputLayer)        [(None, 32, 32, 12)]         0         []                            \n",
            "                                                                                                  \n",
            " conv2d_39 (Conv2D)          (None, 32, 32, 16)           1744      ['input_6[0][0]']             \n",
            "                                                                                                  \n",
            " max_pooling2d_11 (MaxPooli  (None, 16, 16, 16)           0         ['conv2d_39[0][0]']           \n",
            " ng2D)                                                                                            \n",
            "                                                                                                  \n",
            " dropout_26 (Dropout)        (None, 16, 16, 16)           0         ['max_pooling2d_11[0][0]']    \n",
            "                                                                                                  \n",
            " conv2d_40 (Conv2D)          (None, 16, 16, 16)           2320      ['dropout_26[0][0]']          \n",
            "                                                                                                  \n",
            " max_pooling2d_12 (MaxPooli  (None, 8, 8, 16)             0         ['conv2d_40[0][0]']           \n",
            " ng2D)                                                                                            \n",
            "                                                                                                  \n",
            " dropout_27 (Dropout)        (None, 8, 8, 16)             0         ['max_pooling2d_12[0][0]']    \n",
            "                                                                                                  \n",
            " conv2d_41 (Conv2D)          (None, 8, 8, 32)             4640      ['dropout_27[0][0]']          \n",
            "                                                                                                  \n",
            " dropout_28 (Dropout)        (None, 8, 8, 32)             0         ['conv2d_41[0][0]']           \n",
            "                                                                                                  \n",
            " conv2d_43 (Conv2D)          (None, 8, 8, 32)             544       ['dropout_27[0][0]']          \n",
            "                                                                                                  \n",
            " conv2d_42 (Conv2D)          (None, 8, 8, 32)             9248      ['dropout_28[0][0]']          \n",
            "                                                                                                  \n",
            " add_4 (Add)                 (None, 8, 8, 32)             0         ['conv2d_43[0][0]',           \n",
            "                                                                     'conv2d_42[0][0]']           \n",
            "                                                                                                  \n",
            " dropout_29 (Dropout)        (None, 8, 8, 32)             0         ['add_4[0][0]']               \n",
            "                                                                                                  \n",
            " conv2d_44 (Conv2D)          (None, 8, 8, 32)             9248      ['dropout_29[0][0]']          \n",
            "                                                                                                  \n",
            " dropout_30 (Dropout)        (None, 8, 8, 32)             0         ['conv2d_44[0][0]']           \n",
            "                                                                                                  \n",
            " conv2d_46 (Conv2D)          (None, 8, 8, 32)             1056      ['dropout_29[0][0]']          \n",
            "                                                                                                  \n",
            " conv2d_45 (Conv2D)          (None, 8, 8, 32)             9248      ['dropout_30[0][0]']          \n",
            "                                                                                                  \n",
            " add_5 (Add)                 (None, 8, 8, 32)             0         ['conv2d_46[0][0]',           \n",
            "                                                                     'conv2d_45[0][0]']           \n",
            "                                                                                                  \n",
            " dropout_31 (Dropout)        (None, 8, 8, 32)             0         ['add_5[0][0]']               \n",
            "                                                                                                  \n",
            " conv2d_transpose_6 (Conv2D  (None, 16, 16, 16)           4624      ['dropout_31[0][0]']          \n",
            " Transpose)                                                                                       \n",
            "                                                                                                  \n",
            " dropout_32 (Dropout)        (None, 16, 16, 16)           0         ['conv2d_transpose_6[0][0]']  \n",
            "                                                                                                  \n",
            " conv2d_transpose_7 (Conv2D  (None, 32, 32, 16)           2320      ['dropout_32[0][0]']          \n",
            " Transpose)                                                                                       \n",
            "                                                                                                  \n",
            " conv2d_47 (Conv2D)          (None, 32, 32, 1)            17        ['conv2d_transpose_7[0][0]']  \n",
            "                                                                                                  \n",
            "==================================================================================================\n",
            "Total params: 45009 (175.82 KB)\n",
            "Trainable params: 45009 (175.82 KB)\n",
            "Non-trainable params: 0 (0.00 Byte)\n",
            "__________________________________________________________________________________________________\n"
          ]
        }
      ],
      "source": [
        "import tensorflow as tf\n",
        "from tensorflow.keras import layers, models\n",
        "from tensorflow.keras.layers import Input, Conv2D, MaxPooling2D, Dropout, Conv2DTranspose, Add\n",
        "\n",
        "# def ResBlock(x, num_filters, pool=False):\n",
        "#     \"\"\"\n",
        "#     ResBlock as defined in the provided architecture.\n",
        "\n",
        "#     Parameters:\n",
        "#     x (tensor): Input tensor into the ResBlock.\n",
        "#     num_filters (int): Number of filters for the convolutional layers.\n",
        "#     pool (bool): If True, MaxPooling2D will be used; otherwise Conv2D will be used.\n",
        "\n",
        "#     Returns:\n",
        "#     tensor: Output tensor after applying the ResBlock.\n",
        "#     \"\"\"\n",
        "#     #print(x.shape)\n",
        "#     conv = layers.Conv2D(num_filters, (3, 3), padding='same')(x)\n",
        "#     #print(conv.shape)\n",
        "\n",
        "#     x = layers.LeakyReLU(alpha=0.1)(x)\n",
        "#     x = layers.Dropout(0.5)(x)\n",
        "\n",
        "#     if pool:\n",
        "#         x = layers.MaxPooling2D((2, 2))(x)\n",
        "#         conv = layers.MaxPooling2D((2, 2))(conv)\n",
        "#         #print(x)\n",
        "#     else:\n",
        "#         #print(x)\n",
        "#         x = layers.Conv2D(num_filters, (3, 3), padding='same')(x)\n",
        "\n",
        "#     x = layers.Conv2D(num_filters, (3, 3), padding='same')(x)\n",
        "#     #print(x)\n",
        "#     x = layers.Dropout(0.5)(x)\n",
        "\n",
        "#     # Skipping the convolution from the input\n",
        "#     print(x.shape, conv.shape)\n",
        "#     x = layers.add([x, conv])\n",
        "#     print(\"success\")\n",
        "#     return x\n",
        "\n",
        "def conv_block(inputs, filters, strides=1):\n",
        "    x = Conv2D(filters, (3, 3), strides=strides, activation='relu', padding='same')(inputs)\n",
        "    x = MaxPooling2D((2, 2))(x)\n",
        "    x = Dropout(0.1)(x)\n",
        "\n",
        "    return x\n",
        "\n",
        "def ResBlock(inputs, num_filters):\n",
        "  x = Conv2D(num_filters, (3, 3), padding='same', strides=(1, 1), activation='relu')(inputs)\n",
        "  x = Dropout(0.1)(x)\n",
        "  x = Conv2D(num_filters, (3, 3), padding='same', strides=(1, 1), activation='relu')(x)\n",
        "\n",
        "  x_compatible = Conv2D(num_filters, (1, 1), strides=(1, 1), padding='same')(inputs)\n",
        "\n",
        "  x = Add()([x_compatible, x])\n",
        "  x = Dropout(0.1)(x)\n",
        "  return x\n",
        "\n",
        "def build_model(input_shape):\n",
        "    inputs = Input(input_shape)\n",
        "\n",
        "    # Initial Convolutional Block\n",
        "    x = conv_block(inputs, 16)\n",
        "\n",
        "    # First set of layers with 16 filters\n",
        "    x = conv_block(x, 16)\n",
        "\n",
        "    # First Residual Block with 32 filters\n",
        "    x = ResBlock(x, 32)\n",
        "\n",
        "    # Second Residual Block with 32 filters\n",
        "    x = ResBlock(x, 32)\n",
        "\n",
        "    # Upsampling + Conv2D Transpose\n",
        "    x = Conv2DTranspose(16, (3, 3), strides=(2, 2), padding='same', activation='relu')(x)\n",
        "    x = Dropout(0.1)(x)\n",
        "    x = Conv2DTranspose(16, (3, 3), strides=(2, 2), padding='same', activation='relu')(x)\n",
        "\n",
        "    # Final Convolutional Layer\n",
        "    outputs = Conv2D(1, (1, 1), activation='sigmoid', padding='same')(x)\n",
        "\n",
        "    model = Model(inputs, outputs)\n",
        "    optimizer = Adam(learning_rate=0.0001)\n",
        "    model.compile(optimizer=optimizer, loss='binary_crossentropy', metrics=['accuracy'])\n",
        "\n",
        "    return model\n",
        "CNN_res = build_model((32, 32, 12))\n",
        "CNN_res.summary()"
      ]
    },
    {
      "cell_type": "code",
      "execution_count": null,
      "metadata": {
        "colab": {
          "base_uri": "https://localhost:8080/"
        },
        "id": "c1qiF7jRLBGk",
        "outputId": "746a232b-a0b6-4597-ab09-e9a1343eb736"
      },
      "outputs": [
        {
          "name": "stdout",
          "output_type": "stream",
          "text": [
            "Epoch 1/100\n",
            "354/354 [==============================] - 23s 23ms/step - loss: 15.0609 - accuracy: 0.6439\n",
            "Epoch 2/100\n",
            "354/354 [==============================] - 5s 13ms/step - loss: 1.1872 - accuracy: 0.8016\n",
            "Epoch 3/100\n",
            "354/354 [==============================] - 5s 15ms/step - loss: 0.7653 - accuracy: 0.8995\n",
            "Epoch 4/100\n",
            "354/354 [==============================] - 4s 11ms/step - loss: 0.6914 - accuracy: 0.9203\n",
            "Epoch 5/100\n",
            "354/354 [==============================] - 3s 7ms/step - loss: 0.6471 - accuracy: 0.9267\n",
            "Epoch 6/100\n",
            "354/354 [==============================] - 3s 7ms/step - loss: 0.6197 - accuracy: 0.9297\n",
            "Epoch 7/100\n",
            "354/354 [==============================] - 3s 10ms/step - loss: 0.5988 - accuracy: 0.9315\n",
            "Epoch 8/100\n",
            "354/354 [==============================] - 3s 8ms/step - loss: 0.5807 - accuracy: 0.9326\n",
            "Epoch 9/100\n",
            "354/354 [==============================] - 3s 8ms/step - loss: 0.5676 - accuracy: 0.9333\n",
            "Epoch 10/100\n",
            "354/354 [==============================] - 3s 7ms/step - loss: 0.5562 - accuracy: 0.9337\n",
            "Epoch 11/100\n",
            "354/354 [==============================] - 3s 7ms/step - loss: 0.5473 - accuracy: 0.9342\n",
            "Epoch 12/100\n",
            "354/354 [==============================] - 4s 11ms/step - loss: 0.5413 - accuracy: 0.9344\n",
            "Epoch 13/100\n",
            "354/354 [==============================] - 3s 8ms/step - loss: 0.5356 - accuracy: 0.9346\n",
            "Epoch 14/100\n",
            "354/354 [==============================] - 3s 8ms/step - loss: 0.5314 - accuracy: 0.9347\n",
            "Epoch 15/100\n",
            "354/354 [==============================] - 3s 7ms/step - loss: 0.5284 - accuracy: 0.9348\n",
            "Epoch 16/100\n",
            "354/354 [==============================] - 3s 9ms/step - loss: 0.5256 - accuracy: 0.9348\n",
            "Epoch 17/100\n",
            "354/354 [==============================] - 4s 13ms/step - loss: 0.5233 - accuracy: 0.9349\n",
            "Epoch 18/100\n",
            "354/354 [==============================] - 3s 8ms/step - loss: 0.5220 - accuracy: 0.9350\n",
            "Epoch 19/100\n",
            "354/354 [==============================] - 3s 8ms/step - loss: 0.5210 - accuracy: 0.9350\n",
            "Epoch 20/100\n",
            "354/354 [==============================] - 3s 7ms/step - loss: 0.5203 - accuracy: 0.9350\n",
            "Epoch 21/100\n",
            "354/354 [==============================] - 5s 13ms/step - loss: 0.5196 - accuracy: 0.9350\n",
            "Epoch 22/100\n",
            "354/354 [==============================] - 3s 10ms/step - loss: 0.5191 - accuracy: 0.9351\n",
            "Epoch 23/100\n",
            "354/354 [==============================] - 3s 7ms/step - loss: 0.5193 - accuracy: 0.9351\n",
            "Epoch 24/100\n",
            "354/354 [==============================] - 3s 8ms/step - loss: 0.5190 - accuracy: 0.9351\n",
            "Epoch 25/100\n",
            "354/354 [==============================] - 3s 7ms/step - loss: 0.5188 - accuracy: 0.9351\n",
            "Epoch 26/100\n",
            "354/354 [==============================] - 4s 10ms/step - loss: 0.5188 - accuracy: 0.9351\n",
            "Epoch 27/100\n",
            "354/354 [==============================] - 3s 7ms/step - loss: 0.5187 - accuracy: 0.9351\n",
            "Epoch 28/100\n",
            "354/354 [==============================] - 3s 8ms/step - loss: 0.5185 - accuracy: 0.9351\n",
            "Epoch 29/100\n",
            "354/354 [==============================] - 3s 7ms/step - loss: 0.5188 - accuracy: 0.9351\n",
            "Epoch 30/100\n",
            "354/354 [==============================] - 3s 8ms/step - loss: 0.5185 - accuracy: 0.9351\n",
            "Epoch 31/100\n",
            "354/354 [==============================] - 4s 12ms/step - loss: 0.5183 - accuracy: 0.9351\n",
            "Epoch 32/100\n",
            "354/354 [==============================] - 3s 8ms/step - loss: 0.5182 - accuracy: 0.9351\n",
            "Epoch 33/100\n",
            "354/354 [==============================] - 3s 8ms/step - loss: 0.5182 - accuracy: 0.9351\n",
            "Epoch 34/100\n",
            "354/354 [==============================] - 3s 8ms/step - loss: 0.5181 - accuracy: 0.9351\n",
            "Epoch 35/100\n",
            "354/354 [==============================] - 4s 10ms/step - loss: 0.5179 - accuracy: 0.9351\n",
            "Epoch 36/100\n",
            "354/354 [==============================] - 3s 8ms/step - loss: 0.5177 - accuracy: 0.9351\n",
            "Epoch 37/100\n",
            "354/354 [==============================] - 3s 8ms/step - loss: 0.5174 - accuracy: 0.9351\n",
            "Epoch 38/100\n",
            "354/354 [==============================] - 3s 8ms/step - loss: 0.5171 - accuracy: 0.9351\n",
            "Epoch 39/100\n",
            "354/354 [==============================] - 3s 9ms/step - loss: 0.5170 - accuracy: 0.9351\n",
            "Epoch 40/100\n",
            "354/354 [==============================] - 3s 10ms/step - loss: 0.5165 - accuracy: 0.9351\n",
            "Epoch 41/100\n",
            "354/354 [==============================] - 3s 8ms/step - loss: 0.5163 - accuracy: 0.9351\n",
            "Epoch 42/100\n",
            "354/354 [==============================] - 3s 8ms/step - loss: 0.5155 - accuracy: 0.9351\n",
            "Epoch 43/100\n",
            "354/354 [==============================] - 3s 8ms/step - loss: 0.5153 - accuracy: 0.9351\n",
            "Epoch 44/100\n",
            "354/354 [==============================] - 3s 10ms/step - loss: 0.5156 - accuracy: 0.9351\n",
            "Epoch 45/100\n",
            "354/354 [==============================] - 3s 9ms/step - loss: 0.5143 - accuracy: 0.9351\n",
            "Epoch 46/100\n",
            "354/354 [==============================] - 3s 8ms/step - loss: 0.5144 - accuracy: 0.9351\n",
            "Epoch 47/100\n",
            "354/354 [==============================] - 4s 12ms/step - loss: 0.5125 - accuracy: 0.9351\n",
            "Epoch 48/100\n",
            "354/354 [==============================] - 3s 9ms/step - loss: 0.5131 - accuracy: 0.9351\n",
            "Epoch 49/100\n",
            "354/354 [==============================] - 3s 9ms/step - loss: 0.5127 - accuracy: 0.9351\n",
            "Epoch 50/100\n",
            "354/354 [==============================] - 3s 7ms/step - loss: 0.5099 - accuracy: 0.9351\n",
            "Epoch 51/100\n",
            "354/354 [==============================] - 3s 8ms/step - loss: 0.5102 - accuracy: 0.9351\n",
            "Epoch 52/100\n",
            "354/354 [==============================] - 3s 8ms/step - loss: 0.5093 - accuracy: 0.9351\n",
            "Epoch 53/100\n",
            "354/354 [==============================] - 4s 11ms/step - loss: 0.5083 - accuracy: 0.9351\n",
            "Epoch 54/100\n",
            "354/354 [==============================] - 3s 8ms/step - loss: 0.5065 - accuracy: 0.9351\n",
            "Epoch 55/100\n",
            "354/354 [==============================] - 3s 8ms/step - loss: 0.5050 - accuracy: 0.9351\n",
            "Epoch 56/100\n",
            "354/354 [==============================] - 3s 8ms/step - loss: 0.5032 - accuracy: 0.9351\n",
            "Epoch 57/100\n",
            "354/354 [==============================] - 4s 10ms/step - loss: 0.5024 - accuracy: 0.9351\n",
            "Epoch 58/100\n",
            "354/354 [==============================] - 4s 13ms/step - loss: 0.5018 - accuracy: 0.9351\n",
            "Epoch 59/100\n",
            "354/354 [==============================] - 3s 8ms/step - loss: 0.5005 - accuracy: 0.9351\n",
            "Epoch 60/100\n",
            "354/354 [==============================] - 3s 7ms/step - loss: 0.4989 - accuracy: 0.9351\n",
            "Epoch 61/100\n",
            "354/354 [==============================] - 3s 8ms/step - loss: 0.4981 - accuracy: 0.9351\n",
            "Epoch 62/100\n",
            "354/354 [==============================] - 3s 9ms/step - loss: 0.4971 - accuracy: 0.9351\n",
            "Epoch 63/100\n",
            "354/354 [==============================] - 3s 10ms/step - loss: 0.4959 - accuracy: 0.9351\n",
            "Epoch 64/100\n",
            "354/354 [==============================] - 3s 8ms/step - loss: 0.4962 - accuracy: 0.9351\n",
            "Epoch 65/100\n",
            "354/354 [==============================] - 3s 8ms/step - loss: 0.4947 - accuracy: 0.9351\n",
            "Epoch 66/100\n",
            "354/354 [==============================] - 3s 9ms/step - loss: 0.4930 - accuracy: 0.9351\n",
            "Epoch 67/100\n",
            "354/354 [==============================] - 5s 15ms/step - loss: 0.4926 - accuracy: 0.9351\n",
            "Epoch 68/100\n",
            "354/354 [==============================] - 3s 8ms/step - loss: 0.4914 - accuracy: 0.9351\n",
            "Epoch 69/100\n",
            "354/354 [==============================] - 3s 8ms/step - loss: 0.4895 - accuracy: 0.9351\n",
            "Epoch 70/100\n",
            "354/354 [==============================] - 3s 8ms/step - loss: 0.4885 - accuracy: 0.9351\n",
            "Epoch 71/100\n",
            "354/354 [==============================] - 3s 10ms/step - loss: 0.4875 - accuracy: 0.9351\n",
            "Epoch 72/100\n",
            "354/354 [==============================] - 3s 9ms/step - loss: 0.4873 - accuracy: 0.9351\n",
            "Epoch 73/100\n",
            "354/354 [==============================] - 3s 8ms/step - loss: 0.4871 - accuracy: 0.9351\n",
            "Epoch 74/100\n",
            "354/354 [==============================] - 3s 8ms/step - loss: 0.4855 - accuracy: 0.9351\n",
            "Epoch 75/100\n",
            "354/354 [==============================] - 3s 8ms/step - loss: 0.4843 - accuracy: 0.9351\n",
            "Epoch 76/100\n",
            "354/354 [==============================] - 4s 12ms/step - loss: 0.4837 - accuracy: 0.9351\n",
            "Epoch 77/100\n",
            "354/354 [==============================] - 3s 9ms/step - loss: 0.4830 - accuracy: 0.9351\n",
            "Epoch 78/100\n",
            "354/354 [==============================] - 3s 7ms/step - loss: 0.4809 - accuracy: 0.9351\n",
            "Epoch 79/100\n",
            "354/354 [==============================] - 3s 8ms/step - loss: 0.4819 - accuracy: 0.9351\n",
            "Epoch 80/100\n",
            "354/354 [==============================] - 3s 9ms/step - loss: 0.4788 - accuracy: 0.9351\n",
            "Epoch 81/100\n",
            "354/354 [==============================] - 3s 9ms/step - loss: 0.4802 - accuracy: 0.9351\n",
            "Epoch 82/100\n",
            "354/354 [==============================] - 3s 9ms/step - loss: 0.4772 - accuracy: 0.9351\n",
            "Epoch 83/100\n",
            "354/354 [==============================] - 6s 16ms/step - loss: 0.4781 - accuracy: 0.9351\n",
            "Epoch 84/100\n",
            "354/354 [==============================] - 7s 20ms/step - loss: 0.4777 - accuracy: 0.9351\n",
            "Epoch 85/100\n",
            "354/354 [==============================] - 5s 15ms/step - loss: 0.4748 - accuracy: 0.9351\n",
            "Epoch 86/100\n",
            "354/354 [==============================] - 3s 9ms/step - loss: 0.4747 - accuracy: 0.9351\n",
            "Epoch 87/100\n",
            "354/354 [==============================] - 4s 10ms/step - loss: 0.4743 - accuracy: 0.9351\n",
            "Epoch 88/100\n",
            "354/354 [==============================] - 3s 8ms/step - loss: 0.4731 - accuracy: 0.9351\n",
            "Epoch 89/100\n",
            "354/354 [==============================] - 3s 8ms/step - loss: 0.4720 - accuracy: 0.9351\n",
            "Epoch 90/100\n",
            "354/354 [==============================] - 3s 8ms/step - loss: 0.4710 - accuracy: 0.9351\n",
            "Epoch 91/100\n",
            "354/354 [==============================] - 4s 11ms/step - loss: 0.4706 - accuracy: 0.9351\n",
            "Epoch 92/100\n",
            "354/354 [==============================] - 3s 8ms/step - loss: 0.4672 - accuracy: 0.9351\n",
            "Epoch 93/100\n",
            "354/354 [==============================] - 3s 8ms/step - loss: 0.4683 - accuracy: 0.9351\n",
            "Epoch 94/100\n",
            "354/354 [==============================] - 3s 8ms/step - loss: 0.4677 - accuracy: 0.9351\n",
            "Epoch 95/100\n",
            "354/354 [==============================] - 3s 9ms/step - loss: 0.4666 - accuracy: 0.9351\n",
            "Epoch 96/100\n",
            "354/354 [==============================] - 3s 10ms/step - loss: 0.4661 - accuracy: 0.9351\n",
            "Epoch 97/100\n",
            "354/354 [==============================] - 3s 8ms/step - loss: 0.4650 - accuracy: 0.9351\n",
            "Epoch 98/100\n",
            "354/354 [==============================] - 3s 8ms/step - loss: 0.4654 - accuracy: 0.9351\n",
            "Epoch 99/100\n",
            "354/354 [==============================] - 3s 8ms/step - loss: 0.4632 - accuracy: 0.9351\n",
            "Epoch 100/100\n",
            "354/354 [==============================] - 4s 11ms/step - loss: 0.4634 - accuracy: 0.9351\n"
          ]
        },
        {
          "data": {
            "text/plain": [
              "<keras.src.callbacks.History at 0x7f144666dba0>"
            ]
          },
          "execution_count": 30,
          "metadata": {},
          "output_type": "execute_result"
        }
      ],
      "source": [
        "class_weight = {0: 1., 1: 3.}  # 1 is the 'fire' class\n",
        "CNN_res.fit(features, labels, batch_size=8, epochs=100, class_weight=class_weight)"
      ]
    },
    {
      "cell_type": "code",
      "execution_count": null,
      "metadata": {
        "colab": {
          "base_uri": "https://localhost:8080/"
        },
        "id": "n-x3femXzio9",
        "outputId": "29794c01-7d41-48c9-be32-e8f60ff2dc35"
      },
      "outputs": [
        {
          "name": "stdout",
          "output_type": "stream",
          "text": [
            "11/11 [==============================] - 0s 3ms/step\n"
          ]
        }
      ],
      "source": [
        "res_predicted_masks = CNN_res.predict(test_features)"
      ]
    },
    {
      "cell_type": "code",
      "execution_count": null,
      "metadata": {
        "colab": {
          "base_uri": "https://localhost:8080/",
          "height": 657
        },
        "id": "X2sY7XeSzutM",
        "outputId": "694f03c5-d828-4b0d-8d7d-43b88fb01bb3"
      },
      "outputs": [
        {
          "data": {
            "image/png": "[encoded data removed]",
            "text/plain": [
              "<Figure size 1500x650 with 9 Axes>"
            ]
          },
          "metadata": {},
          "output_type": "display_data"
        }
      ],
      "source": [
        "TITLES_pred = [\"Previous-day Fire Mask\", \"Next-day Fire Mask\",\"Predicted Fire Mask\"]\n",
        "fig = plt.figure(figsize=(15,6.5))\n",
        "n_rows = 3\n",
        "n_features = 2\n",
        "CMAP = colors.ListedColormap(['black', \"#FAF3CE\", '#F41724'])\n",
        "BOUNDS = [-1, -0.1, 0.001, 1]\n",
        "NORM = colors.BoundaryNorm(BOUNDS, CMAP.N)\n",
        "\n",
        "for i in range(n_rows):\n",
        "  for j in range(n_features + 1):\n",
        "    plt.subplot(n_rows, n_features+1, i * (n_features+1) + j + 1)\n",
        "    if i == 0:\n",
        "      plt.title(TITLES_pred[j], fontsize=13)\n",
        "    if j == 0:\n",
        "      plt.imshow(test_features[i, :, :, 11], cmap=CMAP, norm=NORM)\n",
        "    if j == 1:\n",
        "      plt.imshow(test_labels[i, :, :, 0], cmap=CMAP, norm=NORM)\n",
        "    if j == 2:\n",
        "      plt.imshow(res_predicted_masks[i,:,:], cmap=CMAP, norm=NORM)\n",
        "    plt.axis('off')\n",
        "plt.tight_layout()"
      ]
    }
  ],
  "metadata": {
    "accelerator": "GPU",
    "colab": {
      "collapsed_sections": [
        "UUxv6XiNwQTU",
        "8GR6IiGcsKPt",
        "WrHTpeG7oTgS",
        "M5DwhEBaKkUx",
        "DUmImAv6wvBD"
      ],
      "gpuType": "T4",
      "provenance": []
    },
    "kernelspec": {
      "display_name": "Python 3",
      "name": "python3"
    },
    "language_info": {
      "codemirror_mode": {
        "name": "ipython",
        "version": 3
      },
      "file_extension": ".py",
      "mimetype": "text/x-python",
      "name": "python",
      "nbconvert_exporter": "python",
      "pygments_lexer": "ipython3",
      "version": "3.6.4"
    }
  },
  "nbformat": 4,
  "nbformat_minor": 0
}