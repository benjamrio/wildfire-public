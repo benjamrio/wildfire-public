{
 "cells": [
  {
   "cell_type": "code",
   "execution_count": 4,
   "metadata": {},
   "outputs": [],
   "source": [
    "import pandas as pd\n",
    "import numpy as np\n",
    "import os\n",
    "from preprocess import load_data, create_features"
   ]
  },
  {
   "cell_type": "code",
   "execution_count": 7,
   "metadata": {},
   "outputs": [
    {
     "name": "stdout",
     "output_type": "stream",
     "text": [
      "Incidents shape: (94099, 35)\n",
      "Reports shape: (45389, 23)\n"
     ]
    },
    {
     "name": "stderr",
     "output_type": "stream",
     "text": [
      "C:\\Users\\benja\\AppData\\Local\\Temp\\ipykernel_15796\\2701855990.py:9: DtypeWarning: Columns (12) have mixed types. Specify dtype option on import or set low_memory=False.\n",
      "  reports = pd.read_csv(os.path.join(data_path, \"reports.csv\"))\n"
     ]
    },
    {
     "name": "stdout",
     "output_type": "stream",
     "text": [
      "Resources shape: (38568, 141)\n"
     ]
    }
   ],
   "source": [
    "def load_data(data_path):\n",
    "    \"\"\"Load the dataframes from the preprocessed files (non statistical engineering)\n",
    "\n",
    "    Arguments:\n",
    "        data_path {str} -- data folder\n",
    "    \"\"\"\n",
    "    incidents = pd.read_csv(os.path.join(data_path, \"incidents.csv\"), index_col=0)\n",
    "    print(f\"Incidents shape: {incidents.shape}\")\n",
    "    reports = pd.read_csv(os.path.join(data_path, \"reports.csv\"))\n",
    "    print(f\"Reports shape: {reports.shape}\")\n",
    "    resources = pd.read_csv(os.path.join(data_path, \"resources.csv\"), index_col=0)\n",
    "    print(f\"Resources shape: {resources.shape}\")\n",
    "    incidents.merge(reports, left_on=\"INCIDENT_IDENTIFIER\", right_on=\"INC_IDENTIFIER\")\n",
    "    merged = incidents.merge(\n",
    "        reports, left_on=\"INCIDENT_IDENTIFIER\", right_on=\"INC_IDENTIFIER\"\n",
    "    )\n",
    "    #! Important: mean and sum lead to very different results for pivot table ie not unique\n",
    "    resources = pd.read_csv(os.path.join(input_path, \"resources.csv\")).rename(columns={\"report_id\": \"INC209R_IDENTIFIER\"})\n",
    "\n",
    "    result = merged.merge(resources, on=\"INC209R_IDENTIFIER\")\n",
    "    return result\n",
    "\n",
    "input_path = \"../../data/cleaned\"\n",
    "output_path = \"../../data/preprocessed\"\n",
    "target = \"diff_incident_area\"\n",
    "features = [\"report_number\", \"incident_area\", \"cause_id\", \"month\", \"year\", \"STATUS\"]\n",
    "identifiers = [\"fire_id\", \"report_id\"]\n",
    "\n",
    "df = load_data(input_path)"
   ]
  },
  {
   "cell_type": "code",
   "execution_count": 9,
   "metadata": {},
   "outputs": [
    {
     "data": {
      "text/plain": [
       "0        2015.0\n",
       "1        2015.0\n",
       "2        2015.0\n",
       "3        2015.0\n",
       "4        2015.0\n",
       "          ...  \n",
       "38500    2018.0\n",
       "38501    2018.0\n",
       "38502    2018.0\n",
       "38503    2018.0\n",
       "38504    2018.0\n",
       "Name: CY, Length: 38505, dtype: float64"
      ]
     },
     "execution_count": 9,
     "metadata": {},
     "output_type": "execute_result"
    }
   ],
   "source": [
    "df['CY']"
   ]
  },
  {
   "cell_type": "code",
   "execution_count": null,
   "metadata": {},
   "outputs": [],
   "source": [
    "def create_features(df):\n",
    "    \"\"\"Create feature for each day of a fire\n",
    "    1. Lag/rolling variables, anything that takes into account the past\n",
    "    2. Target variables\n",
    "    Arguments:\n",
    "        df {DataFrame} -- merged dataframe: incidents, reports, resources. A row is a report.\n",
    "        features {List[str]} -- List of features to use for the task.\n",
    "        target {str} -- target to predict\n",
    "    \"\"\"\n",
    "\n",
    "    # RENAME COLUMNS\n",
    "    col_map = {\n",
    "        \"INCIDENT_IDENTIFIER\": \"fire_id\",\n",
    "        \"INC209R_IDENTIFIER\": \"report_id\",\n",
    "        \"year_y\": \"year\",\n",
    "        \"CURR_INCIDENT_AREA\": \"incident_area\",\n",
    "        \"INC209RU_IDENTIFIER\": \"resource_id\",\n",
    "        \"INC209R_IDENTIFIER\": \"report_id\",\n",
    "        \"RESOURCE_QUANTITY\": \"quantity\",\n",
    "        \"RESOURCE_PERSONNEL\": \"personnel\",\n",
    "        \"CURR_INCIDENT_AREA\": \"area\",\n",
    "\n",
    "    }\n",
    "    df = df.copy().rename(columns=col_map)\n",
    "    # Time window select\n",
    "    df = df[df[\"year\"] > 2013]\n",
    "    df = df.sort_values(by=[\"fire_id\", \"mean_report_date\"])\n",
    "    df['date'] = pd.to_datetime(df['mean_report_date'])\n",
    "    # Time features\n",
    "    df[\"report_number\"] = df.groupby(\"fire_id\").cumcount() + 1\n",
    "    df['prev_area'] = df.groupby('fire_id').shift(1)['area']\n",
    "    df['next_area'] = df.groupby('fire_id').shift(-1)['area']\n",
    "    df['prev_date'] = df.groupby('fire_id').shift(1)['date']\n",
    "    df['next_date'] = df.groupby('fire_id').shift(-1)['date']\n",
    "    df['prev_date_diff'] = (df['date'] - df['prev_date']).dt.total_seconds()/(24*3600)\n",
    "    df['next_date_diff'] = (df['next_date'] - df['date']).dt.total_seconds()/(24*3600)\n",
    "    df['prev_area_diff'] = df['area'] - df['prev_area']\n",
    "    df['next_area_diff'] = df['next_area'] - df['area']\n",
    "    df['prev_derivate'] = df['prev_area_diff'] / df['prev_date_diff']\n",
    "    df['next_derivate'] = df['next_area_diff'] / df['next_date_diff']\n",
    "    df[\"will_grow\"] = df[\"next_area_diff\"] > 0\n",
    "    df['time_to_first_report'] = (df['date'] - df.groupby('fire_id')['date'].transform('min')).dt.total_seconds()/(24*3600)\n",
    "    return df\n",
    "\n"
   ]
  },
  {
   "cell_type": "code",
   "execution_count": 6,
   "metadata": {},
   "outputs": [
    {
     "ename": "NameError",
     "evalue": "name 'df' is not defined",
     "output_type": "error",
     "traceback": [
      "\u001b[1;31m---------------------------------------------------------------------------\u001b[0m",
      "\u001b[1;31mNameError\u001b[0m                                 Traceback (most recent call last)",
      "Cell \u001b[1;32mIn[6], line 1\u001b[0m\n\u001b[1;32m----> 1\u001b[0m \u001b[38;5;28mprint\u001b[39m(\u001b[38;5;124mf\u001b[39m\u001b[38;5;124m\"\u001b[39m\u001b[38;5;124mInitial shape: \u001b[39m\u001b[38;5;132;01m{\u001b[39;00mdf\u001b[38;5;241m.\u001b[39mshape\u001b[38;5;132;01m}\u001b[39;00m\u001b[38;5;124m\"\u001b[39m)\n\u001b[0;32m      2\u001b[0m full_df \u001b[38;5;241m=\u001b[39m create_features(df)\n",
      "\u001b[1;31mNameError\u001b[0m: name 'df' is not defined"
     ]
    }
   ],
   "source": [
    "\n",
    "print(f\"Initial shape: {df.shape}\")\n",
    "full_df = create_features(df)"
   ]
  },
  {
   "cell_type": "code",
   "execution_count": 11,
   "metadata": {},
   "outputs": [
    {
     "data": {
      "text/plain": [
       "Index(['ID', 'fire_id', 'INCIDENT_NUMBER', 'DONWCGU_PROT_UNIT_IDENTIFIER',\n",
       "       'INCIDENT_NAME', 'CAUSE_IDENTIFIER', 'DISCOVERY_DATE', 'INCIDENT_AREA',\n",
       "       'INC_AREA_UOM_IDENTIFIER', 'EST_IM_COST_TO_DATE',\n",
       "       ...\n",
       "       'prev_date', 'next_date', 'prev_date_diff', 'next_date_diff',\n",
       "       'prev_area_diff', 'next_area_diff', 'prev_derivate', 'next_derivate',\n",
       "       'will_grow', 'time_to_first_report'],\n",
       "      dtype='object', length=209)"
      ]
     },
     "execution_count": 11,
     "metadata": {},
     "output_type": "execute_result"
    }
   ],
   "source": [
    "full_df.columns"
   ]
  },
  {
   "cell_type": "code",
   "execution_count": 12,
   "metadata": {},
   "outputs": [
    {
     "data": {
      "text/plain": [
       "283      0.000000\n",
       "282      1.593750\n",
       "284      2.593750\n",
       "285      4.114583\n",
       "287      0.000000\n",
       "           ...   \n",
       "37379    0.000000\n",
       "37375    1.203125\n",
       "37376    1.947917\n",
       "37378    2.864583\n",
       "37377    3.864583\n",
       "Name: time_to_first_report, Length: 38505, dtype: float64"
      ]
     },
     "execution_count": 12,
     "metadata": {},
     "output_type": "execute_result"
    }
   ],
   "source": [
    "full_df['time_to_first_report'].group"
   ]
  }
 ],
 "metadata": {
  "kernelspec": {
   "display_name": "wildfirepy38",
   "language": "python",
   "name": "python3"
  },
  "language_info": {
   "codemirror_mode": {
    "name": "ipython",
    "version": 3
   },
   "file_extension": ".py",
   "mimetype": "text/x-python",
   "name": "python",
   "nbconvert_exporter": "python",
   "pygments_lexer": "ipython3",
   "version": "3.8.18"
  }
 },
 "nbformat": 4,
 "nbformat_minor": 2
}
