{
 "cells": [
  {
   "cell_type": "code",
   "execution_count": 8,
   "metadata": {},
   "outputs": [],
   "source": [
    "import pandas as pd\n",
    "import seaborn as sns\n",
    "import matplotlib.pyplot as plt\n",
    "import numpy as np\n",
    "from sklearn.preprocessing import LabelEncoder, StandardScaler\n",
    "from sklearn.model_selection import train_test_split"
   ]
  },
  {
   "cell_type": "code",
   "execution_count": 9,
   "metadata": {},
   "outputs": [
    {
     "name": "stderr",
     "output_type": "stream",
     "text": [
      "C:\\Users\\benja\\AppData\\Local\\Temp\\ipykernel_30804\\3622772722.py:1: DtypeWarning: Columns (43) have mixed types. Specify dtype option on import or set low_memory=False.\n",
      "  df = pd.read_csv('data/preprocessed/dataset.csv')\n"
     ]
    }
   ],
   "source": [
    "df = pd.read_csv('data/preprocessed/dataset.csv')"
   ]
  },
  {
   "cell_type": "code",
   "execution_count": 10,
   "metadata": {},
   "outputs": [
    {
     "data": {
      "text/html": [
       "<div>\n",
       "<style scoped>\n",
       "    .dataframe tbody tr th:only-of-type {\n",
       "        vertical-align: middle;\n",
       "    }\n",
       "\n",
       "    .dataframe tbody tr th {\n",
       "        vertical-align: top;\n",
       "    }\n",
       "\n",
       "    .dataframe thead th {\n",
       "        text-align: right;\n",
       "    }\n",
       "</style>\n",
       "<table border=\"1\" class=\"dataframe\">\n",
       "  <thead>\n",
       "    <tr style=\"text-align: right;\">\n",
       "      <th></th>\n",
       "      <th>ID</th>\n",
       "      <th>fire_id</th>\n",
       "      <th>INCIDENT_NUMBER</th>\n",
       "      <th>DONWCGU_PROT_UNIT_IDENTIFIER</th>\n",
       "      <th>INCIDENT_NAME</th>\n",
       "      <th>CAUSE_IDENTIFIER</th>\n",
       "      <th>DISCOVERY_DATE</th>\n",
       "      <th>INCIDENT_AREA</th>\n",
       "      <th>INC_AREA_UOM_IDENTIFIER</th>\n",
       "      <th>EST_IM_COST_TO_DATE</th>\n",
       "      <th>...</th>\n",
       "      <th>time_since_last_report</th>\n",
       "      <th>last_incident_area</th>\n",
       "      <th>time_until_next_report</th>\n",
       "      <th>next_incident_area</th>\n",
       "      <th>diff_incident_area</th>\n",
       "      <th>will_grow</th>\n",
       "      <th>rate_of_growth</th>\n",
       "      <th>next_incident_area_log1p</th>\n",
       "      <th>next_incident_area_sqrt</th>\n",
       "      <th>next_incident_area_square</th>\n",
       "    </tr>\n",
       "  </thead>\n",
       "  <tbody>\n",
       "    <tr>\n",
       "      <th>0</th>\n",
       "      <td>763</td>\n",
       "      <td>2714022</td>\n",
       "      <td>150001</td>\n",
       "      <td>1525115.0</td>\n",
       "      <td>Bayle Mountain</td>\n",
       "      <td>1536120.0</td>\n",
       "      <td>2015-05-05 09:30:00</td>\n",
       "      <td>150.0</td>\n",
       "      <td>1536109.0</td>\n",
       "      <td>100.0</td>\n",
       "      <td>...</td>\n",
       "      <td>NaN</td>\n",
       "      <td>NaN</td>\n",
       "      <td>-2295.0</td>\n",
       "      <td>275.0</td>\n",
       "      <td>125.0</td>\n",
       "      <td>True</td>\n",
       "      <td>125.0</td>\n",
       "      <td>5.620401</td>\n",
       "      <td>16.583124</td>\n",
       "      <td>75625.0</td>\n",
       "    </tr>\n",
       "    <tr>\n",
       "      <th>1</th>\n",
       "      <td>763</td>\n",
       "      <td>2714022</td>\n",
       "      <td>150001</td>\n",
       "      <td>1525115.0</td>\n",
       "      <td>Bayle Mountain</td>\n",
       "      <td>1536120.0</td>\n",
       "      <td>2015-05-05 09:30:00</td>\n",
       "      <td>150.0</td>\n",
       "      <td>1536109.0</td>\n",
       "      <td>100.0</td>\n",
       "      <td>...</td>\n",
       "      <td>2295.0</td>\n",
       "      <td>150.0</td>\n",
       "      <td>-1440.0</td>\n",
       "      <td>275.0</td>\n",
       "      <td>0.0</td>\n",
       "      <td>False</td>\n",
       "      <td>0.0</td>\n",
       "      <td>5.620401</td>\n",
       "      <td>16.583124</td>\n",
       "      <td>75625.0</td>\n",
       "    </tr>\n",
       "    <tr>\n",
       "      <th>2</th>\n",
       "      <td>763</td>\n",
       "      <td>2714022</td>\n",
       "      <td>150001</td>\n",
       "      <td>1525115.0</td>\n",
       "      <td>Bayle Mountain</td>\n",
       "      <td>1536120.0</td>\n",
       "      <td>2015-05-05 09:30:00</td>\n",
       "      <td>150.0</td>\n",
       "      <td>1536109.0</td>\n",
       "      <td>100.0</td>\n",
       "      <td>...</td>\n",
       "      <td>1440.0</td>\n",
       "      <td>275.0</td>\n",
       "      <td>-2190.0</td>\n",
       "      <td>275.0</td>\n",
       "      <td>0.0</td>\n",
       "      <td>False</td>\n",
       "      <td>0.0</td>\n",
       "      <td>5.620401</td>\n",
       "      <td>16.583124</td>\n",
       "      <td>75625.0</td>\n",
       "    </tr>\n",
       "    <tr>\n",
       "      <th>3</th>\n",
       "      <td>763</td>\n",
       "      <td>2714022</td>\n",
       "      <td>150001</td>\n",
       "      <td>1525115.0</td>\n",
       "      <td>Bayle Mountain</td>\n",
       "      <td>1536120.0</td>\n",
       "      <td>2015-05-05 09:30:00</td>\n",
       "      <td>150.0</td>\n",
       "      <td>1536109.0</td>\n",
       "      <td>100.0</td>\n",
       "      <td>...</td>\n",
       "      <td>2190.0</td>\n",
       "      <td>275.0</td>\n",
       "      <td>NaN</td>\n",
       "      <td>NaN</td>\n",
       "      <td>NaN</td>\n",
       "      <td>False</td>\n",
       "      <td>NaN</td>\n",
       "      <td>NaN</td>\n",
       "      <td>NaN</td>\n",
       "      <td>NaN</td>\n",
       "    </tr>\n",
       "    <tr>\n",
       "      <th>4</th>\n",
       "      <td>764</td>\n",
       "      <td>2714081</td>\n",
       "      <td>150001</td>\n",
       "      <td>1524763.0</td>\n",
       "      <td>Boot Cove Fire</td>\n",
       "      <td>1536117.0</td>\n",
       "      <td>2015-05-06 20:30:00</td>\n",
       "      <td>206.0</td>\n",
       "      <td>1536109.0</td>\n",
       "      <td>15000.0</td>\n",
       "      <td>...</td>\n",
       "      <td>NaN</td>\n",
       "      <td>NaN</td>\n",
       "      <td>-1252.5</td>\n",
       "      <td>205.0</td>\n",
       "      <td>0.0</td>\n",
       "      <td>False</td>\n",
       "      <td>0.0</td>\n",
       "      <td>5.327876</td>\n",
       "      <td>14.317821</td>\n",
       "      <td>42025.0</td>\n",
       "    </tr>\n",
       "  </tbody>\n",
       "</table>\n",
       "<p>5 rows × 65 columns</p>\n",
       "</div>"
      ],
      "text/plain": [
       "    ID  fire_id INCIDENT_NUMBER  DONWCGU_PROT_UNIT_IDENTIFIER   INCIDENT_NAME  \\\n",
       "0  763  2714022          150001                     1525115.0  Bayle Mountain   \n",
       "1  763  2714022          150001                     1525115.0  Bayle Mountain   \n",
       "2  763  2714022          150001                     1525115.0  Bayle Mountain   \n",
       "3  763  2714022          150001                     1525115.0  Bayle Mountain   \n",
       "4  764  2714081          150001                     1524763.0  Boot Cove Fire   \n",
       "\n",
       "   CAUSE_IDENTIFIER       DISCOVERY_DATE  INCIDENT_AREA  \\\n",
       "0         1536120.0  2015-05-05 09:30:00          150.0   \n",
       "1         1536120.0  2015-05-05 09:30:00          150.0   \n",
       "2         1536120.0  2015-05-05 09:30:00          150.0   \n",
       "3         1536120.0  2015-05-05 09:30:00          150.0   \n",
       "4         1536117.0  2015-05-06 20:30:00          206.0   \n",
       "\n",
       "   INC_AREA_UOM_IDENTIFIER  EST_IM_COST_TO_DATE  ...  time_since_last_report  \\\n",
       "0                1536109.0                100.0  ...                     NaN   \n",
       "1                1536109.0                100.0  ...                  2295.0   \n",
       "2                1536109.0                100.0  ...                  1440.0   \n",
       "3                1536109.0                100.0  ...                  2190.0   \n",
       "4                1536109.0              15000.0  ...                     NaN   \n",
       "\n",
       "  last_incident_area time_until_next_report next_incident_area  \\\n",
       "0                NaN                -2295.0              275.0   \n",
       "1              150.0                -1440.0              275.0   \n",
       "2              275.0                -2190.0              275.0   \n",
       "3              275.0                    NaN                NaN   \n",
       "4                NaN                -1252.5              205.0   \n",
       "\n",
       "  diff_incident_area will_grow rate_of_growth next_incident_area_log1p  \\\n",
       "0              125.0      True          125.0                 5.620401   \n",
       "1                0.0     False            0.0                 5.620401   \n",
       "2                0.0     False            0.0                 5.620401   \n",
       "3                NaN     False            NaN                      NaN   \n",
       "4                0.0     False            0.0                 5.327876   \n",
       "\n",
       "  next_incident_area_sqrt next_incident_area_square  \n",
       "0               16.583124                   75625.0  \n",
       "1               16.583124                   75625.0  \n",
       "2               16.583124                   75625.0  \n",
       "3                     NaN                       NaN  \n",
       "4               14.317821                   42025.0  \n",
       "\n",
       "[5 rows x 65 columns]"
      ]
     },
     "execution_count": 10,
     "metadata": {},
     "output_type": "execute_result"
    }
   ],
   "source": [
    "df.head()"
   ]
  },
  {
   "cell_type": "code",
   "execution_count": 11,
   "metadata": {},
   "outputs": [],
   "source": [
    "from sklearn.preprocessing import OneHotEncoder\n",
    "\n",
    "def create_task_dataset(df, features,target='next_incident_area'):\n",
    "  \"\"\"Feature and row selection, encoding\n",
    "\n",
    "  Arguments:\n",
    "      df {DataFrame} -- merged dataframe: incidents, reports, resources. A row is a report.\n",
    "      features {List[str]} -- List of features to use for the task.\n",
    "      target {str} -- target to predict\n",
    "  \"\"\"\n",
    "  # Select features\n",
    "  df = df[['fire_id', 'report_id']+ features + [target]]\n",
    "\n",
    "  # Drop rows with missing values\n",
    "  df = df.dropna(subset=[target])\n",
    "\n",
    "  # Find categorical columns\n",
    "  cat_cols = [col for col in df.columns if df[col].nunique() < 15]\n",
    "  print(f\"Identified {len(cat_cols)} categorical columns: \\n{cat_cols}\")\n",
    "  potential = [col for col in df.columns if df[col].nunique() > 15 and df[col].nunique() < 100]\n",
    "  print(f'\\nYou should check these columns: \\n{potential}')\n",
    "\n",
    "  # One-hot encode categorical columns\n",
    "  encoder = OneHotEncoder(sparse_output=False)\n",
    "  encoded_data = encoder.fit_transform(df[cat_cols])\n",
    "  encoded_df = pd.DataFrame(encoded_data, columns=encoder.get_feature_names_out(cat_cols))\n",
    "  df = df.drop(columns=cat_cols).reset_index(drop=True)\n",
    "  encoded_df = pd.concat([df, encoded_df], axis=1)\n",
    "  return encoded_df, encoder"
   ]
  },
  {
   "cell_type": "code",
   "execution_count": 12,
   "metadata": {},
   "outputs": [
    {
     "name": "stdout",
     "output_type": "stream",
     "text": [
      "Identified 4 categorical columns: \n",
      "['cause_id', 'month', 'year', 'STATUS']\n",
      "\n",
      "You should check these columns: \n",
      "[]\n"
     ]
    }
   ],
   "source": [
    "features = ['report_number', 'incident_area', 'cause_id', 'month', 'year', 'STATUS']\n",
    "target = 'diff_incident_area'\n",
    "id_cols = ['fire_id', 'report_id']\n",
    "task_df, _ = create_task_dataset(df, features, target)\n",
    "non_id_cols = [col for col in task_df.columns if col not in id_cols]"
   ]
  },
  {
   "cell_type": "markdown",
   "metadata": {},
   "source": [
    "## Viz"
   ]
  },
  {
   "cell_type": "code",
   "execution_count": 13,
   "metadata": {},
   "outputs": [
    {
     "data": {
      "text/plain": [
       "<Axes: >"
      ]
     },
     "execution_count": 13,
     "metadata": {},
     "output_type": "execute_result"
    },
    {
     "data": {
      "image/png": "[encoded data removed]",
      "text/plain": [
       "<Figure size 640x480 with 2 Axes>"
      ]
     },
     "metadata": {},
     "output_type": "display_data"
    }
   ],
   "source": [
    "sns.heatmap(task_df[non_id_cols].corr())"
   ]
  },
  {
   "cell_type": "code",
   "execution_count": 18,
   "metadata": {},
   "outputs": [
    {
     "data": {
      "text/plain": [
       "diff_incident_area    1.000000\n",
       "cause_id_3.0          0.033140\n",
       "month_7               0.009234\n",
       "STATUS_I              0.008233\n",
       "year_2015             0.005336\n",
       "month_6               0.004647\n",
       "cause_id_4.0          0.003360\n",
       "month_8               0.003338\n",
       "month_12              0.003052\n",
       "year_2018             0.001629\n",
       "STATUS_F              0.001487\n",
       "year_2017             0.000376\n",
       "report_id             0.000206\n",
       "fire_id               0.000203\n",
       "month_4              -0.001724\n",
       "month_3              -0.002047\n",
       "month_1              -0.002405\n",
       "month_5              -0.002495\n",
       "month_11             -0.003061\n",
       "month_2              -0.003963\n",
       "cause_id_1.0         -0.004596\n",
       "cause_id_2.0         -0.005203\n",
       "month_10             -0.005639\n",
       "incident_area        -0.006277\n",
       "report_number        -0.007307\n",
       "year_2016            -0.007707\n",
       "month_9              -0.007800\n",
       "STATUS_U             -0.008400\n",
       "Name: diff_incident_area, dtype: float64"
      ]
     },
     "execution_count": 18,
     "metadata": {},
     "output_type": "execute_result"
    }
   ],
   "source": [
    "task_df.corr()[target].sort_values(ascending=False)"
   ]
  },
  {
   "cell_type": "code",
   "execution_count": 14,
   "metadata": {},
   "outputs": [
    {
     "data": {
      "text/plain": [
       "count    3.749900e+04\n",
       "mean     6.206751e+02\n",
       "std      2.020143e+04\n",
       "min     -2.601403e+06\n",
       "25%      0.000000e+00\n",
       "50%      0.000000e+00\n",
       "75%      8.400000e+01\n",
       "max      2.627860e+06\n",
       "Name: diff_incident_area, dtype: float64"
      ]
     },
     "execution_count": 14,
     "metadata": {},
     "output_type": "execute_result"
    }
   ],
   "source": [
    "task_df[target].describe()"
   ]
  },
  {
   "cell_type": "markdown",
   "metadata": {},
   "source": [
    "## Train/test split"
   ]
  },
  {
   "cell_type": "code",
   "execution_count": 15,
   "metadata": {},
   "outputs": [],
   "source": [
    "def split_train_test(task_df, id_cols, target, test_size=0.2, random_state=42):\n",
    "  \"\"\"Split data into train and test sets\n",
    "\n",
    "  Arguments:\n",
    "      task_df {DataFrame} --\n",
    "      id_cols {List[str]} -- identifiers columns\n",
    "      target {str} -- target feature\n",
    "\n",
    "  Returns:\n",
    "      DataFrame -- train set\n",
    "      DataFrame -- test set\n",
    "  \"\"\"\n",
    "  df = task_df.sample(frac=1, random_state=random_state)\n",
    "  unique_ids = df['fire_id'].unique()\n",
    "  train_ids, test_ids = train_test_split(unique_ids,)\n",
    "  train_df = df[df['fire_id'].isin(train_ids)]\n",
    "  test_df = df[df['fire_id'].isin(test_ids)]\n",
    "  return  train_df, test_df\n",
    "train_df, test_df = split_train_test(task_df, id_cols, target)\n",
    "X_test, y_test = test_df.drop(columns=[target]+id_cols), test_df[target]\n"
   ]
  },
  {
   "cell_type": "code",
   "execution_count": 16,
   "metadata": {},
   "outputs": [],
   "source": [
    "train_df.to_csv('data/preprocessed/train.csv', index=False)\n",
    "test_df.to_csv('data/preprocessed/test.csv', index=False)"
   ]
  },
  {
   "cell_type": "code",
   "execution_count": 17,
   "metadata": {},
   "outputs": [
    {
     "data": {
      "text/html": [
       "<div>\n",
       "<style scoped>\n",
       "    .dataframe tbody tr th:only-of-type {\n",
       "        vertical-align: middle;\n",
       "    }\n",
       "\n",
       "    .dataframe tbody tr th {\n",
       "        vertical-align: top;\n",
       "    }\n",
       "\n",
       "    .dataframe thead th {\n",
       "        text-align: right;\n",
       "    }\n",
       "</style>\n",
       "<table border=\"1\" class=\"dataframe\">\n",
       "  <thead>\n",
       "    <tr style=\"text-align: right;\">\n",
       "      <th></th>\n",
       "      <th>fire_id</th>\n",
       "      <th>report_id</th>\n",
       "      <th>report_number</th>\n",
       "      <th>incident_area</th>\n",
       "      <th>diff_incident_area</th>\n",
       "      <th>cause_id_1.0</th>\n",
       "      <th>cause_id_2.0</th>\n",
       "      <th>cause_id_3.0</th>\n",
       "      <th>cause_id_4.0</th>\n",
       "      <th>month_1</th>\n",
       "      <th>...</th>\n",
       "      <th>month_10</th>\n",
       "      <th>month_11</th>\n",
       "      <th>month_12</th>\n",
       "      <th>year_2015</th>\n",
       "      <th>year_2016</th>\n",
       "      <th>year_2017</th>\n",
       "      <th>year_2018</th>\n",
       "      <th>STATUS_F</th>\n",
       "      <th>STATUS_I</th>\n",
       "      <th>STATUS_U</th>\n",
       "    </tr>\n",
       "  </thead>\n",
       "  <tbody>\n",
       "    <tr>\n",
       "      <th>24985</th>\n",
       "      <td>7329525</td>\n",
       "      <td>7329699</td>\n",
       "      <td>18</td>\n",
       "      <td>782.0</td>\n",
       "      <td>0.0</td>\n",
       "      <td>0.0</td>\n",
       "      <td>1.0</td>\n",
       "      <td>0.0</td>\n",
       "      <td>0.0</td>\n",
       "      <td>0.0</td>\n",
       "      <td>...</td>\n",
       "      <td>0.0</td>\n",
       "      <td>0.0</td>\n",
       "      <td>0.0</td>\n",
       "      <td>0.0</td>\n",
       "      <td>0.0</td>\n",
       "      <td>1.0</td>\n",
       "      <td>0.0</td>\n",
       "      <td>0.0</td>\n",
       "      <td>0.0</td>\n",
       "      <td>1.0</td>\n",
       "    </tr>\n",
       "    <tr>\n",
       "      <th>19125</th>\n",
       "      <td>7180491</td>\n",
       "      <td>7181788</td>\n",
       "      <td>30</td>\n",
       "      <td>5189.0</td>\n",
       "      <td>0.0</td>\n",
       "      <td>1.0</td>\n",
       "      <td>0.0</td>\n",
       "      <td>0.0</td>\n",
       "      <td>0.0</td>\n",
       "      <td>0.0</td>\n",
       "      <td>...</td>\n",
       "      <td>0.0</td>\n",
       "      <td>0.0</td>\n",
       "      <td>0.0</td>\n",
       "      <td>0.0</td>\n",
       "      <td>0.0</td>\n",
       "      <td>1.0</td>\n",
       "      <td>0.0</td>\n",
       "      <td>0.0</td>\n",
       "      <td>0.0</td>\n",
       "      <td>1.0</td>\n",
       "    </tr>\n",
       "    <tr>\n",
       "      <th>3077</th>\n",
       "      <td>2797929</td>\n",
       "      <td>2797943</td>\n",
       "      <td>2</td>\n",
       "      <td>2500.0</td>\n",
       "      <td>0.0</td>\n",
       "      <td>1.0</td>\n",
       "      <td>0.0</td>\n",
       "      <td>0.0</td>\n",
       "      <td>0.0</td>\n",
       "      <td>0.0</td>\n",
       "      <td>...</td>\n",
       "      <td>0.0</td>\n",
       "      <td>0.0</td>\n",
       "      <td>0.0</td>\n",
       "      <td>1.0</td>\n",
       "      <td>0.0</td>\n",
       "      <td>0.0</td>\n",
       "      <td>0.0</td>\n",
       "      <td>0.0</td>\n",
       "      <td>0.0</td>\n",
       "      <td>1.0</td>\n",
       "    </tr>\n",
       "    <tr>\n",
       "      <th>24526</th>\n",
       "      <td>7317722</td>\n",
       "      <td>7317889</td>\n",
       "      <td>6</td>\n",
       "      <td>320.0</td>\n",
       "      <td>71.0</td>\n",
       "      <td>0.0</td>\n",
       "      <td>0.0</td>\n",
       "      <td>0.0</td>\n",
       "      <td>1.0</td>\n",
       "      <td>0.0</td>\n",
       "      <td>...</td>\n",
       "      <td>1.0</td>\n",
       "      <td>0.0</td>\n",
       "      <td>0.0</td>\n",
       "      <td>0.0</td>\n",
       "      <td>0.0</td>\n",
       "      <td>1.0</td>\n",
       "      <td>0.0</td>\n",
       "      <td>0.0</td>\n",
       "      <td>0.0</td>\n",
       "      <td>1.0</td>\n",
       "    </tr>\n",
       "    <tr>\n",
       "      <th>32428</th>\n",
       "      <td>9133120</td>\n",
       "      <td>9133442</td>\n",
       "      <td>8</td>\n",
       "      <td>250.0</td>\n",
       "      <td>0.0</td>\n",
       "      <td>0.0</td>\n",
       "      <td>0.0</td>\n",
       "      <td>0.0</td>\n",
       "      <td>1.0</td>\n",
       "      <td>0.0</td>\n",
       "      <td>...</td>\n",
       "      <td>0.0</td>\n",
       "      <td>0.0</td>\n",
       "      <td>0.0</td>\n",
       "      <td>0.0</td>\n",
       "      <td>0.0</td>\n",
       "      <td>0.0</td>\n",
       "      <td>1.0</td>\n",
       "      <td>0.0</td>\n",
       "      <td>0.0</td>\n",
       "      <td>1.0</td>\n",
       "    </tr>\n",
       "    <tr>\n",
       "      <th>...</th>\n",
       "      <td>...</td>\n",
       "      <td>...</td>\n",
       "      <td>...</td>\n",
       "      <td>...</td>\n",
       "      <td>...</td>\n",
       "      <td>...</td>\n",
       "      <td>...</td>\n",
       "      <td>...</td>\n",
       "      <td>...</td>\n",
       "      <td>...</td>\n",
       "      <td>...</td>\n",
       "      <td>...</td>\n",
       "      <td>...</td>\n",
       "      <td>...</td>\n",
       "      <td>...</td>\n",
       "      <td>...</td>\n",
       "      <td>...</td>\n",
       "      <td>...</td>\n",
       "      <td>...</td>\n",
       "      <td>...</td>\n",
       "      <td>...</td>\n",
       "    </tr>\n",
       "    <tr>\n",
       "      <th>1685</th>\n",
       "      <td>2757157</td>\n",
       "      <td>2757500</td>\n",
       "      <td>10</td>\n",
       "      <td>535.0</td>\n",
       "      <td>0.0</td>\n",
       "      <td>0.0</td>\n",
       "      <td>0.0</td>\n",
       "      <td>0.0</td>\n",
       "      <td>1.0</td>\n",
       "      <td>0.0</td>\n",
       "      <td>...</td>\n",
       "      <td>0.0</td>\n",
       "      <td>0.0</td>\n",
       "      <td>0.0</td>\n",
       "      <td>1.0</td>\n",
       "      <td>0.0</td>\n",
       "      <td>0.0</td>\n",
       "      <td>0.0</td>\n",
       "      <td>0.0</td>\n",
       "      <td>0.0</td>\n",
       "      <td>1.0</td>\n",
       "    </tr>\n",
       "    <tr>\n",
       "      <th>16023</th>\n",
       "      <td>4431809</td>\n",
       "      <td>4432032</td>\n",
       "      <td>6</td>\n",
       "      <td>12272.0</td>\n",
       "      <td>81.0</td>\n",
       "      <td>0.0</td>\n",
       "      <td>0.0</td>\n",
       "      <td>0.0</td>\n",
       "      <td>1.0</td>\n",
       "      <td>0.0</td>\n",
       "      <td>...</td>\n",
       "      <td>0.0</td>\n",
       "      <td>0.0</td>\n",
       "      <td>0.0</td>\n",
       "      <td>0.0</td>\n",
       "      <td>1.0</td>\n",
       "      <td>0.0</td>\n",
       "      <td>0.0</td>\n",
       "      <td>0.0</td>\n",
       "      <td>0.0</td>\n",
       "      <td>1.0</td>\n",
       "    </tr>\n",
       "    <tr>\n",
       "      <th>21962</th>\n",
       "      <td>7252431</td>\n",
       "      <td>7252432</td>\n",
       "      <td>8</td>\n",
       "      <td>40.0</td>\n",
       "      <td>0.0</td>\n",
       "      <td>1.0</td>\n",
       "      <td>0.0</td>\n",
       "      <td>0.0</td>\n",
       "      <td>0.0</td>\n",
       "      <td>0.0</td>\n",
       "      <td>...</td>\n",
       "      <td>0.0</td>\n",
       "      <td>0.0</td>\n",
       "      <td>0.0</td>\n",
       "      <td>0.0</td>\n",
       "      <td>0.0</td>\n",
       "      <td>1.0</td>\n",
       "      <td>0.0</td>\n",
       "      <td>0.0</td>\n",
       "      <td>0.0</td>\n",
       "      <td>1.0</td>\n",
       "    </tr>\n",
       "    <tr>\n",
       "      <th>860</th>\n",
       "      <td>2732760</td>\n",
       "      <td>2732857</td>\n",
       "      <td>6</td>\n",
       "      <td>2759.0</td>\n",
       "      <td>0.0</td>\n",
       "      <td>0.0</td>\n",
       "      <td>1.0</td>\n",
       "      <td>0.0</td>\n",
       "      <td>0.0</td>\n",
       "      <td>0.0</td>\n",
       "      <td>...</td>\n",
       "      <td>0.0</td>\n",
       "      <td>0.0</td>\n",
       "      <td>0.0</td>\n",
       "      <td>1.0</td>\n",
       "      <td>0.0</td>\n",
       "      <td>0.0</td>\n",
       "      <td>0.0</td>\n",
       "      <td>0.0</td>\n",
       "      <td>0.0</td>\n",
       "      <td>1.0</td>\n",
       "    </tr>\n",
       "    <tr>\n",
       "      <th>15795</th>\n",
       "      <td>4427004</td>\n",
       "      <td>4427078</td>\n",
       "      <td>10</td>\n",
       "      <td>1072.0</td>\n",
       "      <td>0.0</td>\n",
       "      <td>0.0</td>\n",
       "      <td>1.0</td>\n",
       "      <td>0.0</td>\n",
       "      <td>0.0</td>\n",
       "      <td>0.0</td>\n",
       "      <td>...</td>\n",
       "      <td>0.0</td>\n",
       "      <td>0.0</td>\n",
       "      <td>0.0</td>\n",
       "      <td>0.0</td>\n",
       "      <td>1.0</td>\n",
       "      <td>0.0</td>\n",
       "      <td>0.0</td>\n",
       "      <td>0.0</td>\n",
       "      <td>0.0</td>\n",
       "      <td>1.0</td>\n",
       "    </tr>\n",
       "  </tbody>\n",
       "</table>\n",
       "<p>27901 rows × 28 columns</p>\n",
       "</div>"
      ],
      "text/plain": [
       "       fire_id  report_id  report_number  incident_area  diff_incident_area  \\\n",
       "24985  7329525    7329699             18          782.0                 0.0   \n",
       "19125  7180491    7181788             30         5189.0                 0.0   \n",
       "3077   2797929    2797943              2         2500.0                 0.0   \n",
       "24526  7317722    7317889              6          320.0                71.0   \n",
       "32428  9133120    9133442              8          250.0                 0.0   \n",
       "...        ...        ...            ...            ...                 ...   \n",
       "1685   2757157    2757500             10          535.0                 0.0   \n",
       "16023  4431809    4432032              6        12272.0                81.0   \n",
       "21962  7252431    7252432              8           40.0                 0.0   \n",
       "860    2732760    2732857              6         2759.0                 0.0   \n",
       "15795  4427004    4427078             10         1072.0                 0.0   \n",
       "\n",
       "       cause_id_1.0  cause_id_2.0  cause_id_3.0  cause_id_4.0  month_1  ...  \\\n",
       "24985           0.0           1.0           0.0           0.0      0.0  ...   \n",
       "19125           1.0           0.0           0.0           0.0      0.0  ...   \n",
       "3077            1.0           0.0           0.0           0.0      0.0  ...   \n",
       "24526           0.0           0.0           0.0           1.0      0.0  ...   \n",
       "32428           0.0           0.0           0.0           1.0      0.0  ...   \n",
       "...             ...           ...           ...           ...      ...  ...   \n",
       "1685            0.0           0.0           0.0           1.0      0.0  ...   \n",
       "16023           0.0           0.0           0.0           1.0      0.0  ...   \n",
       "21962           1.0           0.0           0.0           0.0      0.0  ...   \n",
       "860             0.0           1.0           0.0           0.0      0.0  ...   \n",
       "15795           0.0           1.0           0.0           0.0      0.0  ...   \n",
       "\n",
       "       month_10  month_11  month_12  year_2015  year_2016  year_2017  \\\n",
       "24985       0.0       0.0       0.0        0.0        0.0        1.0   \n",
       "19125       0.0       0.0       0.0        0.0        0.0        1.0   \n",
       "3077        0.0       0.0       0.0        1.0        0.0        0.0   \n",
       "24526       1.0       0.0       0.0        0.0        0.0        1.0   \n",
       "32428       0.0       0.0       0.0        0.0        0.0        0.0   \n",
       "...         ...       ...       ...        ...        ...        ...   \n",
       "1685        0.0       0.0       0.0        1.0        0.0        0.0   \n",
       "16023       0.0       0.0       0.0        0.0        1.0        0.0   \n",
       "21962       0.0       0.0       0.0        0.0        0.0        1.0   \n",
       "860         0.0       0.0       0.0        1.0        0.0        0.0   \n",
       "15795       0.0       0.0       0.0        0.0        1.0        0.0   \n",
       "\n",
       "       year_2018  STATUS_F  STATUS_I  STATUS_U  \n",
       "24985        0.0       0.0       0.0       1.0  \n",
       "19125        0.0       0.0       0.0       1.0  \n",
       "3077         0.0       0.0       0.0       1.0  \n",
       "24526        0.0       0.0       0.0       1.0  \n",
       "32428        1.0       0.0       0.0       1.0  \n",
       "...          ...       ...       ...       ...  \n",
       "1685         0.0       0.0       0.0       1.0  \n",
       "16023        0.0       0.0       0.0       1.0  \n",
       "21962        0.0       0.0       0.0       1.0  \n",
       "860          0.0       0.0       0.0       1.0  \n",
       "15795        0.0       0.0       0.0       1.0  \n",
       "\n",
       "[27901 rows x 28 columns]"
      ]
     },
     "execution_count": 17,
     "metadata": {},
     "output_type": "execute_result"
    }
   ],
   "source": []
  },
  {
   "cell_type": "markdown",
   "metadata": {},
   "source": [
    "## Hyperparameter tuning with cross-validation\n"
   ]
  },
  {
   "cell_type": "code",
   "execution_count": 13,
   "metadata": {},
   "outputs": [],
   "source": [
    "from sklearn.preprocessing import StandardScaler\n",
    "from sklearn.linear_model import LinearRegression, LogisticRegression, Lasso, Ridge\n",
    "from sklearn.ensemble import RandomForestRegressor, RandomForestClassifier\n",
    "from sklearn.svm import SVR, SVC\n",
    "import xgboost as xgb\n",
    "from sklearn.model_selection import cross_val_score\n",
    "from sklearn.metrics import mean_squared_error, mean_absolute_error, r2_score\n",
    "\n",
    "models = {\n",
    "    'regression':\n",
    "        {\n",
    "        'LinearRegression': LinearRegression(),\n",
    "        'Ridge': Ridge(),\n",
    "        \"Lasso\": Lasso(),\n",
    "        'XGB': xgb.XGBRegressor(),\n",
    "        #'RandomForest': RandomForestRegressor(),\n",
    "        #'SVR': SVR()\n",
    "        },\n",
    "    'classification':\n",
    "        {\n",
    "        'LogisticRegression': LogisticRegression(),\n",
    "        'XGB': xgb.XGBClassifier(),\n",
    "        'RandomForest': RandomForestClassifier(),\n",
    "        'SVC': SVC()\n",
    "        }\n",
    "}"
   ]
  },
  {
   "cell_type": "code",
   "execution_count": 11,
   "metadata": {},
   "outputs": [],
   "source": [
    "hyperparameters = {\n",
    "    \"LinearRegression\": {},\n",
    "    \"Ridge\": {\n",
    "        \"alpha\": [0.001, 0.01, 0.1, 1, 10, 100],\n",
    "    },\n",
    "    \"Lasso\": {\n",
    "        \"alpha\": [0.001, 0.01, 0.1, 1, 10, 100],\n",
    "    },\n",
    "    \"XGB\": {\n",
    "        \"n_estimators\": [100, 200, 300],\n",
    "        \"learning_rate\": [0.01, 0.1, 0.2],\n",
    "        \"max_depth\": [3, 5, 7],\n",
    "        \"subsample\": [0.5, 1],\n",
    "    },\n",
    "    \"RandomForest\": {\n",
    "        \"n_estimators\": [100, 200, 300],\n",
    "        \"max_features\": [2, 3, 4],\n",
    "        \"max_depth\": [None, 3, 5, 10],\n",
    "    },\n",
    "    \"SVR\": {\n",
    "        \"C\": [0.1, 1, 10, 100, 1000],\n",
    "        \"gamma\": [\"scale\", \"auto\", 0.001, 0.01, 0.1, 1, 10, 100],\n",
    "        \"kernel\": [\"linear\", \"poly\", \"rbf\", \"sigmoid\"],\n",
    "    },\n",
    "}"
   ]
  },
  {
   "cell_type": "code",
   "execution_count": 12,
   "metadata": {},
   "outputs": [],
   "source": [
    "hp_grid = {\n",
    "    'LinearRegression': {},\n",
    "    'Ridge': {'alpha': [0.1, 1, 10]},\n",
    "    \"Lasso\": {'alpha': [0.1, 1, 10], 'max_iter': [1000, 2000, 3000]},\n",
    "    'XGB': {'n_estimators': [100, 200, 300], 'max_depth': [3, 5, 7]},\n",
    "    'RandomForest': {'n_estimators': [100, 200], 'max_depth': [3, 5, 7], 'criterion': [\"squared_error\"]},\n",
    "    'SVR': {'kernel': ['linear', 'poly', 'rbf', 'sigmoid'], 'C': [0.1, 1, 10]}\n",
    "}"
   ]
  },
  {
   "cell_type": "code",
   "execution_count": 15,
   "metadata": {},
   "outputs": [],
   "source": [
    "from sklearn.model_selection import GroupKFold, GridSearchCV, RandomizedSearchCV\n",
    "import pickle\n",
    "\n",
    "SCORING_METRIC = 'r2' #'neg_mean_absolute_error'\n",
    "RANDOM_STATE = 42\n",
    "def compute_cv_scores(train_df, target, n_splits, models, save_models=False):\n",
    "  \"\"\"Compute the score of each model\n",
    "\n",
    "  Arguments:\n",
    "      X {DataFrame} -- features\n",
    "      y {Series} -- target\n",
    "      n_plit {int} -- number of cv splits\n",
    "      models {Dict} -- dict of models\n",
    "\n",
    "  Returns:\n",
    "      DataFrame -- scores\n",
    "  \"\"\"\n",
    "  searches = {}\n",
    "  X = train_df.drop(columns=id_cols+[target])\n",
    "  y = train_df[target]\n",
    "  gkf = GroupKFold(n_splits=n_splits)\n",
    "  for model_name, model in models.items():\n",
    "    print(f\"Running RandomizedSearchCV for {model.__class__.__name__}\")\n",
    "    search = RandomizedSearchCV(\n",
    "            model,\n",
    "            hp_grid[model_name],\n",
    "            scoring=SCORING_METRIC\n",
    "            cv=gkf.split(X, y, groups=train_df[\"fire_id\"]),\n",
    "            refit=True,\n",
    "            random_state=RANDOM_STATE,\n",
    "            n_jobs=-1,\n",
    "        )\n",
    "    search.fit(X, y)\n",
    "    searches[model_name] = search\n",
    "\n",
    "    if save_models:\n",
    "        with open(f\"models/{model_name}.pkl\", \"wb\") as f:\n",
    "                pickle.dump(search.best_estimator_, f)\n",
    "  return searches"
   ]
  },
  {
   "cell_type": "code",
   "execution_count": 16,
   "metadata": {},
   "outputs": [
    {
     "name": "stdout",
     "output_type": "stream",
     "text": [
      "Running RandomizedSearchCV for LinearRegression\n"
     ]
    },
    {
     "name": "stderr",
     "output_type": "stream",
     "text": [
      "c:\\ProgramData\\Anaconda3\\envs\\wildfirepy38\\lib\\site-packages\\sklearn\\model_selection\\_search.py:307: UserWarning: The total space of parameters 1 is smaller than n_iter=10. Running 1 iterations. For exhaustive searches, use GridSearchCV.\n",
      "  warnings.warn(\n"
     ]
    },
    {
     "name": "stdout",
     "output_type": "stream",
     "text": [
      "Running RandomizedSearchCV for Ridge\n"
     ]
    },
    {
     "name": "stderr",
     "output_type": "stream",
     "text": [
      "c:\\ProgramData\\Anaconda3\\envs\\wildfirepy38\\lib\\site-packages\\sklearn\\model_selection\\_search.py:307: UserWarning: The total space of parameters 3 is smaller than n_iter=10. Running 3 iterations. For exhaustive searches, use GridSearchCV.\n",
      "  warnings.warn(\n",
      "c:\\ProgramData\\Anaconda3\\envs\\wildfirepy38\\lib\\site-packages\\sklearn\\linear_model\\_ridge.py:211: LinAlgWarning: Ill-conditioned matrix (rcond=8.03018e-17): result may not be accurate.\n",
      "  return linalg.solve(A, Xy, assume_a=\"pos\", overwrite_a=True).T\n",
      "c:\\ProgramData\\Anaconda3\\envs\\wildfirepy38\\lib\\site-packages\\sklearn\\model_selection\\_search.py:307: UserWarning: The total space of parameters 9 is smaller than n_iter=10. Running 9 iterations. For exhaustive searches, use GridSearchCV.\n",
      "  warnings.warn(\n"
     ]
    },
    {
     "name": "stdout",
     "output_type": "stream",
     "text": [
      "Running RandomizedSearchCV for Lasso\n",
      "Running RandomizedSearchCV for XGBRegressor\n"
     ]
    },
    {
     "name": "stderr",
     "output_type": "stream",
     "text": [
      "c:\\ProgramData\\Anaconda3\\envs\\wildfirepy38\\lib\\site-packages\\sklearn\\model_selection\\_search.py:307: UserWarning: The total space of parameters 9 is smaller than n_iter=10. Running 9 iterations. For exhaustive searches, use GridSearchCV.\n",
      "  warnings.warn(\n"
     ]
    }
   ],
   "source": [
    "searches = compute_cv_scores(train_df, target, 5, models['regression'])"
   ]
  },
  {
   "cell_type": "code",
   "execution_count": 37,
   "metadata": {},
   "outputs": [
    {
     "name": "stdout",
     "output_type": "stream",
     "text": [
      "LinearRegression\n",
      "Ridge\n",
      "Lasso\n",
      "XGB\n"
     ]
    },
    {
     "data": {
      "text/html": [
       "<div>\n",
       "<style scoped>\n",
       "    .dataframe tbody tr th:only-of-type {\n",
       "        vertical-align: middle;\n",
       "    }\n",
       "\n",
       "    .dataframe tbody tr th {\n",
       "        vertical-align: top;\n",
       "    }\n",
       "\n",
       "    .dataframe thead th {\n",
       "        text-align: right;\n",
       "    }\n",
       "</style>\n",
       "<table border=\"1\" class=\"dataframe\">\n",
       "  <thead>\n",
       "    <tr style=\"text-align: right;\">\n",
       "      <th></th>\n",
       "      <th>LinearRegression</th>\n",
       "      <th>Ridge</th>\n",
       "      <th>Lasso</th>\n",
       "      <th>XGB</th>\n",
       "    </tr>\n",
       "  </thead>\n",
       "  <tbody>\n",
       "    <tr>\n",
       "      <th>cv_results</th>\n",
       "      <td>{'mean_fit_time': [0.0779109001159668], 'std_f...</td>\n",
       "      <td>{'mean_fit_time': [0.05377631187438965, 0.0502...</td>\n",
       "      <td>{'mean_fit_time': [1.7760169506072998, 1.67909...</td>\n",
       "      <td>{'mean_fit_time': [2.17462100982666, 4.4664372...</td>\n",
       "    </tr>\n",
       "    <tr>\n",
       "      <th>best_params</th>\n",
       "      <td>{}</td>\n",
       "      <td>{'alpha': 10}</td>\n",
       "      <td>{'max_iter': 1000, 'alpha': 10}</td>\n",
       "      <td>{'n_estimators': 100, 'max_depth': 7}</td>\n",
       "    </tr>\n",
       "    <tr>\n",
       "      <th>best_score</th>\n",
       "      <td>-1583.228356</td>\n",
       "      <td>-1578.084673</td>\n",
       "      <td>-1538.997989</td>\n",
       "      <td>-3060.71758</td>\n",
       "    </tr>\n",
       "    <tr>\n",
       "      <th>std_dev</th>\n",
       "      <td>293.963706</td>\n",
       "      <td>293.996913</td>\n",
       "      <td>291.699443</td>\n",
       "      <td>2386.477759</td>\n",
       "    </tr>\n",
       "  </tbody>\n",
       "</table>\n",
       "</div>"
      ],
      "text/plain": [
       "                                              LinearRegression  \\\n",
       "cv_results   {'mean_fit_time': [0.0779109001159668], 'std_f...   \n",
       "best_params                                                 {}   \n",
       "best_score                                        -1583.228356   \n",
       "std_dev                                             293.963706   \n",
       "\n",
       "                                                         Ridge  \\\n",
       "cv_results   {'mean_fit_time': [0.05377631187438965, 0.0502...   \n",
       "best_params                                      {'alpha': 10}   \n",
       "best_score                                        -1578.084673   \n",
       "std_dev                                             293.996913   \n",
       "\n",
       "                                                         Lasso  \\\n",
       "cv_results   {'mean_fit_time': [1.7760169506072998, 1.67909...   \n",
       "best_params                    {'max_iter': 1000, 'alpha': 10}   \n",
       "best_score                                        -1538.997989   \n",
       "std_dev                                             291.699443   \n",
       "\n",
       "                                                           XGB  \n",
       "cv_results   {'mean_fit_time': [2.17462100982666, 4.4664372...  \n",
       "best_params              {'n_estimators': 100, 'max_depth': 7}  \n",
       "best_score                                         -3060.71758  \n",
       "std_dev                                            2386.477759  "
      ]
     },
     "execution_count": 37,
     "metadata": {},
     "output_type": "execute_result"
    }
   ],
   "source": [
    "searches_details = {}\n",
    "for model in searches.keys():\n",
    "  print(model)\n",
    "  model_details = {}\n",
    "  model_details['cv_results'] = searches[model].cv_results_\n",
    "  model_details['best_params'] = searches[model].best_params_\n",
    "  model_details['best_score'] = searches[model].best_score_\n",
    "  model_details['std_dev'] = searches[model].cv_results_['std_test_score'][searches[model].best_index_]\n",
    "  searches_details[model] = model_details\n",
    "\n",
    "pd.DataFrame(searches_details)"
   ]
  },
  {
   "cell_type": "code",
   "execution_count": 38,
   "metadata": {},
   "outputs": [
    {
     "data": {
      "text/plain": [
       "{'mean_fit_time': array([ 2.17462101,  4.46643724,  6.68123202,  4.03917656,  7.8571671 ,\n",
       "        11.52223654,  5.87967749, 10.53103342, 12.60266347]),\n",
       " 'std_fit_time': array([0.1745525 , 0.41413394, 0.36838021, 0.4259646 , 0.72106473,\n",
       "        0.8267958 , 0.56617737, 0.86063975, 0.2274547 ]),\n",
       " 'mean_score_time': array([0.02426043, 0.03773971, 0.04237127, 0.03615913, 0.05848527,\n",
       "        0.07861562, 0.05125632, 0.0628777 , 0.06335649]),\n",
       " 'std_score_time': array([0.00173954, 0.0128015 , 0.00333747, 0.00519146, 0.00808273,\n",
       "        0.00699355, 0.00811811, 0.00949114, 0.01581755]),\n",
       " 'param_n_estimators': masked_array(data=[100, 200, 300, 100, 200, 300, 100, 200, 300],\n",
       "              mask=[False, False, False, False, False, False, False, False,\n",
       "                    False],\n",
       "        fill_value='?',\n",
       "             dtype=object),\n",
       " 'param_max_depth': masked_array(data=[3, 3, 3, 5, 5, 5, 7, 7, 7],\n",
       "              mask=[False, False, False, False, False, False, False, False,\n",
       "                    False],\n",
       "        fill_value='?',\n",
       "             dtype=object),\n",
       " 'params': [{'n_estimators': 100, 'max_depth': 3},\n",
       "  {'n_estimators': 200, 'max_depth': 3},\n",
       "  {'n_estimators': 300, 'max_depth': 3},\n",
       "  {'n_estimators': 100, 'max_depth': 5},\n",
       "  {'n_estimators': 200, 'max_depth': 5},\n",
       "  {'n_estimators': 300, 'max_depth': 5},\n",
       "  {'n_estimators': 100, 'max_depth': 7},\n",
       "  {'n_estimators': 200, 'max_depth': 7},\n",
       "  {'n_estimators': 300, 'max_depth': 7}],\n",
       " 'split0_test_score': array([-7268.83385405, -7375.96518381, -7416.76516744, -7482.59440845,\n",
       "        -7680.66021903, -7746.25809736, -7797.62264828, -7978.56199625,\n",
       "        -8036.61897039]),\n",
       " 'split1_test_score': array([-1359.33419485, -1386.76150717, -1375.15078227, -1471.32840139,\n",
       "        -1563.82949684, -1624.23818831, -1710.32026467, -1852.5136317 ,\n",
       "        -1926.97117708]),\n",
       " 'split2_test_score': array([-1495.13477715, -1629.95598413, -1845.33150454, -1464.19575132,\n",
       "        -1615.33520573, -1665.52185503, -1589.16562425, -1686.27533456,\n",
       "        -1743.57995117]),\n",
       " 'split3_test_score': array([-2933.14225533, -3212.80904264, -3261.29707703, -4762.73805036,\n",
       "        -4916.14924061, -5009.90292372, -1774.95251994, -1949.00483392,\n",
       "        -2027.50759659]),\n",
       " 'split4_test_score': array([-2882.63002732, -3157.57604181, -3260.47204408, -2453.12584261,\n",
       "        -2582.39276129, -2646.52538825, -2431.52684037, -2590.4020261 ,\n",
       "        -2643.0913801 ]),\n",
       " 'mean_test_score': array([-3187.81502174, -3352.61355191, -3431.80331507, -3526.79649083,\n",
       "        -3671.6733847 , -3738.48929053, -3060.7175795 , -3211.35156451,\n",
       "        -3275.55381507]),\n",
       " 'std_test_score': array([2145.75018831, 2148.35130473, 2130.02629997, 2315.50980312,\n",
       "        2344.30204676, 2351.09933059, 2386.47775896, 2403.23494202,\n",
       "        2399.62449393]),\n",
       " 'rank_test_score': array([2, 5, 6, 7, 8, 9, 1, 3, 4])}"
      ]
     },
     "execution_count": 38,
     "metadata": {},
     "output_type": "execute_result"
    }
   ],
   "source": [
    "searches['XGB'].cv_results_"
   ]
  },
  {
   "cell_type": "code",
   "execution_count": 21,
   "metadata": {},
   "outputs": [
    {
     "ename": "TypeError",
     "evalue": "'dict_keys' object is not subscriptable",
     "output_type": "error",
     "traceback": [
      "\u001b[1;31m---------------------------------------------------------------------------\u001b[0m",
      "\u001b[1;31mTypeError\u001b[0m                                 Traceback (most recent call last)",
      "\u001b[1;32mc:\\MIT\\RA\\fire_response\\train_models.ipynb Cell 19\u001b[0m line \u001b[0;36m1\n\u001b[1;32m----> <a href='vscode-notebook-cell:/c%3A/MIT/RA/fire_response/train_models.ipynb#X55sZmlsZQ%3D%3D?line=0'>1</a>\u001b[0m searches\u001b[39m.\u001b[39;49mkeys()[\u001b[39m0\u001b[39;49m]\n",
      "\u001b[1;31mTypeError\u001b[0m: 'dict_keys' object is not subscriptable"
     ]
    }
   ],
   "source": [
    "searches.keys()"
   ]
  },
  {
   "cell_type": "code",
   "execution_count": null,
   "metadata": {},
   "outputs": [],
   "source": [
    "import pickle\n",
    "filename = \"cv_scores_and_params.pkl\"\n",
    "with open(filename, \"wb\") as file:\n",
    "    pickle.dump((scores, best_params, cv_results, best_estimators), file)\n"
   ]
  },
  {
   "cell_type": "code",
   "execution_count": null,
   "metadata": {},
   "outputs": [
    {
     "name": "stdout",
     "output_type": "stream",
     "text": [
      "-1505.7074005633647\n",
      "{}\n",
      "-1700.3869589388794\n",
      "-0.0018809173035405635\n",
      "-0.0018809173035405635\n"
     ]
    }
   ],
   "source": [
    "model = LinearRegression()\n",
    "\n",
    "X = train_df.drop(columns=id_cols+[target])\n",
    "y = train_df[target]\n",
    "gkf = GroupKFold(n_splits=5)\n",
    "search = GridSearchCV(\n",
    "    model,\n",
    "    {},\n",
    "    scoring=\"neg_mean_absolute_error\",\n",
    "    cv=gkf.split(X, y, groups=train_df[\"fire_id\"]),\n",
    "    refit=True,\n",
    ")\n",
    "search.fit(X, y)\n",
    "print(search.best_score_)\n",
    "print(search.best_params_)\n",
    "print(search.score(X_test, y_test))\n",
    "print(search.best_estimator_.score(X_test, y_test))\n",
    "print(search.best_estimator_.score(X_test, y_test))"
   ]
  },
  {
   "cell_type": "code",
   "execution_count": 98,
   "metadata": {},
   "outputs": [
    {
     "data": {
      "text/plain": [
       "{'LinearRegression': -0.0018809173035405635}"
      ]
     },
     "execution_count": 98,
     "metadata": {},
     "output_type": "execute_result"
    }
   ],
   "source": [
    "test_scores = {}\n",
    "for model_name in models['regression']:\n",
    "  estimator = best_estimators[model_name]\n",
    "  #estimator.fit(train_df.drop(columns=id_cols+[target]), train_df[target])\n",
    "  test_scores[model_name] = estimator.score(X_test, y_test)\n",
    "  break\n",
    "test_scores"
   ]
  },
  {
   "cell_type": "code",
   "execution_count": 88,
   "metadata": {},
   "outputs": [
    {
     "data": {
      "text/html": [
       "<style>#sk-container-id-7 {color: black;}#sk-container-id-7 pre{padding: 0;}#sk-container-id-7 div.sk-toggleable {background-color: white;}#sk-container-id-7 label.sk-toggleable__label {cursor: pointer;display: block;width: 100%;margin-bottom: 0;padding: 0.3em;box-sizing: border-box;text-align: center;}#sk-container-id-7 label.sk-toggleable__label-arrow:before {content: \"▸\";float: left;margin-right: 0.25em;color: #696969;}#sk-container-id-7 label.sk-toggleable__label-arrow:hover:before {color: black;}#sk-container-id-7 div.sk-estimator:hover label.sk-toggleable__label-arrow:before {color: black;}#sk-container-id-7 div.sk-toggleable__content {max-height: 0;max-width: 0;overflow: hidden;text-align: left;background-color: #f0f8ff;}#sk-container-id-7 div.sk-toggleable__content pre {margin: 0.2em;color: black;border-radius: 0.25em;background-color: #f0f8ff;}#sk-container-id-7 input.sk-toggleable__control:checked~div.sk-toggleable__content {max-height: 200px;max-width: 100%;overflow: auto;}#sk-container-id-7 input.sk-toggleable__control:checked~label.sk-toggleable__label-arrow:before {content: \"▾\";}#sk-container-id-7 div.sk-estimator input.sk-toggleable__control:checked~label.sk-toggleable__label {background-color: #d4ebff;}#sk-container-id-7 div.sk-label input.sk-toggleable__control:checked~label.sk-toggleable__label {background-color: #d4ebff;}#sk-container-id-7 input.sk-hidden--visually {border: 0;clip: rect(1px 1px 1px 1px);clip: rect(1px, 1px, 1px, 1px);height: 1px;margin: -1px;overflow: hidden;padding: 0;position: absolute;width: 1px;}#sk-container-id-7 div.sk-estimator {font-family: monospace;background-color: #f0f8ff;border: 1px dotted black;border-radius: 0.25em;box-sizing: border-box;margin-bottom: 0.5em;}#sk-container-id-7 div.sk-estimator:hover {background-color: #d4ebff;}#sk-container-id-7 div.sk-parallel-item::after {content: \"\";width: 100%;border-bottom: 1px solid gray;flex-grow: 1;}#sk-container-id-7 div.sk-label:hover label.sk-toggleable__label {background-color: #d4ebff;}#sk-container-id-7 div.sk-serial::before {content: \"\";position: absolute;border-left: 1px solid gray;box-sizing: border-box;top: 0;bottom: 0;left: 50%;z-index: 0;}#sk-container-id-7 div.sk-serial {display: flex;flex-direction: column;align-items: center;background-color: white;padding-right: 0.2em;padding-left: 0.2em;position: relative;}#sk-container-id-7 div.sk-item {position: relative;z-index: 1;}#sk-container-id-7 div.sk-parallel {display: flex;align-items: stretch;justify-content: center;background-color: white;position: relative;}#sk-container-id-7 div.sk-item::before, #sk-container-id-7 div.sk-parallel-item::before {content: \"\";position: absolute;border-left: 1px solid gray;box-sizing: border-box;top: 0;bottom: 0;left: 50%;z-index: -1;}#sk-container-id-7 div.sk-parallel-item {display: flex;flex-direction: column;z-index: 1;position: relative;background-color: white;}#sk-container-id-7 div.sk-parallel-item:first-child::after {align-self: flex-end;width: 50%;}#sk-container-id-7 div.sk-parallel-item:last-child::after {align-self: flex-start;width: 50%;}#sk-container-id-7 div.sk-parallel-item:only-child::after {width: 0;}#sk-container-id-7 div.sk-dashed-wrapped {border: 1px dashed gray;margin: 0 0.4em 0.5em 0.4em;box-sizing: border-box;padding-bottom: 0.4em;background-color: white;}#sk-container-id-7 div.sk-label label {font-family: monospace;font-weight: bold;display: inline-block;line-height: 1.2em;}#sk-container-id-7 div.sk-label-container {text-align: center;}#sk-container-id-7 div.sk-container {/* jupyter's `normalize.less` sets `[hidden] { display: none; }` but bootstrap.min.css set `[hidden] { display: none !important; }` so we also need the `!important` here to be able to override the default hidden behavior on the sphinx rendered scikit-learn.org. See: https://github.com/scikit-learn/scikit-learn/issues/21755 */display: inline-block !important;position: relative;}#sk-container-id-7 div.sk-text-repr-fallback {display: none;}</style><div id=\"sk-container-id-7\" class=\"sk-top-container\"><div class=\"sk-text-repr-fallback\"><pre>LinearRegression()</pre><b>In a Jupyter environment, please rerun this cell to show the HTML representation or trust the notebook. <br />On GitHub, the HTML representation is unable to render, please try loading this page with nbviewer.org.</b></div><div class=\"sk-container\" hidden><div class=\"sk-item\"><div class=\"sk-estimator sk-toggleable\"><input class=\"sk-toggleable__control sk-hidden--visually\" id=\"sk-estimator-id-15\" type=\"checkbox\" checked><label for=\"sk-estimator-id-15\" class=\"sk-toggleable__label sk-toggleable__label-arrow\">LinearRegression</label><div class=\"sk-toggleable__content\"><pre>LinearRegression()</pre></div></div></div></div></div>"
      ],
      "text/plain": [
       "LinearRegression()"
      ]
     },
     "execution_count": 88,
     "metadata": {},
     "output_type": "execute_result"
    }
   ],
   "source": [
    "estimator.fit(train_df.drop(columns=id_cols+[target]), train_df[target])"
   ]
  },
  {
   "cell_type": "code",
   "execution_count": 95,
   "metadata": {},
   "outputs": [
    {
     "data": {
      "image/png": "[encoded data removed]",
      "text/plain": [
       "<Figure size 1200x600 with 1 Axes>"
      ]
     },
     "metadata": {},
     "output_type": "display_data"
    }
   ],
   "source": [
    "plt.figure(figsize=(12, 6))\n",
    "\n",
    "colors = [\"green\" if c > 0 else \"red\" for c in estimator.coef_]\n",
    "bars = plt.barh(X_test.columns, estimator.coef_, color=colors)\n",
    "\n",
    "# Annotate the bars with their values\n",
    "for bar in bars:\n",
    "    width = bar.get_width()\n",
    "    label_x_pos = width if width > 0 else width - 0.1\n",
    "    plt.text(\n",
    "        label_x_pos,\n",
    "        bar.get_y() + bar.get_height() / 2,\n",
    "        f\"{width:.2f}\",\n",
    "        va=\"center\",\n",
    "        ha=\"right\" if width < 0 else \"left\",\n",
    "    )\n",
    "\n",
    "plt.title(r\"Feature importance ($\\beta$ coefficients)\")\n",
    "plt.show()"
   ]
  },
  {
   "cell_type": "code",
   "execution_count": 97,
   "metadata": {},
   "outputs": [
    {
     "name": "stdout",
     "output_type": "stream",
     "text": [
      "R2:  -0.0018809173035405635\n"
     ]
    },
    {
     "data": {
      "text/plain": [
       "<matplotlib.collections.PathCollection at 0x23983b60b50>"
      ]
     },
     "execution_count": 97,
     "metadata": {},
     "output_type": "execute_result"
    },
    {
     "data": {
      "image/png": "[encoded data removed]",
      "text/plain": [
       "<Figure size 640x480 with 1 Axes>"
      ]
     },
     "metadata": {},
     "output_type": "display_data"
    }
   ],
   "source": [
    "y_pred = estimator.predict(X_test)\n",
    "r2 = r2_score(y_test, y_pred)\n",
    "print(\"R2: \", r2)\n",
    "plt.scatter(y_test, y_pred)"
   ]
  },
  {
   "cell_type": "code",
   "execution_count": null,
   "metadata": {},
   "outputs": [],
   "source": []
  },
  {
   "cell_type": "code",
   "execution_count": null,
   "metadata": {},
   "outputs": [],
   "source": [
    "## Interpretation\n",
    ".plot_importance(bst)\n",
    "xgb.to_graphviz(bst, num_trees=2)"
   ]
  },
  {
   "cell_type": "code",
   "execution_count": 150,
   "metadata": {},
   "outputs": [
    {
     "data": {
      "text/plain": [
       "2.687558603775564e-06"
      ]
     },
     "execution_count": 150,
     "metadata": {},
     "output_type": "execute_result"
    }
   ],
   "source": [
    "model = LassoCV(cv=gkf.split(X, y, groups=train_df['fire_id']))\n",
    "reg = model.fit(X, y)\n",
    "reg.score(X, y)"
   ]
  },
  {
   "cell_type": "code",
   "execution_count": 149,
   "metadata": {},
   "outputs": [
    {
     "data": {
      "text/plain": [
       "array([-0.00000000e+00, -1.88066245e-05, -0.00000000e+00, -0.00000000e+00,\n",
       "        0.00000000e+00,  0.00000000e+00, -0.00000000e+00, -0.00000000e+00,\n",
       "       -0.00000000e+00, -0.00000000e+00, -0.00000000e+00,  0.00000000e+00,\n",
       "        0.00000000e+00,  0.00000000e+00,  0.00000000e+00, -0.00000000e+00,\n",
       "       -0.00000000e+00,  0.00000000e+00,  0.00000000e+00, -0.00000000e+00,\n",
       "        0.00000000e+00, -0.00000000e+00,  0.00000000e+00,  0.00000000e+00,\n",
       "       -0.00000000e+00])"
      ]
     },
     "execution_count": 149,
     "metadata": {},
     "output_type": "execute_result"
    }
   ],
   "source": [
    "param_dist = {\"max_depth\": [3, None],\n",
    "              \"max_features\": randint(1, 9),\n",
    "              \"min_samples_leaf\": randint(1, 9),\n",
    "              \"criterion\": [\"gini\", \"entropy\"]}"
   ]
  },
  {
   "cell_type": "code",
   "execution_count": null,
   "metadata": {},
   "outputs": [],
   "source": [
    "from sklearn.model_selection import RandomizedSearchCV"
   ]
  },
  {
   "cell_type": "code",
   "execution_count": null,
   "metadata": {},
   "outputs": [],
   "source": [
    "c_space = np.logspace(-5, 8, 15)\n",
    "param_grid = {'C': c_space, 'penalty': ['l1', 'l2']}"
   ]
  },
  {
   "cell_type": "code",
   "execution_count": null,
   "metadata": {},
   "outputs": [],
   "source": [
    "# possible improvements:\n",
    "# - add more features\n",
    "# - kfold stratified per year\n",
    "# -"
   ]
  },
  {
   "cell_type": "code",
   "execution_count": 131,
   "metadata": {},
   "outputs": [
    {
     "name": "stdout",
     "output_type": "stream",
     "text": [
      "[    0     1     2 ... 28668 28669 28670]\n",
      "[    0     1     2 ... 28668 28669 28670]\n",
      "[    0     1     2 ... 28668 28669 28670]\n",
      "[    0     1     2 ... 28664 28665 28666]\n",
      "[    0     1     2 ... 28668 28669 28670]\n",
      "[    0     1     2 ... 28668 28669 28670]\n",
      "[    0     1     2 ... 28668 28669 28670]\n",
      "[    0     1     2 ... 28668 28669 28670]\n",
      "[    3     4     5 ... 28668 28669 28670]\n",
      "[    0     1     2 ... 28668 28669 28670]\n"
     ]
    }
   ],
   "source": [
    "for x,y2 in :\n",
    "  print(x)"
   ]
  },
  {
   "cell_type": "code",
   "execution_count": 107,
   "metadata": {},
   "outputs": [
    {
     "name": "stdout",
     "output_type": "stream",
     "text": [
      "Train set shape: (27646, 28)\n"
     ]
    }
   ],
   "source": [
    "print(f\"Train set shape: {train_df.shape}\")"
   ]
  },
  {
   "cell_type": "code",
   "execution_count": 92,
   "metadata": {},
   "outputs": [],
   "source": [
    "model = LassoCV()\n",
    "reg = model.fit(X, y)"
   ]
  },
  {
   "cell_type": "code",
   "execution_count": 94,
   "metadata": {},
   "outputs": [
    {
     "data": {
      "text/plain": [
       "2.5966450493131177e-05"
      ]
     },
     "execution_count": 94,
     "metadata": {},
     "output_type": "execute_result"
    }
   ],
   "source": [
    "reg.score(X, y)"
   ]
  },
  {
   "cell_type": "code",
   "execution_count": null,
   "metadata": {},
   "outputs": [],
   "source": [
    "def predict(X_train, y_train, X_test, y_test, model=LinearRegression()):\n",
    "  \"\"\"Train and predict using a model\n",
    "\n",
    "  Arguments:\n",
    "      X_train {DataFrame} -- training data\n",
    "      y_train {Series} -- training target\n",
    "      X_test {DataFrame} -- test data\n",
    "      y_test {Series} -- test target\n",
    "\n",
    "  Keyword Arguments:\n",
    "      model {sklearn model} -- model to use (default: {LinearRegression()})\n",
    "\n",
    "  Returns:\n",
    "      y_pred {Series} -- predictions\n",
    "      model {sklearn model} -- trained model\n",
    "  \"\"\"\n",
    "  model.fit(X_train, y_train)\n",
    "  y_pred = model.predict(X_test)\n",
    "  return y_pred, model"
   ]
  },
  {
   "cell_type": "code",
   "execution_count": null,
   "metadata": {},
   "outputs": [],
   "source": [
    "from sklearn.model_selection import KFold\n",
    "KFold(n_splits=5, shuffle=True, random_state=42)"
   ]
  },
  {
   "cell_type": "code",
   "execution_count": null,
   "metadata": {},
   "outputs": [],
   "source": [
    "print(\"Intercept: \", linear_regression_model.intercept_)\n",
    "print(\"Coefficients: \", linear_regression_model.coef_)\n",
    "y_pred = linear_regression_model.predict(X_test)\n",
    "r2 = r2_score(y_test, y_pred)\n",
    "print(\"R2: \", r2)\n",
    "plt.scatter(y_test, y_pred)\n",
    "plt.xlabel('True Values')\n",
    "plt.ylabel('Predicted Values')\n",
    "plt.title('True vs Predicted Values for Linear Regression Model')\n",
    "plt.show()"
   ]
  }
 ],
 "metadata": {
  "kernelspec": {
   "display_name": "wildfirepy38",
   "language": "python",
   "name": "python3"
  },
  "language_info": {
   "codemirror_mode": {
    "name": "ipython",
    "version": 3
   },
   "file_extension": ".py",
   "mimetype": "text/x-python",
   "name": "python",
   "nbconvert_exporter": "python",
   "pygments_lexer": "ipython3",
   "version": "3.8.18"
  }
 },
 "nbformat": 4,
 "nbformat_minor": 2
}
